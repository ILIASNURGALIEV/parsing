{
 "cells": [
  {
   "cell_type": "code",
   "execution_count": 1,
   "id": "e55edc8e",
   "metadata": {},
   "outputs": [],
   "source": [
    "import requests\n",
    "from bs4 import BeautifulSoup\n",
    "import time\n",
    "import pandas as pd"
   ]
  },
  {
   "cell_type": "code",
   "execution_count": 2,
   "id": "6f9c31b3",
   "metadata": {},
   "outputs": [
    {
     "data": {
      "text/html": [
       "<style>.container {width:95% !important;}</style>"
      ],
      "text/plain": [
       "<IPython.core.display.HTML object>"
      ]
     },
     "metadata": {},
     "output_type": "display_data"
    }
   ],
   "source": [
    "# расширяем поле ноутбука для удобства\n",
    "from IPython.core.display import display, HTML\n",
    "display(HTML('<style>.container {width:95% !important;}</style>'))\n",
    "\n",
    "# отключаем предупреждения\n",
    "import warnings\n",
    "warnings.filterwarnings('ignore')"
   ]
  },
  {
   "cell_type": "markdown",
   "id": "388a6e3a",
   "metadata": {},
   "source": [
    "# Парсинг список песен"
   ]
  },
  {
   "cell_type": "code",
   "execution_count": 3,
   "id": "4da9b1f7",
   "metadata": {},
   "outputs": [],
   "source": [
    "urls = ['https://text-you.ru/songs/%D0%B3%D1%80%D0%B8%D0%B3%D0%BE%D1%80%D0%B8%D0%B9+%D0%BB%D0%B5%D0%BF%D1%81.html',\n",
    "      'https://text-you.ru/songs/%D0%B3%D1%80%D0%B8%D0%B3%D0%BE%D1%80%D0%B8%D0%B9+%D0%BB%D0%B5%D0%BF%D1%81-2.html',\n",
    "      'https://text-you.ru/songs/%D0%B3%D1%80%D0%B8%D0%B3%D0%BE%D1%80%D0%B8%D0%B9+%D0%BB%D0%B5%D0%BF%D1%81-3.html']"
   ]
  },
  {
   "cell_type": "code",
   "execution_count": 4,
   "id": "2cf9f201",
   "metadata": {},
   "outputs": [
    {
     "ename": "NameError",
     "evalue": "name 'songs_list' is not defined",
     "output_type": "error",
     "traceback": [
      "\u001b[1;31m---------------------------------------------------------------------------\u001b[0m",
      "\u001b[1;31mNameError\u001b[0m                                 Traceback (most recent call last)",
      "\u001b[1;32m~\\AppData\\Local\\Temp\\ipykernel_9732\\2088430738.py\u001b[0m in \u001b[0;36m<module>\u001b[1;34m\u001b[0m\n\u001b[1;32m----> 1\u001b[1;33m \u001b[0msongs_list\u001b[0m\u001b[1;33m.\u001b[0m\u001b[0mstatus_code\u001b[0m\u001b[1;33m\u001b[0m\u001b[1;33m\u001b[0m\u001b[0m\n\u001b[0m",
      "\u001b[1;31mNameError\u001b[0m: name 'songs_list' is not defined"
     ]
    }
   ],
   "source": [
    "songs_list.status_code"
   ]
  },
  {
   "cell_type": "code",
   "execution_count": 5,
   "id": "bb136438",
   "metadata": {},
   "outputs": [
    {
     "name": "stdout",
     "output_type": "stream",
     "text": [
      "https://text-you.ru/rus_text_pesni/rus_text_pesni/17682-grigorijj-leps-ja-stanu-vodopadom.html\n",
      "https://text-you.ru/rus_text_pesni/rus_text_pesni/17682-grigorijj-leps-ja-stanu-vodopadom.html\n",
      "https://text-you.ru/rus_text_pesni/rus_text_pesni/11733-grigorijj-leps-zima.html\n",
      "https://text-you.ru/rus_text_pesni/rus_text_pesni/11733-grigorijj-leps-zima.html\n",
      "https://text-you.ru/rus_text_pesni/rus_text_pesni/76369-grigorijj-leps-rodina-mat.html\n",
      "https://text-you.ru/rus_text_pesni/rus_text_pesni/76369-grigorijj-leps-rodina-mat.html\n",
      "https://text-you.ru/rus_text_pesni/rus_text_pesni/4557-grigorijj-leps-natali.html\n",
      "https://text-you.ru/rus_text_pesni/rus_text_pesni/4557-grigorijj-leps-natali.html\n",
      "https://text-you.ru/rus_text_pesni/rus_text_pesni/4560-grigorijj-leps-labirint.html\n",
      "https://text-you.ru/rus_text_pesni/rus_text_pesni/4560-grigorijj-leps-labirint.html\n",
      "https://text-you.ru/rus_text_pesni/rus_text_pesni/4569-grigorijj-leps-rjumka-vodki-na-stole.html\n",
      "https://text-you.ru/rus_text_pesni/rus_text_pesni/4569-grigorijj-leps-rjumka-vodki-na-stole.html\n",
      "https://text-you.ru/rus_text_pesni/rus_text_pesni/10162-grigorijj-leps-ona.html\n",
      "https://text-you.ru/rus_text_pesni/rus_text_pesni/10162-grigorijj-leps-ona.html\n",
      "https://text-you.ru/rus_text_pesni/rus_text_pesni/11557-grigorijj-leps-nastojashhaja-zhenshhina.html\n",
      "https://text-you.ru/rus_text_pesni/rus_text_pesni/11557-grigorijj-leps-nastojashhaja-zhenshhina.html\n",
      "https://text-you.ru/rus_text_pesni/rus_text_pesni/21665-grigorijj-leps-ja-schastlivyjj.html\n",
      "https://text-you.ru/rus_text_pesni/rus_text_pesni/21665-grigorijj-leps-ja-schastlivyjj.html\n",
      "https://text-you.ru/rus_text_pesni/rus_text_pesni/14487-grigorijj-leps-spasibo-rebjata.html\n",
      "https://text-you.ru/rus_text_pesni/rus_text_pesni/14487-grigorijj-leps-spasibo-rebjata.html\n",
      "https://text-you.ru/rus_text_pesni/rus_text_pesni/38642-grigorijj-leps-ja-podnimaju-ruki.html\n",
      "https://text-you.ru/rus_text_pesni/rus_text_pesni/38642-grigorijj-leps-ja-podnimaju-ruki.html\n",
      "https://text-you.ru/rus_text_pesni/rus_text_pesni/4559-grigorijj-leps-vjuga.html\n",
      "https://text-you.ru/rus_text_pesni/rus_text_pesni/4559-grigorijj-leps-vjuga.html\n",
      "https://text-you.ru/rus_text_pesni/rus_text_pesni/10159-grigorijj-leps-bozhe-kak-dolgo.html\n",
      "https://text-you.ru/rus_text_pesni/rus_text_pesni/10159-grigorijj-leps-bozhe-kak-dolgo.html\n",
      "https://text-you.ru/rus_text_pesni/rus_text_pesni/4558-grigorijj-leps-ja-tebja-ne-ljublju.html\n",
      "https://text-you.ru/rus_text_pesni/rus_text_pesni/4558-grigorijj-leps-ja-tebja-ne-ljublju.html\n",
      "https://text-you.ru/rus_text_pesni/rus_text_pesni/27924-grigorijj-leps-gospodi-dajj-mne-sil.html\n",
      "https://text-you.ru/rus_text_pesni/rus_text_pesni/27924-grigorijj-leps-gospodi-dajj-mne-sil.html\n",
      "https://text-you.ru/rus_text_pesni/rus_text_pesni/22663-grigorijj-leps-ja-vernu-tebja.html\n",
      "https://text-you.ru/rus_text_pesni/rus_text_pesni/22663-grigorijj-leps-ja-vernu-tebja.html\n",
      "https://text-you.ru/rus_text_pesni/rus_text_pesni/4556-grigorijj-leps-rasskazhi.html\n",
      "https://text-you.ru/rus_text_pesni/rus_text_pesni/4556-grigorijj-leps-rasskazhi.html\n",
      "https://text-you.ru/rus_text_pesni/rus_text_pesni/21320-grigorijj-leps-london.html\n",
      "https://text-you.ru/rus_text_pesni/rus_text_pesni/21320-grigorijj-leps-london.html\n",
      "https://text-you.ru/rus_text_pesni/rus_text_pesni/23848-grigorijj-leps-staryjj-chjort.html\n",
      "https://text-you.ru/rus_text_pesni/rus_text_pesni/23848-grigorijj-leps-staryjj-chjort.html\n",
      "https://text-you.ru/rus_text_pesni/rus_text_pesni/4555-grigorijj-leps-ne-zhdi-menja-i-slava.html\n",
      "https://text-you.ru/rus_text_pesni/rus_text_pesni/4555-grigorijj-leps-ne-zhdi-menja-i-slava.html\n",
      "https://text-you.ru/rus_text_pesni/rus_text_pesni/4561-grigorijj-leps-parus.html\n",
      "https://text-you.ru/rus_text_pesni/rus_text_pesni/4561-grigorijj-leps-parus.html\n",
      "https://text-you.ru/rus_text_pesni/rus_text_pesni/4562-grigorijj-leps-ukhodi-krasivo.html\n",
      "https://text-you.ru/rus_text_pesni/rus_text_pesni/4562-grigorijj-leps-ukhodi-krasivo.html\n",
      "https://text-you.ru/rus_text_pesni/rus_text_pesni/10167-grigorijj-leps-rokovaja-ljubov.html\n",
      "https://text-you.ru/rus_text_pesni/rus_text_pesni/10167-grigorijj-leps-rokovaja-ljubov.html\n",
      "https://text-you.ru/rus_text_pesni/rus_text_pesni/4563-grigorijj-leps-berega.html\n",
      "https://text-you.ru/rus_text_pesni/rus_text_pesni/4563-grigorijj-leps-berega.html\n",
      "https://text-you.ru/rus_text_pesni/rus_text_pesni/76369-grigorijj-leps-rodina-mat.html\n",
      "https://text-you.ru/rus_text_pesni/rus_text_pesni/44645-grigorijj-leps-snega.html\n",
      "https://text-you.ru/rus_text_pesni/rus_text_pesni/44645-grigorijj-leps-snega.html\n",
      "https://text-you.ru/rus_text_pesni/rus_text_pesni/4564-grigorijj-leps-krysa-revnost.html\n",
      "https://text-you.ru/rus_text_pesni/rus_text_pesni/4564-grigorijj-leps-krysa-revnost.html\n",
      "https://text-you.ru/rus_text_pesni/rus_text_pesni/10161-grigorijj-leps-chernyjj-dozhd.html\n",
      "https://text-you.ru/rus_text_pesni/rus_text_pesni/10161-grigorijj-leps-chernyjj-dozhd.html\n",
      "https://text-you.ru/rus_text_pesni/rus_text_pesni/25286-grigorijj-leps-moskovskaja-pesnja.html\n",
      "https://text-you.ru/rus_text_pesni/rus_text_pesni/25286-grigorijj-leps-moskovskaja-pesnja.html\n",
      "https://text-you.ru/rus_text_pesni/rus_text_pesni/21319-grigorijj-leps-kapitan-arktika.html\n",
      "https://text-you.ru/rus_text_pesni/rus_text_pesni/21319-grigorijj-leps-kapitan-arktika.html\n",
      "https://text-you.ru/rus_text_pesni/rus_text_pesni/4571-grigorijj-leps-ty-opozdala.html\n",
      "https://text-you.ru/rus_text_pesni/rus_text_pesni/4571-grigorijj-leps-ty-opozdala.html\n",
      "https://text-you.ru/rus_text_pesni/rus_text_pesni/25163-grigorijj-leps-mne-snitsja-vodopad.html\n",
      "https://text-you.ru/rus_text_pesni/rus_text_pesni/25163-grigorijj-leps-mne-snitsja-vodopad.html\n",
      "https://text-you.ru/rus_text_pesni/rus_text_pesni/10160-grigorijj-leps-zamerzaet-solnce.html\n",
      "https://text-you.ru/rus_text_pesni/rus_text_pesni/10160-grigorijj-leps-zamerzaet-solnce.html\n",
      "https://text-you.ru/rus_text_pesni/rus_text_pesni/4570-grigorijj-leps-izmeny-i-viktorija-ilinskaja.html\n",
      "https://text-you.ru/rus_text_pesni/rus_text_pesni/4570-grigorijj-leps-izmeny-i-viktorija-ilinskaja.html\n",
      "https://text-you.ru/rus_text_pesni/rus_text_pesni/4565-grigorijj-leps-kupola.html\n",
      "https://text-you.ru/rus_text_pesni/rus_text_pesni/4565-grigorijj-leps-kupola.html\n",
      "https://text-you.ru/rus_text_pesni/rus_text_pesni/4567-grigorijj-leps-nostalgija.html\n",
      "https://text-you.ru/rus_text_pesni/rus_text_pesni/4567-grigorijj-leps-nostalgija.html\n",
      "https://text-you.ru/rus_text_pesni/rus_text_pesni/4566-grigorijj-leps-ne-spitsja.html\n",
      "https://text-you.ru/rus_text_pesni/rus_text_pesni/4566-grigorijj-leps-ne-spitsja.html\n",
      "https://text-you.ru/rus_text_pesni/rus_text_pesni/4568-grigorijj-leps-ona-byla-chista-kak-sneg-zimojj.html\n",
      "https://text-you.ru/rus_text_pesni/rus_text_pesni/4568-grigorijj-leps-ona-byla-chista-kak-sneg-zimojj.html\n",
      "https://text-you.ru/rus_text_pesni/rus_text_pesni/45757-grigorijj-leps-chto-zh-ty-natvorila.html\n",
      "https://text-you.ru/rus_text_pesni/rus_text_pesni/45757-grigorijj-leps-chto-zh-ty-natvorila.html\n",
      "https://text-you.ru/rus_text_pesni/rus_text_pesni/67188-grigorijj-leps-ne-tronte-dushu-grjaznymi-rukami.html\n",
      "https://text-you.ru/rus_text_pesni/rus_text_pesni/67188-grigorijj-leps-ne-tronte-dushu-grjaznymi-rukami.html\n",
      "https://text-you.ru/rus_text_pesni/rus_text_pesni/44133-grigorijj-leps-ja-tebe-verju-ost-sofija.html\n",
      "https://text-you.ru/rus_text_pesni/rus_text_pesni/44133-grigorijj-leps-ja-tebe-verju-ost-sofija.html\n",
      "https://text-you.ru/rus_text_pesni/rus_text_pesni/46767-grigorijj-leps-amin.html\n",
      "https://text-you.ru/rus_text_pesni/rus_text_pesni/46767-grigorijj-leps-amin.html\n",
      "https://text-you.ru/rus_text_pesni/rus_text_pesni/65636-grigorijj-leps-koni-priveredlivye.html\n",
      "https://text-you.ru/rus_text_pesni/rus_text_pesni/65636-grigorijj-leps-koni-priveredlivye.html\n",
      "https://text-you.ru/rus_text_pesni/rus_text_pesni/65632-grigorijj-leps-dom-khrustalnyjj.html\n",
      "https://text-you.ru/rus_text_pesni/rus_text_pesni/65632-grigorijj-leps-dom-khrustalnyjj.html\n",
      "https://text-you.ru/rus_text_pesni/rus_text_pesni/65638-grigorijj-leps-moja-cyganskaja.html\n",
      "https://text-you.ru/rus_text_pesni/rus_text_pesni/65638-grigorijj-leps-moja-cyganskaja.html\n",
      "https://text-you.ru/rus_text_pesni/rus_text_pesni/65634-grigorijj-leps-rajjskie-jabloki.html\n",
      "https://text-you.ru/rus_text_pesni/rus_text_pesni/65634-grigorijj-leps-rajjskie-jabloki.html\n",
      "https://text-you.ru/rus_text_pesni/rus_text_pesni/40960-grigorijj-leps-kriminal.html\n",
      "https://text-you.ru/rus_text_pesni/rus_text_pesni/40960-grigorijj-leps-kriminal.html\n",
      "https://text-you.ru/rus_text_pesni/rus_text_pesni/64878-grigorijj-leps-samyjj-luchshijj-den.html\n",
      "https://text-you.ru/rus_text_pesni/rus_text_pesni/64878-grigorijj-leps-samyjj-luchshijj-den.html\n",
      "https://text-you.ru/rus_text_pesni/rus_text_pesni/46765-grigorijj-leps-bez-tebja.html\n",
      "https://text-you.ru/rus_text_pesni/rus_text_pesni/46765-grigorijj-leps-bez-tebja.html\n",
      "https://text-you.ru/rus_text_pesni/rus_text_pesni/46768-grigorijj-leps-razbitaja-ljubov.html\n",
      "https://text-you.ru/rus_text_pesni/rus_text_pesni/46768-grigorijj-leps-razbitaja-ljubov.html\n",
      "https://text-you.ru/rus_text_pesni/rus_text_pesni/76369-grigorijj-leps-rodina-mat.html\n"
     ]
    },
    {
     "name": "stdout",
     "output_type": "stream",
     "text": [
      "https://text-you.ru/rus_text_pesni/rus_text_pesni/46827-grigorijj-leps-vremja.html\n",
      "https://text-you.ru/rus_text_pesni/rus_text_pesni/46827-grigorijj-leps-vremja.html\n",
      "https://text-you.ru/rus_text_pesni/rus_text_pesni/46766-grigorijj-leps-odin-fig.html\n",
      "https://text-you.ru/rus_text_pesni/rus_text_pesni/46766-grigorijj-leps-odin-fig.html\n",
      "https://text-you.ru/rus_text_pesni/rus_text_pesni/46779-grigorijj-leps-ty-prosto-zhzhjosh-posvjashhenie.html\n",
      "https://text-you.ru/rus_text_pesni/rus_text_pesni/46779-grigorijj-leps-ty-prosto-zhzhjosh-posvjashhenie.html\n",
      "https://text-you.ru/rus_text_pesni/rus_text_pesni/55326-grigorijj-leps-life-is-good.html\n",
      "https://text-you.ru/rus_text_pesni/rus_text_pesni/55326-grigorijj-leps-life-is-good.html\n",
      "https://text-you.ru/rus_text_pesni/rus_text_pesni/70691-grigorijj-leps-ona-menja-baluet.html\n",
      "https://text-you.ru/rus_text_pesni/rus_text_pesni/70691-grigorijj-leps-ona-menja-baluet.html\n",
      "https://text-you.ru/rus_text_pesni/rus_text_pesni/63822-grigorijj-leps-mojj-pervyjj-srok.html\n",
      "https://text-you.ru/rus_text_pesni/rus_text_pesni/63822-grigorijj-leps-mojj-pervyjj-srok.html\n",
      "https://text-you.ru/rus_text_pesni/rus_text_pesni/76150-grigorijj-leps-tribunal.html\n",
      "https://text-you.ru/rus_text_pesni/rus_text_pesni/76150-grigorijj-leps-tribunal.html\n",
      "https://text-you.ru/rus_text_pesni/rus_text_pesni/76369-grigorijj-leps-rodina-mat.html\n"
     ]
    }
   ],
   "source": [
    "songs_urls = []\n",
    "\n",
    "for url in urls:\n",
    "    songs_list = requests.get(url) # Request type - Get / Post\n",
    "    songs_soup = BeautifulSoup(songs_list.content, 'html.parser')    \n",
    "    for a in songs_soup.find_all('a'):\n",
    "        if str(a).find('rus_text_pesni') != -1 and str(a).find('leps') != -1: # если найдено значение rus_text_pesni\n",
    "            song_url = 'https://text-you.ru/rus_text_pesni' + a['href']\n",
    "            print(song_url)\n",
    "            songs_urls.append(song_url)\n",
    "\n",
    "songs_urls = list(set(songs_urls))"
   ]
  },
  {
   "cell_type": "code",
   "execution_count": 6,
   "id": "df261dbb",
   "metadata": {},
   "outputs": [
    {
     "data": {
      "text/plain": [
       "'/cooperation.html'"
      ]
     },
     "execution_count": 6,
     "metadata": {},
     "output_type": "execute_result"
    }
   ],
   "source": [
    "a['href']"
   ]
  },
  {
   "cell_type": "code",
   "execution_count": 7,
   "id": "9679ce20",
   "metadata": {},
   "outputs": [
    {
     "data": {
      "text/plain": [
       "'https://text-you.ru/rus_text_pesni/cooperation.html'"
      ]
     },
     "execution_count": 7,
     "metadata": {},
     "output_type": "execute_result"
    }
   ],
   "source": [
    "'https://text-you.ru/rus_text_pesni' + a['href']"
   ]
  },
  {
   "cell_type": "code",
   "execution_count": 8,
   "id": "a2b70efb",
   "metadata": {},
   "outputs": [
    {
     "data": {
      "text/plain": [
       "'/html/body/div/div[2]/div[1]/div[3]/div[2]/table/tbody/tr[1]/td[1]/a'"
      ]
     },
     "execution_count": 8,
     "metadata": {},
     "output_type": "execute_result"
    }
   ],
   "source": [
    "'/html/body/div/div[2]/div[1]/div[3]/div[2]/table/tbody/tr[1]/td[1]/a'"
   ]
  },
  {
   "cell_type": "code",
   "execution_count": 9,
   "id": "d09a6377",
   "metadata": {},
   "outputs": [
    {
     "data": {
      "text/plain": [
       "['https://text-you.ru/rus_text_pesni/rus_text_pesni/44645-grigorijj-leps-snega.html',\n",
       " 'https://text-you.ru/rus_text_pesni/rus_text_pesni/21319-grigorijj-leps-kapitan-arktika.html',\n",
       " 'https://text-you.ru/rus_text_pesni/rus_text_pesni/21320-grigorijj-leps-london.html',\n",
       " 'https://text-you.ru/rus_text_pesni/rus_text_pesni/44133-grigorijj-leps-ja-tebe-verju-ost-sofija.html',\n",
       " 'https://text-you.ru/rus_text_pesni/rus_text_pesni/10167-grigorijj-leps-rokovaja-ljubov.html',\n",
       " 'https://text-you.ru/rus_text_pesni/rus_text_pesni/4557-grigorijj-leps-natali.html',\n",
       " 'https://text-you.ru/rus_text_pesni/rus_text_pesni/17682-grigorijj-leps-ja-stanu-vodopadom.html',\n",
       " 'https://text-you.ru/rus_text_pesni/rus_text_pesni/25286-grigorijj-leps-moskovskaja-pesnja.html',\n",
       " 'https://text-you.ru/rus_text_pesni/rus_text_pesni/4569-grigorijj-leps-rjumka-vodki-na-stole.html',\n",
       " 'https://text-you.ru/rus_text_pesni/rus_text_pesni/4563-grigorijj-leps-berega.html',\n",
       " 'https://text-you.ru/rus_text_pesni/rus_text_pesni/14487-grigorijj-leps-spasibo-rebjata.html',\n",
       " 'https://text-you.ru/rus_text_pesni/rus_text_pesni/11733-grigorijj-leps-zima.html',\n",
       " 'https://text-you.ru/rus_text_pesni/rus_text_pesni/4555-grigorijj-leps-ne-zhdi-menja-i-slava.html',\n",
       " 'https://text-you.ru/rus_text_pesni/rus_text_pesni/4562-grigorijj-leps-ukhodi-krasivo.html',\n",
       " 'https://text-you.ru/rus_text_pesni/rus_text_pesni/46768-grigorijj-leps-razbitaja-ljubov.html',\n",
       " 'https://text-you.ru/rus_text_pesni/rus_text_pesni/63822-grigorijj-leps-mojj-pervyjj-srok.html',\n",
       " 'https://text-you.ru/rus_text_pesni/rus_text_pesni/65632-grigorijj-leps-dom-khrustalnyjj.html',\n",
       " 'https://text-you.ru/rus_text_pesni/rus_text_pesni/10162-grigorijj-leps-ona.html',\n",
       " 'https://text-you.ru/rus_text_pesni/rus_text_pesni/10160-grigorijj-leps-zamerzaet-solnce.html',\n",
       " 'https://text-you.ru/rus_text_pesni/rus_text_pesni/46779-grigorijj-leps-ty-prosto-zhzhjosh-posvjashhenie.html',\n",
       " 'https://text-you.ru/rus_text_pesni/rus_text_pesni/70691-grigorijj-leps-ona-menja-baluet.html',\n",
       " 'https://text-you.ru/rus_text_pesni/rus_text_pesni/4565-grigorijj-leps-kupola.html',\n",
       " 'https://text-you.ru/rus_text_pesni/rus_text_pesni/40960-grigorijj-leps-kriminal.html',\n",
       " 'https://text-you.ru/rus_text_pesni/rus_text_pesni/4571-grigorijj-leps-ty-opozdala.html',\n",
       " 'https://text-you.ru/rus_text_pesni/rus_text_pesni/38642-grigorijj-leps-ja-podnimaju-ruki.html',\n",
       " 'https://text-you.ru/rus_text_pesni/rus_text_pesni/4560-grigorijj-leps-labirint.html',\n",
       " 'https://text-you.ru/rus_text_pesni/rus_text_pesni/11557-grigorijj-leps-nastojashhaja-zhenshhina.html',\n",
       " 'https://text-you.ru/rus_text_pesni/rus_text_pesni/67188-grigorijj-leps-ne-tronte-dushu-grjaznymi-rukami.html',\n",
       " 'https://text-you.ru/rus_text_pesni/rus_text_pesni/65636-grigorijj-leps-koni-priveredlivye.html',\n",
       " 'https://text-you.ru/rus_text_pesni/rus_text_pesni/46767-grigorijj-leps-amin.html',\n",
       " 'https://text-you.ru/rus_text_pesni/rus_text_pesni/45757-grigorijj-leps-chto-zh-ty-natvorila.html',\n",
       " 'https://text-you.ru/rus_text_pesni/rus_text_pesni/76150-grigorijj-leps-tribunal.html',\n",
       " 'https://text-you.ru/rus_text_pesni/rus_text_pesni/21665-grigorijj-leps-ja-schastlivyjj.html',\n",
       " 'https://text-you.ru/rus_text_pesni/rus_text_pesni/4556-grigorijj-leps-rasskazhi.html',\n",
       " 'https://text-you.ru/rus_text_pesni/rus_text_pesni/4570-grigorijj-leps-izmeny-i-viktorija-ilinskaja.html',\n",
       " 'https://text-you.ru/rus_text_pesni/rus_text_pesni/64878-grigorijj-leps-samyjj-luchshijj-den.html',\n",
       " 'https://text-you.ru/rus_text_pesni/rus_text_pesni/27924-grigorijj-leps-gospodi-dajj-mne-sil.html',\n",
       " 'https://text-you.ru/rus_text_pesni/rus_text_pesni/4558-grigorijj-leps-ja-tebja-ne-ljublju.html',\n",
       " 'https://text-you.ru/rus_text_pesni/rus_text_pesni/25163-grigorijj-leps-mne-snitsja-vodopad.html',\n",
       " 'https://text-you.ru/rus_text_pesni/rus_text_pesni/65638-grigorijj-leps-moja-cyganskaja.html',\n",
       " 'https://text-you.ru/rus_text_pesni/rus_text_pesni/55326-grigorijj-leps-life-is-good.html',\n",
       " 'https://text-you.ru/rus_text_pesni/rus_text_pesni/23848-grigorijj-leps-staryjj-chjort.html',\n",
       " 'https://text-you.ru/rus_text_pesni/rus_text_pesni/76369-grigorijj-leps-rodina-mat.html',\n",
       " 'https://text-you.ru/rus_text_pesni/rus_text_pesni/65634-grigorijj-leps-rajjskie-jabloki.html',\n",
       " 'https://text-you.ru/rus_text_pesni/rus_text_pesni/46766-grigorijj-leps-odin-fig.html',\n",
       " 'https://text-you.ru/rus_text_pesni/rus_text_pesni/4561-grigorijj-leps-parus.html',\n",
       " 'https://text-you.ru/rus_text_pesni/rus_text_pesni/10161-grigorijj-leps-chernyjj-dozhd.html',\n",
       " 'https://text-you.ru/rus_text_pesni/rus_text_pesni/4566-grigorijj-leps-ne-spitsja.html',\n",
       " 'https://text-you.ru/rus_text_pesni/rus_text_pesni/22663-grigorijj-leps-ja-vernu-tebja.html',\n",
       " 'https://text-you.ru/rus_text_pesni/rus_text_pesni/4559-grigorijj-leps-vjuga.html',\n",
       " 'https://text-you.ru/rus_text_pesni/rus_text_pesni/4567-grigorijj-leps-nostalgija.html',\n",
       " 'https://text-you.ru/rus_text_pesni/rus_text_pesni/46765-grigorijj-leps-bez-tebja.html',\n",
       " 'https://text-you.ru/rus_text_pesni/rus_text_pesni/4564-grigorijj-leps-krysa-revnost.html',\n",
       " 'https://text-you.ru/rus_text_pesni/rus_text_pesni/46827-grigorijj-leps-vremja.html',\n",
       " 'https://text-you.ru/rus_text_pesni/rus_text_pesni/4568-grigorijj-leps-ona-byla-chista-kak-sneg-zimojj.html',\n",
       " 'https://text-you.ru/rus_text_pesni/rus_text_pesni/10159-grigorijj-leps-bozhe-kak-dolgo.html']"
      ]
     },
     "execution_count": 9,
     "metadata": {},
     "output_type": "execute_result"
    }
   ],
   "source": [
    "songs_urls"
   ]
  },
  {
   "cell_type": "markdown",
   "id": "21c2d238",
   "metadata": {},
   "source": [
    "# Парсим песни"
   ]
  },
  {
   "cell_type": "code",
   "execution_count": 10,
   "id": "db7c8807",
   "metadata": {},
   "outputs": [
    {
     "data": {
      "text/plain": [
       "'https://text-you.ru/rus_text_pesni/rus_text_pesni/44645-grigorijj-leps-snega.html'"
      ]
     },
     "execution_count": 10,
     "metadata": {},
     "output_type": "execute_result"
    }
   ],
   "source": [
    "song_name = songs_urls[0]\n",
    "song_name"
   ]
  },
  {
   "cell_type": "code",
   "execution_count": 11,
   "id": "88b7dae2",
   "metadata": {},
   "outputs": [],
   "source": [
    "song_url = requests.get(song_name)"
   ]
  },
  {
   "cell_type": "code",
   "execution_count": 12,
   "id": "73a57dae",
   "metadata": {},
   "outputs": [
    {
     "data": {
      "text/plain": [
       "b'<!DOCTYPE HTML>\\r\\n<html>\\r\\n<head>\\r\\n<title>\\xd0\\xa2\\xd0\\xb5\\xd0\\xba\\xd1\\x81\\xd1\\x82 \\xd0\\xbf\\xd0\\xb5\\xd1\\x81\\xd0\\xbd\\xd0\\xb8 \\xd0\\x93\\xd1\\x80\\xd0\\xb8\\xd0\\xb3\\xd0\\xbe\\xd1\\x80\\xd0\\xb8\\xd0\\xb9 \\xd0\\x9b\\xd0\\xb5\\xd0\\xbf\\xd1\\x81 - \\xd0\\xa1\\xd0\\xbd\\xd0\\xb5\\xd0\\xb3\\xd0\\xb0</title>\\r\\n<meta http-equiv=\"Content-Type\" content=\"text/html; charset=utf-8\">\\r\\n<meta name=\"description\" content=\"\\xd0\\xa2\\xd0\\xb5\\xd0\\xba\\xd1\\x81\\xd1\\x82 \\xd0\\xbf\\xd0\\xb5\\xd1\\x81\\xd0\\xbd\\xd0\\xb8 \\xd0\\x93\\xd1\\x80\\xd0\\xb8\\xd0\\xb3\\xd0\\xbe\\xd1\\x80\\xd0\\xb8\\xd0\\xb9 \\xd0\\x9b\\xd0\\xb5\\xd0\\xbf\\xd1\\x81 - \\xd0\\xa1\\xd0\\xbd\\xd0\\xb5\\xd0\\xb3\\xd0\\xb0 \\xd0\\xbd\\xd0\\xb0 text-you.ru. \\xd0\\x92\\xd1\\x81\\xd0\\xb5 \\xd0\\xbd\\xd0\\xbe\\xd0\\xb2\\xd0\\xb8\\xd0\\xbd\\xd0\\xba\\xd0\\xb8, \\xd1\\x81\\xd0\\xbe\\xd1\\x80\\xd1\\x82\\xd0\\xb8\\xd1\\x80\\xd0\\xbe\\xd0\\xb2\\xd0\\xba\\xd0\\xb0 \\xd0\\xbd\\xd0\\xb0 \\xd1\\x80\\xd1\\x83\\xd1\\x81\\xd1\\x81\\xd0\\xba\\xd0\\xb8\\xd0\\xb5 \\xd0\\xb8 \\xd0\\xb7\\xd0\\xb0\\xd1\\x80\\xd1\\x83\\xd0\\xb1\\xd0\\xb5\\xd0\\xb6\\xd0\\xbd\\xd1\\x8b\\xd0\\xb5, \\xd0\\xb2\\xd0\\xbe\\xd0\\xb7\\xd0\\xbc\\xd0\\xbe\\xd0\\xb6\\xd0\\xbd\\xd0\\xbe\\xd1\\x81\\xd1\\x82\\xd1\\x8c \\xd0\\xb8\\xd1\\x81\\xd0\\xba\\xd0\\xb0\\xd1\\x82\\xd1\\x8c \\xd0\\xbf\\xd0\\xb5\\xd1\\x81\\xd0\\xbd\\xd0\\xb8 \\xd0\\xbf\\xd0\\xbe \\xd1\\x81\\xd0\\xbb\\xd0\\xbe\\xd0\\xb2\\xd0\\xb0\\xd0\\xbc.\">\\r\\n<meta name=\"google-site-verification\" content=\"whEIox0rYeNntmMUdASTakgThrZk-B4VBvpce3EY9xY\">\\n<link rel=\"canonical\" href=\"https://text-you.ru/rus_text_pesni/44645-grigorijj-leps-snega.html\">\\r\\n<meta name=\"viewport\" content=\"width=device-width, initial-scale=1.0\">\\r\\n<link rel=\"stylesheet\" type=\"text/css\" href=\"/templates/lyrics/css/style.css?v=37\">\\r\\n<link rel=\"shortcut icon\" href=\"/favicon.ico\" type=\"image/x-icon\">\\r\\n</head>\\r\\n<body>\\r\\n<!-- Yandex.Metrika counter --><script> (function (d, w, c) { (w[c] = w[c] || []).push(function() { try { w.yaCounter33232775 = new Ya.Metrika({ id:33232775, clickmap:true, trackLinks:true, accurateTrackBounce:true, webvisor:true }); } catch(e) { } }); var n = d.getElementsByTagName(\"script\")[0], s = d.createElement(\"script\"), f = function () { n.parentNode.insertBefore(s, n); }; s.type = \"text/javascript\"; s.async = true; s.src = \"https://mc.yandex.ru/metrika/watch.js\"; if (w.opera == \"[object Opera]\") { d.addEventListener(\"DOMContentLoaded\", f, false); } else { f(); } })(document, window, \"yandex_metrika_callbacks\");</script><noscript><div><img src=\"https://mc.yandex.ru/watch/33232775\" style=\"position:absolute; left:-9999px;\" alt=\"\" /></div></noscript><!-- /Yandex.Metrika counter -->\\r\\n<div class=\"main_block\">\\r\\n<div class=\"head\">\\r\\n<div class=\"menu\">\\r\\n<button id=\"phone_menu_btn\">\\r\\n<i class=\"icon\"></i>\\r\\n</button>\\r\\n</div>\\r\\n<div class=\"logo_phone\">\\r\\n<a href=\"/\"><i class=\"icon\"></i></a>\\r\\n</div>\\r\\n<div class=\"search\">\\r\\n<button id=\"phone_search_btn\">\\r\\n<i class=\"icon\"></i>\\r\\n</button>\\r\\n</div>\\r\\n<a href=\"/\" class=\"logo\"><img src=\"/templates/lyrics/images/logo.png\" alt=\"Text-You.ru\"></a>\\r\\n<div class=\"alfavit\"><a href=\"/songs/%D0%B0.html\">\\xd0\\x90</a> <a href=\"/songs/%D0%B1.html\">\\xd0\\x91</a> <a href=\"/songs/%D0%B2.html\">\\xd0\\x92</a> <a href=\"/songs/%D0%B3.html\">\\xd0\\x93</a> <a href=\"/songs/%D0%B4.html\">\\xd0\\x94</a> <a href=\"/songs/%D0%B5.html\">\\xd0\\x95</a> <a href=\"/songs/%D0%B6.html\">\\xd0\\x96</a> <a href=\"/songs/%D0%B7.html\">\\xd0\\x97</a> <a href=\"/songs/%D0%B8.html\">\\xd0\\x98</a> <a href=\"/songs/%D0%B9.html\">\\xd0\\x99</a> <a href=\"/songs/%D0%BA.html\">\\xd0\\x9a</a> <a href=\"/songs/%D0%BB.html\">\\xd0\\x9b</a> <a href=\"/songs/%D0%BC.html\">\\xd0\\x9c</a> <a href=\"/songs/%D0%BD.html\">\\xd0\\x9d</a> <a href=\"/songs/%D0%BE.html\">\\xd0\\x9e</a> <a href=\"/songs/%D0%BF.html\">\\xd0\\x9f</a> <a href=\"/songs/%D1%80.html\">\\xd0\\xa0</a> <a href=\"/songs/%D1%81.html\">\\xd0\\xa1</a> <a href=\"/songs/%D1%82.html\">\\xd0\\xa2</a> <a href=\"/songs/%D1%83.html\">\\xd0\\xa3</a> <a href=\"/songs/%D1%84.html\">\\xd0\\xa4</a> <a href=\"/songs/%D1%85.html\">\\xd0\\xa5</a> <a href=\"/songs/%D1%86.html\">\\xd0\\xa6</a> <a href=\"/songs/%D1%87.html\">\\xd0\\xa7</a> <a href=\"/songs/%D1%88.html\">\\xd0\\xa8</a> <a href=\"/songs/%D1%89.html\">\\xd0\\xa9</a> <a href=\"/songs/%D1%8D.html\">\\xd0\\xad</a> <a href=\"/songs/%D1%8E.html\">\\xd0\\xae</a> <a href=\"/songs/%D1%8F.html\">\\xd0\\xaf</a><br /><a href=\"/songs/a.html\">A</a> <a href=\"/songs/b.html\">B</a> <a href=\"/songs/c.html\">C</a> <a href=\"/songs/d.html\">D</a> <a href=\"/songs/e.html\">E</a> <a href=\"/songs/f.html\">F</a> <a href=\"/songs/g.html\">G</a> <a href=\"/songs/h.html\">H</a> <a href=\"/songs/i.html\">I</a> <a href=\"/songs/j.html\">J</a> <a href=\"/songs/k.html\">K</a> <a href=\"/songs/l.html\">L</a> <a href=\"/songs/m.html\">M</a> <a href=\"/songs/n.html\">N</a> <a href=\"/songs/o.html\">O</a> <a href=\"/songs/p.html\">P</a> <a href=\"/songs/q.html\">Q</a> <a href=\"/songs/r.html\">R</a> <a href=\"/songs/s.html\">S</a> <a href=\"/songs/t.html\">T</a> <a href=\"/songs/u.html\">U</a> <a href=\"/songs/v.html\">V</a> <a href=\"/songs/w.html\">W</a> <a href=\"/songs/x.html\">X</a> <a href=\"/songs/y.html\">Y</a> <a href=\"/songs/z.html\">Z</a><br /><a href=\"/songs/1.html\">1</a> <a href=\"/songs/2.html\">2</a> <a href=\"/songs/3.html\">3</a> <a href=\"/songs/4.html\">4</a> <a href=\"/songs/5.html\">5</a> <a href=\"/songs/6.html\">6</a> <a href=\"/songs/7.html\">7</a> <a href=\"/songs/8.html\">8</a> <a href=\"/songs/9.html\">9</a></div>\\r\\n<div class=\"search_mini\">\\r\\n<form method=\"post\">\\r\\n<input type=\"hidden\" value=\"search\" name=\"do\">\\r\\n<input type=\"hidden\" value=\"search\" name=\"subaction\">\\r\\n<div class=\"sm_form\">\\r\\n<input type=\"text\" name=\"story\" value=\"\\xd0\\x9f\\xd0\\xbe\\xd0\\xb8\\xd1\\x81\\xd0\\xba \\xd0\\xbf\\xd0\\xbe \\xd0\\xb8\\xd1\\x81\\xd0\\xbf\\xd0\\xbe\\xd0\\xbb\\xd0\\xbd\\xd0\\xb8\\xd1\\x82\\xd0\\xb5\\xd0\\xbb\\xd1\\x8e\" autocomplete=\"off\" onFocus=\"if(this.value==this.defaultValue)this.value=\\'\\';\" onBlur=\"if(this.value==\\'\\')this.value=this.defaultValue;\">\\r\\n<input class=\"sm_button\" type=\"submit\" value=\"\\xd0\\x9d\\xd0\\xb0\\xd0\\xb9\\xd1\\x82\\xd0\\xb8\">\\r\\n</div>\\r\\n</form>\\r\\n</div>\\r\\n<div class=\"day_track\">\\r\\n<span>\\xd0\\xa2\\xd1\\x80\\xd0\\xb5\\xd0\\xba \\xd0\\xb4\\xd0\\xbd\\xd1\\x8f:</span>\\r\\n\\r\\n</div>\\r\\n</div>\\r\\n<div class=\"content\">\\r\\n<div class=\"center\">\\r\\n<div class=\"text_nav\"><a href=\"/rus_text_pesni/\">\\xd0\\xa0\\xd1\\x83\\xd1\\x81\\xd1\\x81\\xd0\\xba\\xd0\\xb8\\xd0\\xb5</a></div><div class=\"full_lyrics\">\\r\\n<div class=\"text_info\"><span>\\xd0\\x94\\xd0\\xb0\\xd1\\x82\\xd0\\xb0: </span><span class=\"date\">4 \\xd1\\x8f\\xd0\\xbd\\xd0\\xb2\\xd0\\xb0\\xd1\\x80\\xd1\\x8f 2017</span><span>, </span><span>\\xd0\\x9f\\xd1\\x80\\xd0\\xbe\\xd1\\x81\\xd0\\xbc\\xd0\\xbe\\xd1\\x82\\xd1\\x80\\xd0\\xbe\\xd0\\xb2: </span><span class=\"views\">8148</span></div>\\r\\n<h1><a href=\"/songs/%D0%B3%D1%80%D0%B8%D0%B3%D0%BE%D1%80%D0%B8%D0%B9+%D0%BB%D0%B5%D0%BF%D1%81.html\">\\xd0\\x93\\xd1\\x80\\xd0\\xb8\\xd0\\xb3\\xd0\\xbe\\xd1\\x80\\xd0\\xb8\\xd0\\xb9 \\xd0\\x9b\\xd0\\xb5\\xd0\\xbf\\xd1\\x81</a> - \\xd0\\xa1\\xd0\\xbd\\xd0\\xb5\\xd0\\xb3\\xd0\\xb0</h1>\\r\\n<div class=\"left_adv\">\\r\\n<script async src=\"https://pagead2.googlesyndication.com/pagead/js/adsbygoogle.js\"></script>\\r\\n<ins class=\"adsbygoogle\"\\r\\n     style=\"display:inline-block;width:300px;height:250px\"\\r\\n     data-ad-client=\"ca-pub-2170670110628720\"\\r\\n     data-ad-slot=\"3445995579\"></ins>\\r\\n<script>\\r\\n     (adsbygoogle = window.adsbygoogle || []).push({});\\r\\n</script>\\r\\n</div>\\r\\n<div class=\"fulltext\">\\r\\n<pre>\\xd0\\x9a\\xd0\\xb0\\xd0\\xb6\\xd0\\xb5\\xd1\\x82\\xd1\\x81\\xd1\\x8f \\xd0\\xbc\\xd0\\xbd\\xd0\\xb5, \\xd1\\x87\\xd1\\x82\\xd0\\xbe \\xd0\\xbc\\xd1\\x8b \\xd1\\x81 \\xd1\\x82\\xd0\\xbe\\xd0\\xb1\\xd0\\xbe\\xd1\\x8e \\xd0\\xbe\\xd0\\xb4\\xd0\\xbd\\xd0\\xbe. </br />\\xd0\\x9d\\xd0\\xbe \\xd0\\xbc\\xd0\\xb8\\xd1\\x80 \\xd0\\xbe\\xd0\\xbf\\xd1\\x8f\\xd1\\x82\\xd1\\x8c \\xd1\\x83\\xd1\\x85\\xd0\\xbe\\xd0\\xb4\\xd0\\xb8\\xd1\\x82 \\xd0\\xb8\\xd0\\xb7-\\xd0\\xbf\\xd0\\xbe\\xd0\\xb4 \\xd0\\xbd\\xd0\\xbe\\xd0\\xb3. </br />\\xd0\\x94\\xd0\\xbe \\xd1\\x87\\xd0\\xb5\\xd0\\xb3\\xd0\\xbe \\xd0\\xb7\\xd0\\xbd\\xd0\\xb0\\xd0\\xba\\xd0\\xbe\\xd0\\xbc\\xd1\\x8b\\xd0\\xb9 \\xd1\\x81\\xd0\\xbd\\xd0\\xb5\\xd0\\xb3. </br />\\xd0\\xaf \\xd1\\x83\\xd0\\xb6\\xd0\\xb5 \\xd0\\xbd\\xd0\\xb5 \\xd1\\x80\\xd0\\xb0\\xd0\\xb7 \\xd0\\xb5\\xd0\\xb3\\xd0\\xbe \\xd0\\xb2\\xd1\\x81\\xd1\\x82\\xd1\\x80\\xd0\\xb5\\xd1\\x87\\xd0\\xb0\\xd0\\xbb. <br /></br />\\xd0\\xa1\\xd0\\xbb\\xd1\\x8b\\xd1\\x88\\xd0\\xb8\\xd1\\x82\\xd1\\x81\\xd1\\x8f \\xd1\\x81\\xd0\\xbc\\xd0\\xb5\\xd1\\x85, \\xd0\\xbd\\xd0\\xbe \\xd1\\x82\\xd0\\xbe\\xd0\\xbb\\xd1\\x8c\\xd0\\xba\\xd0\\xbe \\xd0\\xbc\\xd0\\xbd\\xd0\\xb5 \\xd0\\xbd\\xd0\\xb5 \\xd1\\x81\\xd0\\xbc\\xd0\\xb5\\xd1\\x88\\xd0\\xbd\\xd0\\xbe. </br />\\xd0\\x9c\\xd0\\xbe\\xd0\\xb5 \\xd0\\xbc\\xd0\\xbe\\xd0\\xbb\\xd1\\x87\\xd0\\xb0\\xd0\\xbd\\xd1\\x8c\\xd0\\xb5 \\xd1\\x8d\\xd1\\x82\\xd0\\xbe \\xd0\\xbd\\xd0\\xb5 \\xd0\\xbf\\xd0\\xbe\\xd1\\x80\\xd0\\xbe\\xd0\\xba. </br />\\xd0\\x92\\xd1\\x8b\\xd0\\xb2\\xd0\\xbe\\xd0\\xb6\\xd1\\x83 \\xd0\\xbe\\xd0\\xbf\\xd1\\x8f\\xd1\\x82\\xd1\\x8c \\xd0\\xbd\\xd0\\xb0 \\xd1\\x81\\xd0\\xb2\\xd0\\xb5\\xd1\\x82. </br />\\xd0\\xaf \\xd0\\xb8\\xd0\\xb7 \\xd1\\x82\\xd0\\xb5\\xd0\\xbc\\xd0\\xbd\\xd0\\xbe\\xd1\\x82\\xd1\\x8b \\xd1\\x81\\xd0\\xb2\\xd0\\xbe\\xd1\\x8e \\xd0\\xbf\\xd0\\xb5\\xd1\\x87\\xd0\\xb0\\xd0\\xbb\\xd1\\x8c. <br /></br />\\xd0\\x9f\\xd0\\xbe\\xd0\\xb1\\xd0\\xbe\\xd0\\xbb\\xd0\\xb8\\xd1\\x82 \\xd0\\xb8 \\xd0\\xbf\\xd1\\x80\\xd0\\xbe\\xd0\\xb9\\xd0\\xb4\\xd0\\xb5\\xd1\\x82 \\xd1\\x81\\xd0\\xb0\\xd0\\xbc\\xd0\\xbe. </br />\\xd0\\xa2\\xd0\\xbe\\xd0\\xbb\\xd1\\x8c\\xd0\\xba\\xd0\\xbe \\xd0\\xbc\\xd0\\xbd\\xd0\\xb5 \\xd0\\xb2\\xd1\\x81\\xd0\\xb5 \\xd1\\x83\\xd0\\xb6\\xd0\\xb5 \\xd1\\x80\\xd0\\xb0\\xd0\\xb2\\xd0\\xbd\\xd0\\xbe. <br /></br />\\xd0\\x9f\\xd1\\x80\\xd0\\xb8\\xd0\\xbf\\xd0\\xb5\\xd0\\xb2: </br />\\xd0\\xaf \\xd0\\xb7\\xd0\\xbd\\xd0\\xb0\\xd1\\x8e \\xd1\\x81\\xd0\\xb5\\xd1\\x80\\xd0\\xb4\\xd1\\x86\\xd0\\xb5 \\xd1\\x82\\xd0\\xb2\\xd0\\xbe\\xd0\\xb5 \\xd1\\x85\\xd1\\x80\\xd1\\x83\\xd1\\x81\\xd1\\x82\\xd0\\xb0\\xd0\\xbb\\xd1\\x8c. </br />\\xd0\\x9d\\xd0\\xbe \\xd0\\xbc\\xd0\\xbd\\xd0\\xb5 \\xd0\\xbd\\xd0\\xb8 \\xd0\\xba\\xd0\\xb0\\xd0\\xbf\\xd0\\xbb\\xd0\\xb8 \\xd0\\xb5\\xd0\\xb3\\xd0\\xbe \\xd0\\xbd\\xd0\\xb5 \\xd0\\xb6\\xd0\\xb0\\xd0\\xbb\\xd1\\x8c. </br />\\xd0\\xa2\\xd0\\xb0\\xd0\\xbc \\xd0\\xb2\\xd0\\xbd\\xd1\\x83\\xd1\\x82\\xd1\\x80\\xd0\\xb8 \\xd1\\x81\\xd0\\xbd\\xd0\\xb5\\xd0\\xb3\\xd0\\xb0... </br />\\xd0\\x9a\\xd0\\xb0\\xd0\\xba \\xd0\\xbf\\xd0\\xbe\\xd0\\xb5\\xd0\\xb4\\xd0\\xb8\\xd0\\xbd\\xd0\\xbe\\xd0\\xba \\xd1\\x81 \\xd1\\x81\\xd0\\xb0\\xd0\\xbc\\xd0\\xb8\\xd0\\xbc \\xd1\\x81\\xd0\\xbe\\xd0\\xb1\\xd0\\xbe\\xd0\\xb9. </br />\\xd0\\x9c\\xd0\\xbe\\xd1\\x8f \\xd1\\x80\\xd0\\xb0\\xd0\\xb7\\xd0\\xb1\\xd0\\xb8\\xd0\\xbb\\xd0\\xb0\\xd1\\x81\\xd1\\x8c \\xd0\\xbe \\xd0\\xbb\\xd0\\xb5\\xd0\\xb4 \\xd0\\xbb\\xd1\\x8e\\xd0\\xb1\\xd0\\xbe\\xd0\\xb2\\xd1\\x8c. </br />\\xd0\\x98 \\xd0\\xbc\\xd0\\xb5\\xd1\\x82\\xd1\\x83\\xd1\\x82 \\xd0\\xbe\\xd0\\xbf\\xd1\\x8f\\xd1\\x82\\xd1\\x8c \\xd1\\x81\\xd0\\xbd\\xd0\\xb5\\xd0\\xb3\\xd0\\xb0. <br /></br />\\xd0\\x9a\\xd1\\x80\\xd1\\x83\\xd0\\xb6\\xd0\\xb8\\xd1\\x82\\xd1\\x81\\xd1\\x8f \\xd0\\xbd\\xd0\\xbe\\xd1\\x87\\xd1\\x8c, \\xd0\\xba\\xd0\\xb0\\xd0\\xba-\\xd0\\xb1\\xd1\\x83\\xd0\\xb4\\xd1\\x82\\xd0\\xbe \\xd0\\xb2\\xd0\\xb5\\xd1\\x82\\xd0\\xb5\\xd1\\x80 \\xd0\\xb6\\xd0\\xb8\\xd0\\xb2\\xd0\\xbe\\xd0\\xb9. </br />\\xd0\\x93\\xd0\\xbe\\xd0\\xbd\\xd1\\x8f\\xd0\\xb5\\xd1\\x82 \\xd1\\x81\\xd0\\xbd\\xd0\\xb5\\xd0\\xb3\\xd0\\xb0 \\xd0\\xbd\\xd0\\xb5\\xd1\\x83\\xd1\\x91\\xd0\\xbc\\xd0\\xbd\\xd1\\x8b\\xd0\\xb9 \\xd1\\x80\\xd0\\xbe\\xd0\\xb9. </br />\\xd0\\x9d\\xd0\\xb0\\xd0\\xb4 \\xd0\\xbc\\xd0\\xbe\\xd0\\xb5\\xd1\\x8e \\xd0\\xb3\\xd0\\xbe\\xd0\\xbb\\xd0\\xbe\\xd0\\xb2\\xd0\\xbe\\xd0\\xb9. </br />\\xd0\\x9d\\xd0\\xb0\\xd0\\xb4 \\xd1\\x82\\xd0\\xbe\\xd0\\xb1\\xd0\\xbe\\xd1\\x8e, \\xd0\\xbd\\xd0\\xb0\\xd0\\xb4\\xd0\\xbe \\xd0\\xbc\\xd0\\xbd\\xd0\\xbe\\xd0\\xb9 \\xd0\\xba\\xd1\\x80\\xd1\\x83\\xd0\\xb6\\xd0\\xb8\\xd1\\x82. <br /></br />\\xd0\\xa1\\xd1\\x82\\xd1\\x83\\xd0\\xb6\\xd0\\xb0 \\xd0\\xb2 \\xd0\\xb4\\xd1\\x83\\xd1\\x88\\xd0\\xb5, \\xd1\\x81\\xd0\\xbd\\xd0\\xb0\\xd1\\x80\\xd1\\x83\\xd0\\xb6\\xd0\\xb8 \\xd1\\x82\\xd0\\xbe\\xd0\\xb6\\xd0\\xb5 \\xd0\\xb8\\xd0\\xb7\\xd0\\xbd\\xd0\\xbe\\xd0\\xb9. </br />\\xd0\\x9d\\xd0\\xbe \\xd1\\x87\\xd1\\x82\\xd0\\xbe \\xd1\\x82\\xd0\\xb5\\xd0\\xbf\\xd0\\xb5\\xd1\\x80\\xd1\\x8c \\xd0\\xbf\\xd0\\xbe\\xd0\\xb4\\xd0\\xb5\\xd0\\xbb\\xd0\\xb0\\xd0\\xb5\\xd1\\x88\\xd1\\x8c \\xd1\\x81\\xd0\\xbe \\xd0\\xbc\\xd0\\xbd\\xd0\\xbe\\xd0\\xb9. </br />\\xd0\\x97\\xd0\\xb0\\xd0\\xbf\\xd0\\xbb\\xd0\\xb0\\xd1\\x82\\xd0\\xb8\\xd0\\xbb \\xd1\\x82\\xd0\\xb0\\xd0\\xba\\xd0\\xbe\\xd0\\xb9 \\xd1\\x86\\xd0\\xb5\\xd0\\xbd\\xd0\\xbe\\xd0\\xb9. </br />\\xd0\\x9e\\xd1\\x81\\xd1\\x82\\xd0\\xb0\\xd0\\xb5\\xd1\\x82\\xd1\\x81\\xd1\\x8f \\xd0\\xbf\\xd1\\x80\\xd0\\xbe\\xd1\\x81\\xd1\\x82\\xd0\\xbe \\xd0\\xb4\\xd0\\xb0\\xd0\\xbb\\xd1\\x8c\\xd1\\x88\\xd0\\xb5 \\xd0\\xb6\\xd0\\xb8\\xd1\\x82\\xd1\\x8c. <br /></br />\\xd0\\x9f\\xd0\\xbe\\xd1\\x86\\xd0\\xb5\\xd0\\xbb\\xd1\\x83\\xd0\\xb9 \\xd0\\xbd\\xd0\\xb5 \\xd1\\x81\\xd0\\xbe\\xd0\\xb3\\xd1\\x80\\xd0\\xb5\\xd0\\xb5\\xd1\\x82 \\xd1\\x83\\xd1\\x81\\xd1\\x82. </br />\\xd0\\xa3 \\xd0\\xb1\\xd0\\xb5\\xd0\\xb4\\xd1\\x8b \\xd0\\xbe\\xd1\\x87\\xd0\\xb5\\xd0\\xbd\\xd1\\x8c \\xd1\\x81\\xd1\\x82\\xd1\\x80\\xd0\\xb0\\xd0\\xbd\\xd0\\xbd\\xd1\\x8b\\xd0\\xb9 \\xd0\\xb2\\xd0\\xba\\xd1\\x83\\xd1\\x81. <br /></br />\\xd0\\x9f\\xd1\\x80\\xd0\\xb8\\xd0\\xbf\\xd0\\xb5\\xd0\\xb2:\\xd1\\x852 </br />\\xd0\\xaf \\xd0\\xb7\\xd0\\xbd\\xd0\\xb0\\xd1\\x8e \\xd1\\x81\\xd0\\xb5\\xd1\\x80\\xd0\\xb4\\xd1\\x86\\xd0\\xb5 \\xd1\\x82\\xd0\\xb2\\xd0\\xbe\\xd0\\xb5 \\xd1\\x85\\xd1\\x80\\xd1\\x83\\xd1\\x81\\xd1\\x82\\xd0\\xb0\\xd0\\xbb\\xd1\\x8c. </br />\\xd0\\x9d\\xd0\\xbe \\xd0\\xbc\\xd0\\xbd\\xd0\\xb5 \\xd0\\xbd\\xd0\\xb8 \\xd0\\xba\\xd0\\xb0\\xd0\\xbf\\xd0\\xbb\\xd0\\xb8 \\xd0\\xb5\\xd0\\xb3\\xd0\\xbe \\xd0\\xbd\\xd0\\xb5 \\xd0\\xb6\\xd0\\xb0\\xd0\\xbb\\xd1\\x8c. </br />\\xd0\\xa2\\xd0\\xb0\\xd0\\xbc \\xd0\\xb2\\xd0\\xbd\\xd1\\x83\\xd1\\x82\\xd1\\x80\\xd0\\xb8 \\xd1\\x81\\xd0\\xbd\\xd0\\xb5\\xd0\\xb3\\xd0\\xb0... </br />\\xd0\\x9a\\xd0\\xb0\\xd0\\xba \\xd0\\xbf\\xd0\\xbe\\xd0\\xb5\\xd0\\xb4\\xd0\\xb8\\xd0\\xbd\\xd0\\xbe\\xd0\\xba \\xd1\\x81 \\xd1\\x81\\xd0\\xb0\\xd0\\xbc\\xd0\\xb8\\xd0\\xbc \\xd1\\x81\\xd0\\xbe\\xd0\\xb1\\xd0\\xbe\\xd0\\xb9. </br />\\xd0\\x9c\\xd0\\xbe\\xd1\\x8f \\xd1\\x80\\xd0\\xb0\\xd0\\xb7\\xd0\\xb1\\xd0\\xb8\\xd0\\xbb\\xd0\\xb0\\xd1\\x81\\xd1\\x8c \\xd0\\xbe \\xd0\\xbb\\xd0\\xb5\\xd0\\xb4 \\xd0\\xbb\\xd1\\x8e\\xd0\\xb1\\xd0\\xbe\\xd0\\xb2\\xd1\\x8c. </br />\\xd0\\x98 \\xd0\\xbc\\xd0\\xb5\\xd1\\x82\\xd1\\x83\\xd1\\x82 \\xd0\\xbe\\xd0\\xbf\\xd1\\x8f\\xd1\\x82\\xd1\\x8c \\xd1\\x81\\xd0\\xbd\\xd0\\xb5\\xd0\\xb3\\xd0\\xb0.</pre>\\r\\n<div class=\"share_txt\">\\r\\n<div class=\"ya-share2\" data-services=\"vkontakte,facebook,odnoklassniki,twitter,telegram\"></div></div>\\r\\n<div class=\"links\">\\r\\n\\r\\n<a class=\"download\" href=\"/print/44645-grigorijj-leps-snega.txt\"><i class=\"icon\"></i> <span>\\xd0\\xa1\\xd0\\xba\\xd0\\xb0\\xd1\\x87\\xd0\\xb0\\xd1\\x82\\xd1\\x8c txt</span></a>\\r\\n<a class=\"translate\" rel=\"nofollow\" target=\"_blank\" href=\"https://translate.google.com/translate?u=https://text-you.ru/rus_text_pesni/44645-grigorijj-leps-snega.html&hl=ru&ie=UTF8&sl=ru&tl=en\"><i class=\"icon\"></i> <span>\\xd0\\x9f\\xd0\\xb5\\xd1\\x80\\xd0\\xb5\\xd0\\xb2\\xd0\\xb5\\xd1\\x81\\xd1\\x82\\xd0\\xb8</span></a>\\r\\n</div>\\r\\n</div>\\r\\n</div>\\r\\n<div class=\"left_panel\">\\r\\n<div class=\"other_texts\">\\r\\n<h3><a href=\"/songs/%D0%B3%D1%80%D0%B8%D0%B3%D0%BE%D1%80%D0%B8%D0%B9+%D0%BB%D0%B5%D0%BF%D1%81.html\">\\xd0\\x93\\xd1\\x80\\xd0\\xb8\\xd0\\xb3\\xd0\\xbe\\xd1\\x80\\xd0\\xb8\\xd0\\xb9 \\xd0\\x9b\\xd0\\xb5\\xd0\\xbf\\xd1\\x81 \\xd1\\x82\\xd0\\xb5\\xd0\\xba\\xd1\\x81\\xd1\\x82\\xd1\\x8b \\xd0\\xbf\\xd0\\xb5\\xd1\\x81\\xd0\\xb5\\xd0\\xbd</a></h3>\\r\\n<ul><li><a href=\"/rus_text_pesni/4555-grigorijj-leps-ne-zhdi-menja-i-slava.html\">\\xd0\\x93\\xd1\\x80\\xd0\\xb8\\xd0\\xb3\\xd0\\xbe\\xd1\\x80\\xd0\\xb8\\xd0\\xb9 \\xd0\\x9b\\xd0\\xb5\\xd0\\xbf\\xd1\\x81 - \\xd0\\x9d\\xd0\\xb5 \\xd0\\xb6\\xd0\\xb4\\xd0\\xb8 \\xd0\\xbc\\xd0\\xb5\\xd0\\xbd\\xd1\\x8f (\\xd0\\xb8 \\xd0\\xa1\\xd0\\xbb\\xd0\\xb0\\xd0\\xb2\\xd0\\xb0 ...</a></li><li><a href=\"/rus_text_pesni/4556-grigorijj-leps-rasskazhi.html\">\\xd0\\x93\\xd1\\x80\\xd0\\xb8\\xd0\\xb3\\xd0\\xbe\\xd1\\x80\\xd0\\xb8\\xd0\\xb9 \\xd0\\x9b\\xd0\\xb5\\xd0\\xbf\\xd1\\x81 - \\xd0\\xa0\\xd0\\xb0\\xd1\\x81\\xd1\\x81\\xd0\\xba\\xd0\\xb0\\xd0\\xb6\\xd0\\xb8</a></li><li><a href=\"/rus_text_pesni/4557-grigorijj-leps-natali.html\">\\xd0\\x93\\xd1\\x80\\xd0\\xb8\\xd0\\xb3\\xd0\\xbe\\xd1\\x80\\xd0\\xb8\\xd0\\xb9 \\xd0\\x9b\\xd0\\xb5\\xd0\\xbf\\xd1\\x81 - \\xd0\\x9d\\xd0\\xb0\\xd1\\x82\\xd0\\xb0\\xd0\\xbb\\xd0\\xb8</a></li><li><a href=\"/rus_text_pesni/4558-grigorijj-leps-ja-tebja-ne-ljublju.html\">\\xd0\\x93\\xd1\\x80\\xd0\\xb8\\xd0\\xb3\\xd0\\xbe\\xd1\\x80\\xd0\\xb8\\xd0\\xb9 \\xd0\\x9b\\xd0\\xb5\\xd0\\xbf\\xd1\\x81 - \\xd0\\xaf \\xd1\\x82\\xd0\\xb5\\xd0\\xb1\\xd1\\x8f \\xd0\\xbd\\xd0\\xb5 \\xd0\\xbb\\xd1\\x8e\\xd0\\xb1\\xd0\\xbb\\xd1\\x8e</a></li><li><a href=\"/rus_text_pesni/4559-grigorijj-leps-vjuga.html\">\\xd0\\x93\\xd1\\x80\\xd0\\xb8\\xd0\\xb3\\xd0\\xbe\\xd1\\x80\\xd0\\xb8\\xd0\\xb9 \\xd0\\x9b\\xd0\\xb5\\xd0\\xbf\\xd1\\x81 - \\xd0\\x92\\xd1\\x8c\\xd1\\x8e\\xd0\\xb3\\xd0\\xb0</a></li><li><a href=\"/rus_text_pesni/44645-grigorijj-leps-snega.html\">\\xd0\\x93\\xd1\\x80\\xd0\\xb8\\xd0\\xb3\\xd0\\xbe\\xd1\\x80\\xd0\\xb8\\xd0\\xb9 \\xd0\\x9b\\xd0\\xb5\\xd0\\xbf\\xd1\\x81 - \\xd0\\xa1\\xd0\\xbd\\xd0\\xb5\\xd0\\xb3\\xd0\\xb0</a></li></ul>\\r\\n<a class=\"all_texts\" href=\"/songs/%D0%B3%D1%80%D0%B8%D0%B3%D0%BE%D1%80%D0%B8%D0%B9+%D0%BB%D0%B5%D0%BF%D1%81.html\">\\xd0\\xa1\\xd0\\xbc\\xd0\\xbe\\xd1\\x82\\xd1\\x80\\xd0\\xb5\\xd1\\x82\\xd1\\x8c \\xd0\\xb2\\xd1\\x81\\xd0\\xb5</a>\\r\\n</div>\\r\\n<div class=\"related\">\\r\\n<h3>\\xd0\\x9d\\xd0\\xb0\\xd0\\xb1\\xd0\\xb8\\xd1\\x80\\xd0\\xb0\\xd1\\x8e\\xd1\\x82 \\xd0\\xbf\\xd0\\xbe\\xd0\\xbf\\xd1\\x83\\xd0\\xbb\\xd1\\x8f\\xd1\\x80\\xd0\\xbd\\xd0\\xbe\\xd1\\x81\\xd1\\x82\\xd1\\x8c</h3>\\r\\n<ul><li><a href=\"/rus_text_pesni/7487-bratja-grim-khrust-popolam.html\">\\xd0\\x91\\xd1\\x80\\xd0\\xb0\\xd1\\x82\\xd1\\x8c\\xd1\\x8f \\xd0\\x93\\xd1\\x80\\xd0\\xb8\\xd0\\xbc - \\xd0\\xa5\\xd1\\x80\\xd1\\x83\\xd1\\x81\\xd1\\x82\\xd1\\x8c - \\xd0\\xbf\\xd0\\xbe\\xd0\\xbf\\xd0\\xbe\\xd0\\xbb\\xd0\\xb0\\xd0\\xbc...</a></li><li><a href=\"/rus_text_pesni/17490-ls.den-i-bahh-tee-mama-prosti-ja-ne-daril-tebe.html\">Ls.Den \\xd0\\xb8 Bahh Tee - \\xd0\\x9c\\xd0\\xb0\\xd0\\xbc\\xd0\\xb0, \\xd0\\x9f\\xd1\\x80\\xd0\\xbe\\xd1\\x81\\xd1\\x82\\xd0\\xb8 \\xd0\\xaf \\xd0\\x9d...</a></li><li><a href=\"/rus_text_pesni/27989-bi-2-feat.-jurijj-usachjov-robot.html\">\\xd0\\x91\\xd0\\xb8-2 feat. \\xd0\\xae\\xd1\\x80\\xd0\\xb8\\xd0\\xb9 \\xd0\\xa3\\xd1\\x81\\xd0\\xb0\\xd1\\x87\\xd1\\x91\\xd0\\xb2 - \\xd0\\xa0\\xd0\\xbe\\xd0\\xb1\\xd0\\xbe\\xd1\\x82...</a></li><li><a href=\"/rus_text_pesni/38360-d.k.-montana-vecherinka.html\">D.K. &amp; Montana - \\xd0\\x92\\xd0\\xb5\\xd1\\x87\\xd0\\xb5\\xd1\\x80\\xd0\\xb8\\xd0\\xbd\\xd0\\xba\\xd0\\xb0</a></li><li><a href=\"/rus_text_pesni/38812-kristina-si-ne-obizhajj-menja.html\">Kristina Si - \\xd0\\x9d\\xd0\\xb5 \\xd0\\xbe\\xd0\\xb1\\xd0\\xb8\\xd0\\xb6\\xd0\\xb0\\xd0\\xb9 \\xd0\\xbc\\xd0\\xb5\\xd0\\xbd\\xd1\\x8f...</a></li><li><a href=\"/rus_text_pesni/39889-galina-bob-bjotsja-serdce.html\">\\xd0\\x93\\xd0\\xb0\\xd0\\xbb\\xd0\\xb8\\xd0\\xbd\\xd0\\xb0 \\xd0\\x91\\xd0\\xbe\\xd0\\xb1 - \\xd0\\x91\\xd1\\x8c\\xd1\\x91\\xd1\\x82\\xd1\\x81\\xd1\\x8f \\xd1\\x81\\xd0\\xb5\\xd1\\x80\\xd0\\xb4\\xd1\\x86\\xd0\\xb5...</a></li><li><a href=\"/rus_text_pesni/44702-gruppa-viva-aleksejj-vorobjov-gruppa-frendy.html\">\\xd0\\x93\\xd1\\x80\\xd1\\x83\\xd0\\xbf\\xd0\\xbf\\xd0\\xb0 ViVA, \\xd0\\x90\\xd0\\xbb\\xd0\\xb5\\xd0\\xba\\xd1\\x81\\xd0\\xb5\\xd0\\xb9 \\xd0\\x92\\xd0\\xbe\\xd1\\x80\\xd0\\xbe\\xd0\\xb1\\xd1\\x8c\\xd1\\x91\\xd0\\xb2, \\xd0\\xb3\\xd1\\x80\\xd1\\x83\\xd0\\xbf\\xd0\\xbf...</a></li><li><a href=\"/rus_text_pesni/65042-dzhozzi-mne-by-letat.html\">\\xd0\\x94\\xd0\\xb6\\xd0\\xbe\\xd0\\xb7\\xd0\\xb7\\xd0\\xb8 - \\xd0\\x9c\\xd0\\xbd\\xd0\\xb5 \\xd0\\xb1\\xd1\\x8b \\xd0\\xbb\\xd0\\xb5\\xd1\\x82\\xd0\\xb0\\xd1\\x82\\xd1\\x8c...</a></li><li><a href=\"/rus_text_pesni/70400-nebezao-bezumno-ljubil.html\">Nebezao - \\xd0\\x91\\xd0\\xb5\\xd0\\xb7\\xd1\\x83\\xd0\\xbc\\xd0\\xbd\\xd0\\xbe \\xd0\\x9b\\xd1\\x8e\\xd0\\xb1\\xd0\\xb8\\xd0\\xbb</a></li><li><a href=\"/rus_text_pesni/70783-vvikki-nebo.html\">Vvikki - \\xd0\\x9d\\xd0\\xb5\\xd0\\xb1\\xd0\\xbe</a></li></ul>\\r\\n</div>\\r\\n</div>\\r\\n<div class=\"clip\">\\r\\n<h3>\\xd0\\x92\\xd0\\xb8\\xd0\\xb4\\xd0\\xb5\\xd0\\xbe\\xd0\\xba\\xd0\\xbb\\xd0\\xb8\\xd0\\xbf \\xc2\\xab\\xd0\\x93\\xd1\\x80\\xd0\\xb8\\xd0\\xb3\\xd0\\xbe\\xd1\\x80\\xd0\\xb8\\xd0\\xb9 \\xd0\\x9b\\xd0\\xb5\\xd0\\xbf\\xd1\\x81 - \\xd0\\xa1\\xd0\\xbd\\xd0\\xb5\\xd0\\xb3\\xd0\\xb0\\xc2\\xbb</h3>\\r\\n<iframe class=\"clip_player\" src=\"https://www.youtube.com/embed/DA4k9uIJ8Go\" frameborder=\"0\" allowfullscreen></iframe></div>\\r\\n<div class=\"notice\">\\r\\n<p>* \\xd0\\xa2\\xd0\\xb5\\xd0\\xba\\xd1\\x81\\xd1\\x82 \\xd0\\xbf\\xd0\\xb5\\xd1\\x81\\xd0\\xbd\\xd0\\xb8 \\xd0\\xbd\\xd0\\xb0\\xd0\\xbf\\xd0\\xb8\\xd1\\x81\\xd0\\xb0\\xd0\\xbd \\xd1\\x81\\xd0\\xbe\\xd0\\xb1\\xd1\\x81\\xd1\\x82\\xd0\\xb2\\xd0\\xb5\\xd0\\xbd\\xd0\\xbd\\xd0\\xbe\\xd1\\x80\\xd1\\x83\\xd1\\x87\\xd0\\xbd\\xd0\\xbe \\xd0\\xb8 \\xd0\\xbf\\xd1\\x80\\xd0\\xb5\\xd0\\xb4\\xd0\\xbd\\xd0\\xb0\\xd0\\xb7\\xd0\\xbd\\xd0\\xb0\\xd1\\x87\\xd0\\xb5\\xd0\\xbd \\xd0\\xb4\\xd0\\xbb\\xd1\\x8f \\xd0\\xbe\\xd0\\xb7\\xd0\\xbd\\xd0\\xb0\\xd0\\xba\\xd0\\xbe\\xd0\\xbc\\xd0\\xbb\\xd0\\xb5\\xd0\\xbd\\xd0\\xb8\\xd1\\x8f.</p>\\r\\n</div>\\r\\n</div>\\r\\n<div class=\"right\">\\r\\n<div class=\"category\">\\r\\n<h3>\\xd0\\x9c\\xd0\\xb5\\xd0\\xbd\\xd1\\x8e</h3>\\r\\n<ul>\\r\\n<li><a href=\"/lastnews/\">\\xd0\\x9d\\xd0\\xbe\\xd0\\xb2\\xd1\\x8b\\xd0\\xb5</a></li>\\r\\n<li><a href=\"/rus_text_pesni/\">\\xd0\\xa0\\xd1\\x83\\xd1\\x81\\xd1\\x81\\xd0\\xba\\xd0\\xb8\\xd0\\xb5</a></li>\\r\\n<li><a href=\"/eng_text_pesni/\">\\xd0\\x97\\xd0\\xb0\\xd1\\x80\\xd1\\x83\\xd0\\xb1\\xd0\\xb5\\xd0\\xb6\\xd0\\xbd\\xd1\\x8b\\xd0\\xb5</a></li>\\r\\n<li><a href=\"/collections.html\">\\xd0\\xa1\\xd0\\xb1\\xd0\\xbe\\xd1\\x80\\xd0\\xbd\\xd0\\xb8\\xd0\\xba\\xd0\\xb8</a></li>\\r\\n<li><a href=\"/search.html\">\\xd0\\x9f\\xd0\\xbe\\xd0\\xb8\\xd1\\x81\\xd0\\xba \\xd0\\xbf\\xd0\\xbe \\xd1\\x81\\xd0\\xbb\\xd0\\xbe\\xd0\\xb2\\xd0\\xb0\\xd0\\xbc</a></li>\\r\\n</ul>\\r\\n</div>\\r\\n\\r\\n<div class=\"new_lyrics\">\\r\\n<h3><a href=\"/lastnews/\">\\xd0\\x9d\\xd0\\xbe\\xd0\\xb2\\xd1\\x8b\\xd0\\xb5 \\xd1\\x82\\xd0\\xb5\\xd0\\xba\\xd1\\x81\\xd1\\x82\\xd1\\x8b</a></h3>\\r\\n<ul><li><a href=\"/rus_text_pesni/76370-katya-tu-brosajj.html\" title=\"\\xd0\\xa2\\xd0\\xb5\\xd0\\xba\\xd1\\x81\\xd1\\x82 \\xd0\\xbf\\xd0\\xb5\\xd1\\x81\\xd0\\xbd\\xd0\\xb8 Katya Tu - \\xd0\\x91\\xd1\\x80\\xd0\\xbe\\xd1\\x81\\xd0\\xb0\\xd0\\xb9\">Katya Tu - \\xd0\\x91\\xd1\\x80\\xd0\\xbe\\xd1\\x81\\xd0\\xb0\\xd0\\xb9</a></li><li><a href=\"/rus_text_pesni/76369-grigorijj-leps-rodina-mat.html\" title=\"\\xd0\\xa2\\xd0\\xb5\\xd0\\xba\\xd1\\x81\\xd1\\x82 \\xd0\\xbf\\xd0\\xb5\\xd1\\x81\\xd0\\xbd\\xd0\\xb8 \\xd0\\x93\\xd1\\x80\\xd0\\xb8\\xd0\\xb3\\xd0\\xbe\\xd1\\x80\\xd0\\xb8\\xd0\\xb9 \\xd0\\x9b\\xd0\\xb5\\xd0\\xbf\\xd1\\x81 - \\xd0\\xa0\\xd0\\xbe\\xd0\\xb4\\xd0\\xb8\\xd0\\xbd\\xd0\\xb0-\\xd0\\xbc\\xd0\\xb0\\xd1\\x82\\xd1\\x8c\">\\xd0\\x93\\xd1\\x80\\xd0\\xb8\\xd0\\xb3\\xd0\\xbe\\xd1\\x80\\xd0\\xb8\\xd0\\xb9 \\xd0\\x9b\\xd0\\xb5\\xd0\\xbf\\xd1\\x81 - \\xd0\\xa0\\xd0\\xbe\\xd0\\xb4\\xd0\\xb8\\xd0\\xbd\\xd0\\xb0-\\xd0\\xbc\\xd0\\xb0\\xd1\\x82\\xd1\\x8c...</a></li><li><a href=\"/rus_text_pesni/76368-ani-lorak-na-meli.html\" title=\"\\xd0\\xa2\\xd0\\xb5\\xd0\\xba\\xd1\\x81\\xd1\\x82 \\xd0\\xbf\\xd0\\xb5\\xd1\\x81\\xd0\\xbd\\xd0\\xb8 \\xd0\\x90\\xd0\\xbd\\xd0\\xb8 \\xd0\\x9b\\xd0\\xbe\\xd1\\x80\\xd0\\xb0\\xd0\\xba - \\xd0\\x9d\\xd0\\xb0 \\xd0\\xbc\\xd0\\xb5\\xd0\\xbb\\xd0\\xb8\">\\xd0\\x90\\xd0\\xbd\\xd0\\xb8 \\xd0\\x9b\\xd0\\xbe\\xd1\\x80\\xd0\\xb0\\xd0\\xba - \\xd0\\x9d\\xd0\\xb0 \\xd0\\xbc\\xd0\\xb5\\xd0\\xbb\\xd0\\xb8</a></li><li><a href=\"/rus_text_pesni/76367-aleksejj-brjancev-skazka-na-dvoikh.html\" title=\"\\xd0\\xa2\\xd0\\xb5\\xd0\\xba\\xd1\\x81\\xd1\\x82 \\xd0\\xbf\\xd0\\xb5\\xd1\\x81\\xd0\\xbd\\xd0\\xb8 \\xd0\\x90\\xd0\\xbb\\xd0\\xb5\\xd0\\xba\\xd1\\x81\\xd0\\xb5\\xd0\\xb9 \\xd0\\x91\\xd1\\x80\\xd1\\x8f\\xd0\\xbd\\xd1\\x86\\xd0\\xb5\\xd0\\xb2 - \\xd0\\xa1\\xd0\\xba\\xd0\\xb0\\xd0\\xb7\\xd0\\xba\\xd0\\xb0 \\xd0\\x9d\\xd0\\xb0 \\xd0\\x94\\xd0\\xb2\\xd0\\xbe\\xd0\\xb8\\xd1\\x85\">\\xd0\\x90\\xd0\\xbb\\xd0\\xb5\\xd0\\xba\\xd1\\x81\\xd0\\xb5\\xd0\\xb9 \\xd0\\x91\\xd1\\x80\\xd1\\x8f\\xd0\\xbd\\xd1\\x86\\xd0\\xb5\\xd0\\xb2 - \\xd0\\xa1\\xd0\\xba\\xd0\\xb0\\xd0\\xb7\\xd0\\xba\\xd0\\xb0 \\xd0\\x9d\\xd0\\xb0...</a></li><li><a href=\"/rus_text_pesni/76366-milana-khametova-milana-star-lp.html\" title=\"\\xd0\\xa2\\xd0\\xb5\\xd0\\xba\\xd1\\x81\\xd1\\x82 \\xd0\\xbf\\xd0\\xb5\\xd1\\x81\\xd0\\xbd\\xd0\\xb8 \\xd0\\x9c\\xd0\\xb8\\xd0\\xbb\\xd0\\xb0\\xd0\\xbd\\xd0\\xb0 \\xd0\\xa5\\xd0\\xb0\\xd0\\xbc\\xd0\\xb5\\xd1\\x82\\xd0\\xbe\\xd0\\xb2\\xd0\\xb0 & Milana Star - \\xd0\\x9b\\xd0\\x9f\">\\xd0\\x9c\\xd0\\xb8\\xd0\\xbb\\xd0\\xb0\\xd0\\xbd\\xd0\\xb0 \\xd0\\xa5\\xd0\\xb0\\xd0\\xbc\\xd0\\xb5\\xd1\\x82\\xd0\\xbe\\xd0\\xb2\\xd0\\xb0 & Milana St...</a></li><li><a href=\"/rus_text_pesni/76365-picca-feat.-zivert-zalipatelno.html\" title=\"\\xd0\\xa2\\xd0\\xb5\\xd0\\xba\\xd1\\x81\\xd1\\x82 \\xd0\\xbf\\xd0\\xb5\\xd1\\x81\\xd0\\xbd\\xd0\\xb8 \\xd0\\x9f\\xd0\\xb8\\xd1\\x86\\xd1\\x86\\xd0\\xb0 feat. Zivert - \\xd0\\x97\\xd0\\xb0\\xd0\\xbb\\xd0\\xb8\\xd0\\xbf\\xd0\\xb0\\xd1\\x82\\xd0\\xb5\\xd0\\xbb\\xd1\\x8c\\xd0\\xbd\\xd0\\xbe\">\\xd0\\x9f\\xd0\\xb8\\xd1\\x86\\xd1\\x86\\xd0\\xb0 feat. Zivert - \\xd0\\x97\\xd0\\xb0\\xd0\\xbb\\xd0\\xb8\\xd0\\xbf\\xd0\\xb0...</a></li><li><a href=\"/rus_text_pesni/76364-dmitrijj-koldun-pridu-bez-povoda.html\" title=\"\\xd0\\xa2\\xd0\\xb5\\xd0\\xba\\xd1\\x81\\xd1\\x82 \\xd0\\xbf\\xd0\\xb5\\xd1\\x81\\xd0\\xbd\\xd0\\xb8 \\xd0\\x94\\xd0\\xbc\\xd0\\xb8\\xd1\\x82\\xd1\\x80\\xd0\\xb8\\xd0\\xb9 \\xd0\\x9a\\xd0\\xbe\\xd0\\xbb\\xd0\\xb4\\xd1\\x83\\xd0\\xbd - \\xd0\\x9f\\xd1\\x80\\xd0\\xb8\\xd0\\xb4\\xd1\\x83 \\xd0\\x91\\xd0\\xb5\\xd0\\xb7 \\xd0\\x9f\\xd0\\xbe\\xd0\\xb2\\xd0\\xbe\\xd0\\xb4\\xd0\\xb0\">\\xd0\\x94\\xd0\\xbc\\xd0\\xb8\\xd1\\x82\\xd1\\x80\\xd0\\xb8\\xd0\\xb9 \\xd0\\x9a\\xd0\\xbe\\xd0\\xbb\\xd0\\xb4\\xd1\\x83\\xd0\\xbd - \\xd0\\x9f\\xd1\\x80\\xd0\\xb8\\xd0\\xb4\\xd1\\x83 \\xd0\\x91\\xd0\\xb5\\xd0\\xb7 ...</a></li><li><a href=\"/rus_text_pesni/76363-natalja-podolskaja-otel.html\" title=\"\\xd0\\xa2\\xd0\\xb5\\xd0\\xba\\xd1\\x81\\xd1\\x82 \\xd0\\xbf\\xd0\\xb5\\xd1\\x81\\xd0\\xbd\\xd0\\xb8 \\xd0\\x9d\\xd0\\xb0\\xd1\\x82\\xd0\\xb0\\xd0\\xbb\\xd1\\x8c\\xd1\\x8f \\xd0\\x9f\\xd0\\xbe\\xd0\\xb4\\xd0\\xbe\\xd0\\xbb\\xd1\\x8c\\xd1\\x81\\xd0\\xba\\xd0\\xb0\\xd1\\x8f - \\xd0\\x9e\\xd1\\x82\\xd0\\xb5\\xd0\\xbb\\xd1\\x8c\">\\xd0\\x9d\\xd0\\xb0\\xd1\\x82\\xd0\\xb0\\xd0\\xbb\\xd1\\x8c\\xd1\\x8f \\xd0\\x9f\\xd0\\xbe\\xd0\\xb4\\xd0\\xbe\\xd0\\xbb\\xd1\\x8c\\xd1\\x81\\xd0\\xba\\xd0\\xb0\\xd1\\x8f - \\xd0\\x9e\\xd1\\x82\\xd0\\xb5\\xd0\\xbb\\xd1\\x8c</a></li><li><a href=\"/rus_text_pesni/76362-maksim-kruzhenkov-ottepel.html\" title=\"\\xd0\\xa2\\xd0\\xb5\\xd0\\xba\\xd1\\x81\\xd1\\x82 \\xd0\\xbf\\xd0\\xb5\\xd1\\x81\\xd0\\xbd\\xd0\\xb8 \\xd0\\x9c\\xd0\\xb0\\xd0\\xba\\xd1\\x81\\xd0\\xb8\\xd0\\xbc \\xd0\\x9a\\xd1\\x80\\xd1\\x83\\xd0\\xb6\\xd0\\xb5\\xd0\\xbd\\xd0\\xba\\xd0\\xbe\\xd0\\xb2 - \\xd0\\x9e\\xd1\\x82\\xd1\\x82\\xd0\\xb5\\xd0\\xbf\\xd0\\xb5\\xd0\\xbb\\xd1\\x8c\">\\xd0\\x9c\\xd0\\xb0\\xd0\\xba\\xd1\\x81\\xd0\\xb8\\xd0\\xbc \\xd0\\x9a\\xd1\\x80\\xd1\\x83\\xd0\\xb6\\xd0\\xb5\\xd0\\xbd\\xd0\\xba\\xd0\\xbe\\xd0\\xb2 - \\xd0\\x9e\\xd1\\x82\\xd1\\x82\\xd0\\xb5\\xd0\\xbf\\xd0\\xb5\\xd0\\xbb\\xd1\\x8c...</a></li><li><a href=\"/rus_text_pesni/76361-vladimir-zhdamirov-schaste.html\" title=\"\\xd0\\xa2\\xd0\\xb5\\xd0\\xba\\xd1\\x81\\xd1\\x82 \\xd0\\xbf\\xd0\\xb5\\xd1\\x81\\xd0\\xbd\\xd0\\xb8 \\xd0\\x92\\xd0\\xbb\\xd0\\xb0\\xd0\\xb4\\xd0\\xb8\\xd0\\xbc\\xd0\\xb8\\xd1\\x80 \\xd0\\x96\\xd0\\xb4\\xd0\\xb0\\xd0\\xbc\\xd0\\xb8\\xd1\\x80\\xd0\\xbe\\xd0\\xb2 - \\xd0\\xa1\\xd1\\x87\\xd0\\xb0\\xd1\\x81\\xd1\\x82\\xd1\\x8c\\xd0\\xb5\">\\xd0\\x92\\xd0\\xbb\\xd0\\xb0\\xd0\\xb4\\xd0\\xb8\\xd0\\xbc\\xd0\\xb8\\xd1\\x80 \\xd0\\x96\\xd0\\xb4\\xd0\\xb0\\xd0\\xbc\\xd0\\xb8\\xd1\\x80\\xd0\\xbe\\xd0\\xb2 - \\xd0\\xa1\\xd1\\x87\\xd0\\xb0\\xd1\\x81\\xd1\\x82\\xd1\\x8c\\xd0\\xb5...</a></li><li><a href=\"/rus_text_pesni/76360-tima-belorusskikh-otpusti.html\" title=\"\\xd0\\xa2\\xd0\\xb5\\xd0\\xba\\xd1\\x81\\xd1\\x82 \\xd0\\xbf\\xd0\\xb5\\xd1\\x81\\xd0\\xbd\\xd0\\xb8 \\xd0\\xa2\\xd0\\xb8\\xd0\\xbc\\xd0\\xb0 \\xd0\\x91\\xd0\\xb5\\xd0\\xbb\\xd0\\xbe\\xd1\\x80\\xd1\\x83\\xd1\\x81\\xd1\\x81\\xd0\\xba\\xd0\\xb8\\xd1\\x85 - \\xd0\\x9e\\xd1\\x82\\xd0\\xbf\\xd1\\x83\\xd1\\x81\\xd1\\x82\\xd0\\xb8\">\\xd0\\xa2\\xd0\\xb8\\xd0\\xbc\\xd0\\xb0 \\xd0\\x91\\xd0\\xb5\\xd0\\xbb\\xd0\\xbe\\xd1\\x80\\xd1\\x83\\xd1\\x81\\xd1\\x81\\xd0\\xba\\xd0\\xb8\\xd1\\x85 - \\xd0\\x9e\\xd1\\x82\\xd0\\xbf\\xd1\\x83\\xd1\\x81\\xd1\\x82\\xd0\\xb8</a></li><li><a href=\"/eng_text_pesni/76359-linkin-park-fighting-myself.html\" title=\"\\xd0\\xa2\\xd0\\xb5\\xd0\\xba\\xd1\\x81\\xd1\\x82 \\xd0\\xbf\\xd0\\xb5\\xd1\\x81\\xd0\\xbd\\xd0\\xb8 Linkin Park - Fighting Myself\">Linkin Park - Fighting Myse...</a></li><li><a href=\"/rus_text_pesni/76358-zveri-mechtaem.html\" title=\"\\xd0\\xa2\\xd0\\xb5\\xd0\\xba\\xd1\\x81\\xd1\\x82 \\xd0\\xbf\\xd0\\xb5\\xd1\\x81\\xd0\\xbd\\xd0\\xb8 \\xd0\\x97\\xd0\\xb2\\xd0\\xb5\\xd1\\x80\\xd0\\xb8 - \\xd0\\x9c\\xd0\\xb5\\xd1\\x87\\xd1\\x82\\xd0\\xb0\\xd0\\xb5\\xd0\\xbc\">\\xd0\\x97\\xd0\\xb2\\xd0\\xb5\\xd1\\x80\\xd0\\xb8 - \\xd0\\x9c\\xd0\\xb5\\xd1\\x87\\xd1\\x82\\xd0\\xb0\\xd0\\xb5\\xd0\\xbc</a></li><li><a href=\"/rus_text_pesni/76357-mark-tishman-najjdjotsja.html\" title=\"\\xd0\\xa2\\xd0\\xb5\\xd0\\xba\\xd1\\x81\\xd1\\x82 \\xd0\\xbf\\xd0\\xb5\\xd1\\x81\\xd0\\xbd\\xd0\\xb8 \\xd0\\x9c\\xd0\\xb0\\xd1\\x80\\xd0\\xba \\xd0\\xa2\\xd0\\xb8\\xd1\\x88\\xd0\\xbc\\xd0\\xb0\\xd0\\xbd - \\xd0\\x9d\\xd0\\xb0\\xd0\\xb9\\xd0\\xb4\\xd1\\x91\\xd1\\x82\\xd1\\x81\\xd1\\x8f\">\\xd0\\x9c\\xd0\\xb0\\xd1\\x80\\xd0\\xba \\xd0\\xa2\\xd0\\xb8\\xd1\\x88\\xd0\\xbc\\xd0\\xb0\\xd0\\xbd - \\xd0\\x9d\\xd0\\xb0\\xd0\\xb9\\xd0\\xb4\\xd1\\x91\\xd1\\x82\\xd1\\x81\\xd1\\x8f</a></li><li><a href=\"/rus_text_pesni/76356-julianna-karaulova-silnaja.html\" title=\"\\xd0\\xa2\\xd0\\xb5\\xd0\\xba\\xd1\\x81\\xd1\\x82 \\xd0\\xbf\\xd0\\xb5\\xd1\\x81\\xd0\\xbd\\xd0\\xb8 \\xd0\\xae\\xd0\\xbb\\xd0\\xb8\\xd0\\xb0\\xd0\\xbd\\xd0\\xbd\\xd0\\xb0 \\xd0\\x9a\\xd0\\xb0\\xd1\\x80\\xd0\\xb0\\xd1\\x83\\xd0\\xbb\\xd0\\xbe\\xd0\\xb2\\xd0\\xb0 - \\xd0\\xa1\\xd0\\xb8\\xd0\\xbb\\xd1\\x8c\\xd0\\xbd\\xd0\\xb0\\xd1\\x8f\">\\xd0\\xae\\xd0\\xbb\\xd0\\xb8\\xd0\\xb0\\xd0\\xbd\\xd0\\xbd\\xd0\\xb0 \\xd0\\x9a\\xd0\\xb0\\xd1\\x80\\xd0\\xb0\\xd1\\x83\\xd0\\xbb\\xd0\\xbe\\xd0\\xb2\\xd0\\xb0 - \\xd0\\xa1\\xd0\\xb8\\xd0\\xbb\\xd1\\x8c\\xd0\\xbd\\xd0\\xb0\\xd1\\x8f...</a></li></ul>\\r\\n</div>\\r\\n<div class=\"top_artist\">\\r\\n<h3>\\xd0\\x9b\\xd1\\x83\\xd1\\x87\\xd1\\x88\\xd0\\xb8\\xd0\\xb5 \\xd0\\xb0\\xd1\\x80\\xd1\\x82\\xd0\\xb8\\xd1\\x81\\xd1\\x82\\xd1\\x8b</h3>\\r\\n<ul></ul>\\r\\n</div>\\r\\n</div>\\r\\n</div>\\r\\n<div class=\"footer\">\\r\\n<div class=\"footer_nav\">\\r\\n<ul>\\r\\n<li><a href=\"/about_us.html\">\\xd0\\x9e \\xd1\\x81\\xd0\\xb0\\xd0\\xb9\\xd1\\x82\\xd0\\xb5</a></li>\\r\\n<li><a href=\"/regulations.html\">\\xd0\\x9f\\xd1\\x80\\xd0\\xb0\\xd0\\xb2\\xd0\\xb8\\xd0\\xbb\\xd0\\xb0</a></li>\\r\\n<li><a href=\"/feedback.html\">\\xd0\\x9a\\xd0\\xbe\\xd0\\xbd\\xd1\\x82\\xd0\\xb0\\xd0\\xba\\xd1\\x82\\xd1\\x8b</a></li>\\r\\n<li><a href=\"/cooperation.html\">\\xd0\\xa1\\xd0\\xbe\\xd1\\x82\\xd1\\x80\\xd1\\x83\\xd0\\xb4\\xd0\\xbd\\xd0\\xb8\\xd1\\x87\\xd0\\xb5\\xd1\\x81\\xd1\\x82\\xd0\\xb2\\xd0\\xbe</a></li>\\r\\n</ul>\\r\\n</div>\\r\\n<div class=\"counter\"><!--LiveInternet counter--><script><!--\\r\\ndocument.write(\"<a rel=\\'nofollow\\' href=\\'//www.liveinternet.ru/click\\' \"+\\r\\n\"target=_blank><img src=\\'//counter.yadro.ru/hit?t38.2;r\"+\\r\\nescape(document.referrer)+((typeof(screen)==\"undefined\")?\"\":\\r\\n\";s\"+screen.width+\"*\"+screen.height+\"*\"+(screen.colorDepth?\\r\\nscreen.colorDepth:screen.pixelDepth))+\";u\"+escape(document.URL)+\\r\\n\";\"+Math.random()+\\r\\n\"\\' alt=\\'\\' title=\\'LiveInternet\\' \"+\\r\\n\"border=\\'0\\' width=\\'31\\' height=\\'31\\'><\\\\/a>\")\\r\\n//--></script><!--/LiveInternet--></div>\\r\\n<div class=\"copyright\">&copy; Text-You.ru, 2023</div>\\r\\n</div>\\r\\n</div>\\r\\n<script>document.addEventListener(\\'DOMContentLoaded\\',function(){var phone_menu_btn=document.getElementById(\"phone_menu_btn\");var phone_search_btn=document.getElementById(\"phone_search_btn\");var form_search=document.getElementsByClassName(\"search_mini\")[0];var phone_menu=document.getElementsByClassName(\"category\")[0];phone_menu_btn.addEventListener(\\'click\\',function(){form_search.classList.remove(\\'open\\');if(phone_menu.classList.contains(\\'open\\')){phone_menu.classList.remove(\\'open\\')}else{phone_menu.className+=\" open\"}},false);phone_search_btn.addEventListener(\\'click\\',function(){phone_menu.classList.remove(\\'open\\');if(form_search.classList.contains(\\'open\\')){form_search.classList.remove(\\'open\\')}else{form_search.className+=\" open\"}},false);phone_menu.addEventListener(\\'click\\',function(){phone_menu.classList.remove(\\'open\\')})},false);</script>\\r\\n<script src=\"//yastatic.net/es5-shims/0.0.2/es5-shims.min.js\"></script>\\r\\n<script src=\"//yastatic.net/share2/share.js\"></script>\\r\\n<script src=\"/js/lazysizes.min.js\"></script>\\r\\n<script src=\"/engine/ajax/dle_ajax.js\"></script>\\r\\n</body>\\r\\n</html>'"
      ]
     },
     "execution_count": 12,
     "metadata": {},
     "output_type": "execute_result"
    }
   ],
   "source": [
    "song_url.content"
   ]
  },
  {
   "cell_type": "markdown",
   "id": "c71d2ae9",
   "metadata": {},
   "source": [
    "/html/body/div/div[2]/div[1]/div[2]/div[3]/pre # copy full xpath копируем расположени песни"
   ]
  },
  {
   "cell_type": "code",
   "execution_count": 13,
   "id": "ccb6d3fa",
   "metadata": {},
   "outputs": [
    {
     "data": {
      "text/plain": [
       "<!DOCTYPE HTML>\n",
       "\n",
       "<html>\n",
       "<head>\n",
       "<title>Текст песни Григорий Лепс - Снега</title>\n",
       "<meta content=\"text/html; charset=utf-8\" http-equiv=\"Content-Type\"/>\n",
       "<meta content=\"Текст песни Григорий Лепс - Снега на text-you.ru. Все новинки, сортировка на русские и зарубежные, возможность искать песни по словам.\" name=\"description\"/>\n",
       "<meta content=\"whEIox0rYeNntmMUdASTakgThrZk-B4VBvpce3EY9xY\" name=\"google-site-verification\"/>\n",
       "<link href=\"https://text-you.ru/rus_text_pesni/44645-grigorijj-leps-snega.html\" rel=\"canonical\"/>\n",
       "<meta content=\"width=device-width, initial-scale=1.0\" name=\"viewport\"/>\n",
       "<link href=\"/templates/lyrics/css/style.css?v=37\" rel=\"stylesheet\" type=\"text/css\"/>\n",
       "<link href=\"/favicon.ico\" rel=\"shortcut icon\" type=\"image/x-icon\"/>\n",
       "</head>\n",
       "<body>\n",
       "<!-- Yandex.Metrika counter --><script> (function (d, w, c) { (w[c] = w[c] || []).push(function() { try { w.yaCounter33232775 = new Ya.Metrika({ id:33232775, clickmap:true, trackLinks:true, accurateTrackBounce:true, webvisor:true }); } catch(e) { } }); var n = d.getElementsByTagName(\"script\")[0], s = d.createElement(\"script\"), f = function () { n.parentNode.insertBefore(s, n); }; s.type = \"text/javascript\"; s.async = true; s.src = \"https://mc.yandex.ru/metrika/watch.js\"; if (w.opera == \"[object Opera]\") { d.addEventListener(\"DOMContentLoaded\", f, false); } else { f(); } })(document, window, \"yandex_metrika_callbacks\");</script><noscript><div><img alt=\"\" src=\"https://mc.yandex.ru/watch/33232775\" style=\"position:absolute; left:-9999px;\"/></div></noscript><!-- /Yandex.Metrika counter -->\n",
       "<div class=\"main_block\">\n",
       "<div class=\"head\">\n",
       "<div class=\"menu\">\n",
       "<button id=\"phone_menu_btn\">\n",
       "<i class=\"icon\"></i>\n",
       "</button>\n",
       "</div>\n",
       "<div class=\"logo_phone\">\n",
       "<a href=\"/\"><i class=\"icon\"></i></a>\n",
       "</div>\n",
       "<div class=\"search\">\n",
       "<button id=\"phone_search_btn\">\n",
       "<i class=\"icon\"></i>\n",
       "</button>\n",
       "</div>\n",
       "<a class=\"logo\" href=\"/\"><img alt=\"Text-You.ru\" src=\"/templates/lyrics/images/logo.png\"/></a>\n",
       "<div class=\"alfavit\"><a href=\"/songs/%D0%B0.html\">А</a> <a href=\"/songs/%D0%B1.html\">Б</a> <a href=\"/songs/%D0%B2.html\">В</a> <a href=\"/songs/%D0%B3.html\">Г</a> <a href=\"/songs/%D0%B4.html\">Д</a> <a href=\"/songs/%D0%B5.html\">Е</a> <a href=\"/songs/%D0%B6.html\">Ж</a> <a href=\"/songs/%D0%B7.html\">З</a> <a href=\"/songs/%D0%B8.html\">И</a> <a href=\"/songs/%D0%B9.html\">Й</a> <a href=\"/songs/%D0%BA.html\">К</a> <a href=\"/songs/%D0%BB.html\">Л</a> <a href=\"/songs/%D0%BC.html\">М</a> <a href=\"/songs/%D0%BD.html\">Н</a> <a href=\"/songs/%D0%BE.html\">О</a> <a href=\"/songs/%D0%BF.html\">П</a> <a href=\"/songs/%D1%80.html\">Р</a> <a href=\"/songs/%D1%81.html\">С</a> <a href=\"/songs/%D1%82.html\">Т</a> <a href=\"/songs/%D1%83.html\">У</a> <a href=\"/songs/%D1%84.html\">Ф</a> <a href=\"/songs/%D1%85.html\">Х</a> <a href=\"/songs/%D1%86.html\">Ц</a> <a href=\"/songs/%D1%87.html\">Ч</a> <a href=\"/songs/%D1%88.html\">Ш</a> <a href=\"/songs/%D1%89.html\">Щ</a> <a href=\"/songs/%D1%8D.html\">Э</a> <a href=\"/songs/%D1%8E.html\">Ю</a> <a href=\"/songs/%D1%8F.html\">Я</a><br/><a href=\"/songs/a.html\">A</a> <a href=\"/songs/b.html\">B</a> <a href=\"/songs/c.html\">C</a> <a href=\"/songs/d.html\">D</a> <a href=\"/songs/e.html\">E</a> <a href=\"/songs/f.html\">F</a> <a href=\"/songs/g.html\">G</a> <a href=\"/songs/h.html\">H</a> <a href=\"/songs/i.html\">I</a> <a href=\"/songs/j.html\">J</a> <a href=\"/songs/k.html\">K</a> <a href=\"/songs/l.html\">L</a> <a href=\"/songs/m.html\">M</a> <a href=\"/songs/n.html\">N</a> <a href=\"/songs/o.html\">O</a> <a href=\"/songs/p.html\">P</a> <a href=\"/songs/q.html\">Q</a> <a href=\"/songs/r.html\">R</a> <a href=\"/songs/s.html\">S</a> <a href=\"/songs/t.html\">T</a> <a href=\"/songs/u.html\">U</a> <a href=\"/songs/v.html\">V</a> <a href=\"/songs/w.html\">W</a> <a href=\"/songs/x.html\">X</a> <a href=\"/songs/y.html\">Y</a> <a href=\"/songs/z.html\">Z</a><br/><a href=\"/songs/1.html\">1</a> <a href=\"/songs/2.html\">2</a> <a href=\"/songs/3.html\">3</a> <a href=\"/songs/4.html\">4</a> <a href=\"/songs/5.html\">5</a> <a href=\"/songs/6.html\">6</a> <a href=\"/songs/7.html\">7</a> <a href=\"/songs/8.html\">8</a> <a href=\"/songs/9.html\">9</a></div>\n",
       "<div class=\"search_mini\">\n",
       "<form method=\"post\">\n",
       "<input name=\"do\" type=\"hidden\" value=\"search\"/>\n",
       "<input name=\"subaction\" type=\"hidden\" value=\"search\"/>\n",
       "<div class=\"sm_form\">\n",
       "<input autocomplete=\"off\" name=\"story\" onblur=\"if(this.value=='')this.value=this.defaultValue;\" onfocus=\"if(this.value==this.defaultValue)this.value='';\" type=\"text\" value=\"Поиск по исполнителю\"/>\n",
       "<input class=\"sm_button\" type=\"submit\" value=\"Найти\"/>\n",
       "</div>\n",
       "</form>\n",
       "</div>\n",
       "<div class=\"day_track\">\n",
       "<span>Трек дня:</span>\n",
       "</div>\n",
       "</div>\n",
       "<div class=\"content\">\n",
       "<div class=\"center\">\n",
       "<div class=\"text_nav\"><a href=\"/rus_text_pesni/\">Русские</a></div><div class=\"full_lyrics\">\n",
       "<div class=\"text_info\"><span>Дата: </span><span class=\"date\">4 января 2017</span><span>, </span><span>Просмотров: </span><span class=\"views\">8148</span></div>\n",
       "<h1><a href=\"/songs/%D0%B3%D1%80%D0%B8%D0%B3%D0%BE%D1%80%D0%B8%D0%B9+%D0%BB%D0%B5%D0%BF%D1%81.html\">Григорий Лепс</a> - Снега</h1>\n",
       "<div class=\"left_adv\">\n",
       "<script async=\"\" src=\"https://pagead2.googlesyndication.com/pagead/js/adsbygoogle.js\"></script>\n",
       "<ins class=\"adsbygoogle\" data-ad-client=\"ca-pub-2170670110628720\" data-ad-slot=\"3445995579\" style=\"display:inline-block;width:300px;height:250px\"></ins>\n",
       "<script>\n",
       "     (adsbygoogle = window.adsbygoogle || []).push({});\n",
       "</script>\n",
       "</div>\n",
       "<div class=\"fulltext\">\n",
       "<pre>Кажется мне, что мы с тобою одно. Но мир опять уходит из-под ног. До чего знакомый снег. Я уже не раз его встречал. <br/>Слышится смех, но только мне не смешно. Мое молчанье это не порок. Вывожу опять на свет. Я из темноты свою печаль. <br/>Поболит и пройдет само. Только мне все уже равно. <br/>Припев: Я знаю сердце твое хрусталь. Но мне ни капли его не жаль. Там внутри снега... Как поединок с самим собой. Моя разбилась о лед любовь. И метут опять снега. <br/>Кружится ночь, как-будто ветер живой. Гоняет снега неуёмный рой. Над моею головой. Над тобою, надо мной кружит. <br/>Стужа в душе, снаружи тоже изной. Но что теперь поделаешь со мной. Заплатил такой ценой. Остается просто дальше жить. <br/>Поцелуй не согреет уст. У беды очень странный вкус. <br/>Припев:х2 Я знаю сердце твое хрусталь. Но мне ни капли его не жаль. Там внутри снега... Как поединок с самим собой. Моя разбилась о лед любовь. И метут опять снега.</pre>\n",
       "<div class=\"share_txt\">\n",
       "<div class=\"ya-share2\" data-services=\"vkontakte,facebook,odnoklassniki,twitter,telegram\"></div></div>\n",
       "<div class=\"links\">\n",
       "<a class=\"download\" href=\"/print/44645-grigorijj-leps-snega.txt\"><i class=\"icon\"></i> <span>Скачать txt</span></a>\n",
       "<a class=\"translate\" href=\"https://translate.google.com/translate?u=https://text-you.ru/rus_text_pesni/44645-grigorijj-leps-snega.html&amp;hl=ru&amp;ie=UTF8&amp;sl=ru&amp;tl=en\" rel=\"nofollow\" target=\"_blank\"><i class=\"icon\"></i> <span>Перевести</span></a>\n",
       "</div>\n",
       "</div>\n",
       "</div>\n",
       "<div class=\"left_panel\">\n",
       "<div class=\"other_texts\">\n",
       "<h3><a href=\"/songs/%D0%B3%D1%80%D0%B8%D0%B3%D0%BE%D1%80%D0%B8%D0%B9+%D0%BB%D0%B5%D0%BF%D1%81.html\">Григорий Лепс тексты песен</a></h3>\n",
       "<ul><li><a href=\"/rus_text_pesni/4555-grigorijj-leps-ne-zhdi-menja-i-slava.html\">Григорий Лепс - Не жди меня (и Слава ...</a></li><li><a href=\"/rus_text_pesni/4556-grigorijj-leps-rasskazhi.html\">Григорий Лепс - Расскажи</a></li><li><a href=\"/rus_text_pesni/4557-grigorijj-leps-natali.html\">Григорий Лепс - Натали</a></li><li><a href=\"/rus_text_pesni/4558-grigorijj-leps-ja-tebja-ne-ljublju.html\">Григорий Лепс - Я тебя не люблю</a></li><li><a href=\"/rus_text_pesni/4559-grigorijj-leps-vjuga.html\">Григорий Лепс - Вьюга</a></li><li><a href=\"/rus_text_pesni/44645-grigorijj-leps-snega.html\">Григорий Лепс - Снега</a></li></ul>\n",
       "<a class=\"all_texts\" href=\"/songs/%D0%B3%D1%80%D0%B8%D0%B3%D0%BE%D1%80%D0%B8%D0%B9+%D0%BB%D0%B5%D0%BF%D1%81.html\">Смотреть все</a>\n",
       "</div>\n",
       "<div class=\"related\">\n",
       "<h3>Набирают популярность</h3>\n",
       "<ul><li><a href=\"/rus_text_pesni/7487-bratja-grim-khrust-popolam.html\">Братья Грим - Хрусть - пополам...</a></li><li><a href=\"/rus_text_pesni/17490-ls.den-i-bahh-tee-mama-prosti-ja-ne-daril-tebe.html\">Ls.Den и Bahh Tee - Мама, Прости Я Н...</a></li><li><a href=\"/rus_text_pesni/27989-bi-2-feat.-jurijj-usachjov-robot.html\">Би-2 feat. Юрий Усачёв - Робот...</a></li><li><a href=\"/rus_text_pesni/38360-d.k.-montana-vecherinka.html\">D.K. &amp; Montana - Вечеринка</a></li><li><a href=\"/rus_text_pesni/38812-kristina-si-ne-obizhajj-menja.html\">Kristina Si - Не обижай меня...</a></li><li><a href=\"/rus_text_pesni/39889-galina-bob-bjotsja-serdce.html\">Галина Боб - Бьётся сердце...</a></li><li><a href=\"/rus_text_pesni/44702-gruppa-viva-aleksejj-vorobjov-gruppa-frendy.html\">Группа ViVA, Алексей Воробьёв, групп...</a></li><li><a href=\"/rus_text_pesni/65042-dzhozzi-mne-by-letat.html\">Джоззи - Мне бы летать...</a></li><li><a href=\"/rus_text_pesni/70400-nebezao-bezumno-ljubil.html\">Nebezao - Безумно Любил</a></li><li><a href=\"/rus_text_pesni/70783-vvikki-nebo.html\">Vvikki - Небо</a></li></ul>\n",
       "</div>\n",
       "</div>\n",
       "<div class=\"clip\">\n",
       "<h3>Видеоклип «Григорий Лепс - Снега»</h3>\n",
       "<iframe allowfullscreen=\"\" class=\"clip_player\" frameborder=\"0\" src=\"https://www.youtube.com/embed/DA4k9uIJ8Go\"></iframe></div>\n",
       "<div class=\"notice\">\n",
       "<p>* Текст песни написан собственноручно и предназначен для ознакомления.</p>\n",
       "</div>\n",
       "</div>\n",
       "<div class=\"right\">\n",
       "<div class=\"category\">\n",
       "<h3>Меню</h3>\n",
       "<ul>\n",
       "<li><a href=\"/lastnews/\">Новые</a></li>\n",
       "<li><a href=\"/rus_text_pesni/\">Русские</a></li>\n",
       "<li><a href=\"/eng_text_pesni/\">Зарубежные</a></li>\n",
       "<li><a href=\"/collections.html\">Сборники</a></li>\n",
       "<li><a href=\"/search.html\">Поиск по словам</a></li>\n",
       "</ul>\n",
       "</div>\n",
       "<div class=\"new_lyrics\">\n",
       "<h3><a href=\"/lastnews/\">Новые тексты</a></h3>\n",
       "<ul><li><a href=\"/rus_text_pesni/76370-katya-tu-brosajj.html\" title=\"Текст песни Katya Tu - Бросай\">Katya Tu - Бросай</a></li><li><a href=\"/rus_text_pesni/76369-grigorijj-leps-rodina-mat.html\" title=\"Текст песни Григорий Лепс - Родина-мать\">Григорий Лепс - Родина-мать...</a></li><li><a href=\"/rus_text_pesni/76368-ani-lorak-na-meli.html\" title=\"Текст песни Ани Лорак - На мели\">Ани Лорак - На мели</a></li><li><a href=\"/rus_text_pesni/76367-aleksejj-brjancev-skazka-na-dvoikh.html\" title=\"Текст песни Алексей Брянцев - Сказка На Двоих\">Алексей Брянцев - Сказка На...</a></li><li><a href=\"/rus_text_pesni/76366-milana-khametova-milana-star-lp.html\" title=\"Текст песни Милана Хаметова &amp; Milana Star - ЛП\">Милана Хаметова &amp; Milana St...</a></li><li><a href=\"/rus_text_pesni/76365-picca-feat.-zivert-zalipatelno.html\" title=\"Текст песни Пицца feat. Zivert - Залипательно\">Пицца feat. Zivert - Залипа...</a></li><li><a href=\"/rus_text_pesni/76364-dmitrijj-koldun-pridu-bez-povoda.html\" title=\"Текст песни Дмитрий Колдун - Приду Без Повода\">Дмитрий Колдун - Приду Без ...</a></li><li><a href=\"/rus_text_pesni/76363-natalja-podolskaja-otel.html\" title=\"Текст песни Наталья Подольская - Отель\">Наталья Подольская - Отель</a></li><li><a href=\"/rus_text_pesni/76362-maksim-kruzhenkov-ottepel.html\" title=\"Текст песни Максим Круженков - Оттепель\">Максим Круженков - Оттепель...</a></li><li><a href=\"/rus_text_pesni/76361-vladimir-zhdamirov-schaste.html\" title=\"Текст песни Владимир Ждамиров - Счастье\">Владимир Ждамиров - Счастье...</a></li><li><a href=\"/rus_text_pesni/76360-tima-belorusskikh-otpusti.html\" title=\"Текст песни Тима Белорусских - Отпусти\">Тима Белорусских - Отпусти</a></li><li><a href=\"/eng_text_pesni/76359-linkin-park-fighting-myself.html\" title=\"Текст песни Linkin Park - Fighting Myself\">Linkin Park - Fighting Myse...</a></li><li><a href=\"/rus_text_pesni/76358-zveri-mechtaem.html\" title=\"Текст песни Звери - Мечтаем\">Звери - Мечтаем</a></li><li><a href=\"/rus_text_pesni/76357-mark-tishman-najjdjotsja.html\" title=\"Текст песни Марк Тишман - Найдётся\">Марк Тишман - Найдётся</a></li><li><a href=\"/rus_text_pesni/76356-julianna-karaulova-silnaja.html\" title=\"Текст песни Юлианна Караулова - Сильная\">Юлианна Караулова - Сильная...</a></li></ul>\n",
       "</div>\n",
       "<div class=\"top_artist\">\n",
       "<h3>Лучшие артисты</h3>\n",
       "<ul></ul>\n",
       "</div>\n",
       "</div>\n",
       "</div>\n",
       "<div class=\"footer\">\n",
       "<div class=\"footer_nav\">\n",
       "<ul>\n",
       "<li><a href=\"/about_us.html\">О сайте</a></li>\n",
       "<li><a href=\"/regulations.html\">Правила</a></li>\n",
       "<li><a href=\"/feedback.html\">Контакты</a></li>\n",
       "<li><a href=\"/cooperation.html\">Сотрудничество</a></li>\n",
       "</ul>\n",
       "</div>\n",
       "<div class=\"counter\"><!--LiveInternet counter--><script><!--\n",
       "document.write(\"<a rel='nofollow' href='//www.liveinternet.ru/click' \"+\n",
       "\"target=_blank><img src='//counter.yadro.ru/hit?t38.2;r\"+\n",
       "escape(document.referrer)+((typeof(screen)==\"undefined\")?\"\":\n",
       "\";s\"+screen.width+\"*\"+screen.height+\"*\"+(screen.colorDepth?\n",
       "screen.colorDepth:screen.pixelDepth))+\";u\"+escape(document.URL)+\n",
       "\";\"+Math.random()+\n",
       "\"' alt='' title='LiveInternet' \"+\n",
       "\"border='0' width='31' height='31'><\\/a>\")\n",
       "//--></script><!--/LiveInternet--></div>\n",
       "<div class=\"copyright\">© Text-You.ru, 2023</div>\n",
       "</div>\n",
       "</div>\n",
       "<script>document.addEventListener('DOMContentLoaded',function(){var phone_menu_btn=document.getElementById(\"phone_menu_btn\");var phone_search_btn=document.getElementById(\"phone_search_btn\");var form_search=document.getElementsByClassName(\"search_mini\")[0];var phone_menu=document.getElementsByClassName(\"category\")[0];phone_menu_btn.addEventListener('click',function(){form_search.classList.remove('open');if(phone_menu.classList.contains('open')){phone_menu.classList.remove('open')}else{phone_menu.className+=\" open\"}},false);phone_search_btn.addEventListener('click',function(){phone_menu.classList.remove('open');if(form_search.classList.contains('open')){form_search.classList.remove('open')}else{form_search.className+=\" open\"}},false);phone_menu.addEventListener('click',function(){phone_menu.classList.remove('open')})},false);</script>\n",
       "<script src=\"//yastatic.net/es5-shims/0.0.2/es5-shims.min.js\"></script>\n",
       "<script src=\"//yastatic.net/share2/share.js\"></script>\n",
       "<script src=\"/js/lazysizes.min.js\"></script>\n",
       "<script src=\"/engine/ajax/dle_ajax.js\"></script>\n",
       "</body>\n",
       "</html>"
      ]
     },
     "execution_count": 13,
     "metadata": {},
     "output_type": "execute_result"
    }
   ],
   "source": [
    "song_soup = BeautifulSoup(song_url.content, 'html.parser')\n",
    "song_soup"
   ]
  },
  {
   "cell_type": "code",
   "execution_count": 16,
   "id": "d06097ca",
   "metadata": {},
   "outputs": [
    {
     "data": {
      "text/plain": [
       "'<pre>Кажется мне, что мы с тобою одно. Но мир опять уходит из-под ног. До чего знакомый снег. Я уже не раз его встречал. <br/>Слышится смех, но только мне не смешно. Мое молчанье это не порок. Вывожу опять на свет. Я из темноты свою печаль. <br/>Поболит и пройдет само. Только мне все уже равно. <br/>Припев: Я знаю сердце твое хрусталь. Но мне ни капли его не жаль. Там внутри снега... Как поединок с самим собой. Моя разбилась о лед любовь. И метут опять снега. <br/>Кружится ночь, как-будто ветер живой. Гоняет снега неуёмный рой. Над моею головой. Над тобою, надо мной кружит. <br/>Стужа в душе, снаружи тоже изной. Но что теперь поделаешь со мной. Заплатил такой ценой. Остается просто дальше жить. <br/>Поцелуй не согреет уст. У беды очень странный вкус. <br/>Припев:х2 Я знаю сердце твое хрусталь. Но мне ни капли его не жаль. Там внутри снега... Как поединок с самим собой. Моя разбилась о лед любовь. И метут опять снега.</pre>'"
      ]
     },
     "execution_count": 16,
     "metadata": {},
     "output_type": "execute_result"
    }
   ],
   "source": [
    "song_row = str(song_soup.find_all('pre')[0])\n",
    "song_row"
   ]
  },
  {
   "cell_type": "code",
   "execution_count": 15,
   "id": "31df6d04",
   "metadata": {},
   "outputs": [],
   "source": [
    "def replace_all(text, to_replace):\n",
    "    for i in to_replace:\n",
    "        text = text.replace(i, ' ')\n",
    "    return text    "
   ]
  },
  {
   "cell_type": "code",
   "execution_count": 23,
   "id": "45eaa7e2",
   "metadata": {},
   "outputs": [
    {
     "data": {
      "text/plain": [
       "' Кажется мне, что мы с тобою одно. Но мир опять уходит из-под ног. До чего знакомый снег. Я уже не раз его встречал. Слышится смех, но только мне не смешно. Мое молчанье это не порок. Вывожу опять на свет. Я из темноты свою печаль. Поболит и пройдет само. Только мне все уже равно. Припев: Я знаю сердце твое хрусталь. Но мне ни капли его не жаль. Там внутри снега... Как поединок с самим собой. Моя разбилась о лед любовь. И метут опять снега. Кружится ночь, как-будто ветер живой. Гоняет снега неуёмный рой. Над моею головой. Над тобою, надо мной кружит. Стужа в душе, снаружи тоже изной. Но что теперь поделаешь со мной. Заплатил такой ценой. Остается просто дальше жить. Поцелуй не согреет уст. У беды очень странный вкус.  Я знаю сердце твое хрусталь. Но мне ни капли его не жаль. Там внутри снега... Как поединок с самим собой. Моя разбилась о лед любовь. И метут опять снега. '"
      ]
     },
     "execution_count": 23,
     "metadata": {},
     "output_type": "execute_result"
    }
   ],
   "source": [
    "replace_all(song_row, ['<pre>', 'b /', '</pre>', '<br/>', 'Припев:х2', '  '])"
   ]
  },
  {
   "cell_type": "code",
   "execution_count": 24,
   "id": "4e58ac4d",
   "metadata": {},
   "outputs": [
    {
     "data": {
      "text/plain": [
       "' Кажется мне, что мы с тобою одно. Но мир опять уходит из-под ног. До чего знакомый снег. Я уже не раз его встречал. Слышится смех, но только мне не смешно. Мое молчанье это не порок. Вывожу опять на свет. Я из темноты свою печаль. Поболит и пройдет само. Только мне все уже равно. Припев: Я знаю сердце твое хрусталь. Но мне ни капли его не жаль. Там внутри снега... Как поединок с самим собой. Моя разбилась о лед любовь. И метут опять снега. Кружится ночь, как-будто ветер живой. Гоняет снега неуёмный рой. Над моею головой. Над тобою, надо мной кружит. Стужа в душе, снаружи тоже изной. Но что теперь поделаешь со мной. Заплатил такой ценой. Остается просто дальше жить. Поцелуй не согреет уст. У беды очень странный вкус.  Я знаю сердце твое хрусталь. Но мне ни капли его не жаль. Там внутри снега... Как поединок с самим собой. Моя разбилась о лед любовь. И метут опять снега. '"
      ]
     },
     "execution_count": 24,
     "metadata": {},
     "output_type": "execute_result"
    }
   ],
   "source": [
    "song_clean = replace_all(song_row, ['<pre>', 'b /', '</pre>', '<br/>', 'Припев:х2', '  '])\n",
    "song_clean"
   ]
  },
  {
   "cell_type": "code",
   "execution_count": 25,
   "id": "37062d72",
   "metadata": {},
   "outputs": [],
   "source": [
    "song_row = str(song_soup.find_all('pre')[0])\n",
    "song_clean = replace_all(song_row, ['<pre>', 'b /', '</pre>', '<br/>', 'Припев:х2', '  '])\n",
    "song_clean = song_clean.rstrip().lstrip()"
   ]
  },
  {
   "cell_type": "code",
   "execution_count": 26,
   "id": "c9fa2a38",
   "metadata": {},
   "outputs": [
    {
     "data": {
      "text/plain": [
       "'Кажется мне, что мы с тобою одно. Но мир опять уходит из-под ног. До чего знакомый снег. Я уже не раз его встречал. Слышится смех, но только мне не смешно. Мое молчанье это не порок. Вывожу опять на свет. Я из темноты свою печаль. Поболит и пройдет само. Только мне все уже равно. Припев: Я знаю сердце твое хрусталь. Но мне ни капли его не жаль. Там внутри снега... Как поединок с самим собой. Моя разбилась о лед любовь. И метут опять снега. Кружится ночь, как-будто ветер живой. Гоняет снега неуёмный рой. Над моею головой. Над тобою, надо мной кружит. Стужа в душе, снаружи тоже изной. Но что теперь поделаешь со мной. Заплатил такой ценой. Остается просто дальше жить. Поцелуй не согреет уст. У беды очень странный вкус.  Я знаю сердце твое хрусталь. Но мне ни капли его не жаль. Там внутри снега... Как поединок с самим собой. Моя разбилась о лед любовь. И метут опять снега.'"
      ]
     },
     "execution_count": 26,
     "metadata": {},
     "output_type": "execute_result"
    }
   ],
   "source": [
    "song_clean"
   ]
  },
  {
   "cell_type": "markdown",
   "id": "65e73a7f",
   "metadata": {},
   "source": [
    "скомпонуем"
   ]
  },
  {
   "cell_type": "code",
   "execution_count": null,
   "id": "8df3c420",
   "metadata": {},
   "outputs": [],
   "source": [
    "song_url = requests.get(song_name)\n",
    "song_soup = BeautifulSoup(song_url.content, 'html.parser')\n",
    "song_row = str(song_soup.find_all('pre')[0])\n",
    "song_clean = replace_all(song_row, ['<pre>', 'b /', '</pre>', '<br/>', 'Припев:х2', '  '])\n",
    "song_clean = song_clean.rstrip().lstrip()\n",
    "song_clean"
   ]
  },
  {
   "cell_type": "code",
   "execution_count": 29,
   "id": "88d82771",
   "metadata": {},
   "outputs": [
    {
     "name": "stdout",
     "output_type": "stream",
     "text": [
      "Parsed: 1 / 56\n",
      "Parsed: 2 / 56\n",
      "Parsed: 3 / 56\n",
      "Parsed: 4 / 56\n",
      "Parsed: 5 / 56\n",
      "Parsed: 6 / 56\n",
      "Parsed: 7 / 56\n",
      "Parsed: 8 / 56\n",
      "Parsed: 9 / 56\n",
      "Parsed: 10 / 56\n",
      "Parsed: 11 / 56\n",
      "Parsed: 12 / 56\n",
      "Parsed: 13 / 56\n",
      "Parsed: 14 / 56\n",
      "Parsed: 15 / 56\n",
      "Parsed: 16 / 56\n",
      "Parsed: 17 / 56\n",
      "Parsed: 18 / 56\n",
      "Parsed: 19 / 56\n",
      "Parsed: 20 / 56\n",
      "Parsed: 21 / 56\n",
      "Parsed: 22 / 56\n",
      "Parsed: 23 / 56\n",
      "Parsed: 24 / 56\n",
      "Parsed: 25 / 56\n",
      "Parsed: 26 / 56\n",
      "Parsed: 27 / 56\n",
      "Parsed: 28 / 56\n",
      "Parsed: 29 / 56\n",
      "Parsed: 30 / 56\n",
      "Parsed: 31 / 56\n",
      "Parsed: 32 / 56\n",
      "Parsed: 33 / 56\n",
      "Parsed: 34 / 56\n",
      "Parsed: 35 / 56\n",
      "Parsed: 36 / 56\n",
      "Parsed: 37 / 56\n",
      "Parsed: 38 / 56\n",
      "Parsed: 39 / 56\n",
      "Parsed: 40 / 56\n",
      "Parsed: 41 / 56\n",
      "Parsed: 42 / 56\n",
      "Parsed: 43 / 56\n",
      "Parsed: 44 / 56\n",
      "Parsed: 45 / 56\n",
      "Parsed: 46 / 56\n",
      "Parsed: 47 / 56\n",
      "Parsed: 48 / 56\n",
      "Parsed: 49 / 56\n",
      "Parsed: 50 / 56\n",
      "Parsed: 51 / 56\n",
      "Parsed: 52 / 56\n",
      "Parsed: 53 / 56\n",
      "Parsed: 54 / 56\n",
      "Parsed: 55 / 56\n",
      "Parsed: 56 / 56\n"
     ]
    }
   ],
   "source": [
    "parsed_songs = {}\n",
    "n = 0\n",
    "\n",
    "for song_name in songs_urls:\n",
    "    song_url = requests.get(song_name)\n",
    "    song_soup = BeautifulSoup(song_url.content, 'html.parser')\n",
    "    song_row = str(song_soup.find_all('pre')[0])\n",
    "    song_clean = replace_all(song_row, ['<pre>', 'b /', '</pre>', '<br/>', 'Припев:х2', '  '])\n",
    "    song_clean = song_clean.rstrip().lstrip()\n",
    "    parsed_songs[song_name] = song_clean\n",
    "    n += 1\n",
    "    print('Parsed:', n, '/', len(songs_urls))\n",
    "    time.sleep(1)"
   ]
  },
  {
   "cell_type": "code",
   "execution_count": 30,
   "id": "71e714c4",
   "metadata": {},
   "outputs": [
    {
     "data": {
      "text/plain": [
       "{'https://text-you.ru/rus_text_pesni/rus_text_pesni/44645-grigorijj-leps-snega.html': 'Кажется мне, что мы с тобою одно. Но мир опять уходит из-под ног. До чего знакомый снег. Я уже не раз его встречал. Слышится смех, но только мне не смешно. Мое молчанье это не порок. Вывожу опять на свет. Я из темноты свою печаль. Поболит и пройдет само. Только мне все уже равно. Припев: Я знаю сердце твое хрусталь. Но мне ни капли его не жаль. Там внутри снега... Как поединок с самим собой. Моя разбилась о лед любовь. И метут опять снега. Кружится ночь, как-будто ветер живой. Гоняет снега неуёмный рой. Над моею головой. Над тобою, надо мной кружит. Стужа в душе, снаружи тоже изной. Но что теперь поделаешь со мной. Заплатил такой ценой. Остается просто дальше жить. Поцелуй не согреет уст. У беды очень странный вкус.  Я знаю сердце твое хрусталь. Но мне ни капли его не жаль. Там внутри снега... Как поединок с самим собой. Моя разбилась о лед любовь. И метут опять снега.',\n",
       " 'https://text-you.ru/rus_text_pesni/rus_text_pesni/21319-grigorijj-leps-kapitan-arktika.html': 'Нет проигранных битв, нет нарушенных клятв Он уверенно мчит за собою свой верный отряд Пусть теряется след где-то ниже ноля Бренны все острова к юго-западу от корабля. С ним так много надежд среди прочих вершин Он надежен как холод как пламя он не сокрушим Он идет напрямик воем сумрачным льдов Из обветренной памятью вечно седых городов. Припев: Если б можно бы взять повернуть время вспять Вот это романтика, чудеса навигации Но маяк не горит, тишина говорит Капитан Арктика, капитан Арктика. Да, все мысли полны кровоточащих ран Каждый сам как умеет проходит свой меридиан О, так сладко мечтать о других полюсах Ослепленная светом я гасну в его парусах. И послушен штурвал и не дрогнет рука Сто ветров завернуть в драгоценные эти шелка Так высок горизонт меж плакучих орбит Там, где новых паломников ждет семисолнечный скит. Припев.',\n",
       " 'https://text-you.ru/rus_text_pesni/rus_text_pesni/21320-grigorijj-leps-london.html': 'F В голове сколько мыслей, кому их рассказать? Ты и я здесь один лучше их записать A# Нужно продолжать двигаться, а не бежать От себя не убежишь в тридцать это надо знать Взято с сайта http://hm6.ru C Ты можешь поменять страну и континент Ты можешь сорвать куш и упустить момент F Жить, будто бы границ нет C Уходя, после себя оставить след Меня уносит с собой ветер перемен Мимо крыш домов, мимо кремлевских стен Я парю над городом, как супермен Покидая его душный плен Ещё один раз здесь только я и ты Последний звонок и горят мосты Из под ног ушла земля Я давно отпустил, но я всё ещё люблю тебя Dm Пришел момент всё в жизни поменятьA# И новые вершины покорятьGm         A# Поверь мне так трудно говоритьC «Прощай!» F Я уеду жить в Лондон!A# Я уеду жить в Лондон!C Я уеду туда, где большая водаF C Может быть навсегда Я уеду жить в Лондон! Мне Москва будет сниться Но проблема одна В направлении том Из Москвы никогда Не идут поездaF Я уеду жить в Лондон! Видно пусть с балкона, пишу мемуары А по парку гуляют влюбленные пары Я сейчас в эпицентре этой красоты Правда жизни такая: «Сочиняй мечты!» Ты можешь сбросить весь ненужный груз Очистить дом от мусора, включить Jazz Plus Поменять своё сознание, направить весь поток энергии на созидание Я научился летать, оттолкнувшись от стен Мимо площади, пролетая Big Ben Я парю над городом, как супермен Пожалуй, здесь останусь, я попал в его плен Так счастливы здесь могли быть я и ты Но время не ждет, и горят мосты Где бы не был на земле Я давно отпустил, но я скучаю по тебе Пришел момент всё в жизни поменять И новые вершины покорять Поверь мне так трудно говорить «Прощай» Я уеду жить в Лондон! Я уеду жить в Лондон! Я уеду туда, где большая вода Может быть навсегда Я уеду жить в Лондон! Мне Москва будет сниться Но проблема одна В направлении том Из Москвы никогда Не идут поезда Я уеду жить в Лондон! И сколько не пришлось бы заплатить Чтоб только рядом с королевой жит Не важно Чтоб географию свою сменить Я буду наконец, как лорды жить Вальяжно Да нафига этот Лондон Значит нужно остаться Начиная с нуля Получив реверанс Сам себе даю шанс Нафига этот Лондон? Да кому я там нужен? Появлюсь дней на пять Погрущу и опять На Москву твою мать! Я уеду жить в Лондон! Я уеду жить в Лондон! Я уеду туда, где большая вода Может быть навсегда Я уеду жить в Лондон! Мне Москва будет сниться Но проблема одна В направлении том Из Москвы никогда Не идут поезда Я уеду жить в Лондон!',\n",
       " 'https://text-you.ru/rus_text_pesni/rus_text_pesni/44133-grigorijj-leps-ja-tebe-verju-ost-sofija.html': 'Куплет 1: Дело сделано - ты поверила мне. Белое тело или же судьбу отдала. Молода ночь, а ты моложе. Но уже до дрожи своя. Припев: Я тебе верю - ты моя вера. Верь и люби меня! Я тебе верю - ты моя вера. Просто люби меня! Я тебе верю, я тебе верен. Просто люби меня! Куплет 2: У любви моей дней не считано, лет... Нет у нее ни ран, ни седины, смерти нет. Ты меня жди, возьми на веру. Я с тобою, где б ни был я!  Я тебе верю - ты моя вера. Верь и люби меня! Я тебе верю - ты моя вера. Просто люби меня! Я тебе верю, я тебе верен. Просто люби меня!',\n",
       " 'https://text-you.ru/rus_text_pesni/rus_text_pesni/10167-grigorijj-leps-rokovaja-ljubov.html': 'Жизнь я рисовал с линейкою прямой, Я разрубал узлы и не терял покой-ой. Унизиться боясь, я женщин унижал, И знал я, что так надо, и не переживал, Но звери дикие мне в душу ворвались И хлест утратил свой простой волшебный смысл. Перед женщиной, вдруг, беззащитен я И солнце вольное погасло для меня. Как она опасна, как она нежна! Кошачья грация и хищная душа! И что нибудь решить нет права у меня. Быть или не быть, скажет мне она. Припев Медленно, медленно прорастает слово - \"опасная\", \"роковая\" - Это последнее слово, словно прыжок с небоскреба в дождь. Медленно, медленно вырастает эта волна моя роковая. Девять-девятых валов. Кто то сказал:\"Роковая любовь\". И что же делать мне теперь, что же делать мне теперь? Я понял, что всю жизнь ходил я по воде, эй. Не знаю, был ли прав я, обижая тех, Но кошечка сполна мне отомстит за всех. Как она открыта, как она смела! Ласково убьет, быстрее, чем игла! И я хочу погибнуть жизнь мне не мила! Мой ли это выбор, скажет мне она! Припев Медленно, медленно прорастает слово - \"опасная\", \"роковая\" - Это последнее слово, словно прыжок с небоскреба в дождь. Медленно, медленно вырастает эта волна моя роковая. Девять-девятых валов. Кто то сказал:\"Роковая любовь\".(2раза)',\n",
       " 'https://text-you.ru/rus_text_pesni/rus_text_pesni/4557-grigorijj-leps-natali.html': 'В старом парке пахнет хвойной тишиной, И качаются на ветках облака. Сколько времени не виделись с тобой, Может год, а может целые века?  Ни за что теперь не отыскать следов В дальний край, где мы друг друга не нашли. Я пришёл к тебе из позабытых снов, Как приходят в свою гавань корабли  Натали утоли мои печали, Натали! Натали я прошёл пустынью грусти пол-земли! Натали я вернулся, чтоб сказать тебе прости Натали от судьбы и от тебя мне не уйти! Утоли мои печали, Натали! Натали! Натали!  Потерял я где-то в бездорожье лет Безоглядную влюблённость и покой. Брал от женщин всё, что мог, и не секрет, Я не свят, я виноват перед тобой! Целовал я струи многих родников И томился одиночеством вдали. Мои волосы от зноя и ветров Побелели, как степные ковыли.  Натали утоли мои печали, Натали! Натали я прошёл пустынью грусти пол-земли! Натали я вернулся, чтоб сказать тебе прости Натали от судьбы и от тебя мне не уйти! Утоли мои печали, Натали! Натали! Натали!  Я проделал долгий путь, Только время обмануть невозможно Натали и и И хоть я другим не стал, Но с дороги я устал и душа моя в пыли.  Натали утоли мои печали, Натали! Натали я прошёл пустынью грусти пол-земли! Натали я вернулся, чтоб сказать тебе прости Натали от судьбы и от тебя мне не уйти! Утоли мои печали, Натали! Натали! Натали! Натали! Натали я вернулся, чтоб сказать тебе прости Натали от судьбы и от тебя мне не уйти! Утоли мои печали, Натали! Натали! Натали!',\n",
       " 'https://text-you.ru/rus_text_pesni/rus_text_pesni/17682-grigorijj-leps-ja-stanu-vodopadom.html': 'Снег под ногами, сделанный на заказ, Что будет с нами, узнаем через несколько фраз. Слова как иголки, предложения как ножи, Поцелуев осколки - прошлое не сложить. Мы теперь об этом знаем всё... Я стану водопадом, падением с высоты. И все твои вина из винограда для меня уже слишком просты. В тебе больше нет хмеля, и крепость твоя не та. Нам оставалась всего неделя, и она уже прожита. Ла-ла -ла -ла.... Я мог бы остаться, и уже ни каких перемен, Я мог бы сдаваться, но что мы получили в замен. Холодные ночи, одинокие вечера, Давай все закончим, давай забывать номера. Мы теперь об этом знаем всё... Я стану водопадом, падением с высоты. И все твои вина из винограда для меня уже слишком просты. В тебе больше нет хмеля, и крепость твоя не та. Нам оставалась всего неделя, и она уже прожита. Ла-ла -ла -ла.... Мы теперь об этом знаем всё... Я стану водопадом, падением с высоты. И все твои вина из винограда для меня уже слишком просты. В тебе больше нет хмеля, и крепость твоя не та. Нам оставалась всего неделя, и она... Ла-ла-ла-ла.. соло саксофон)) В тебе больше нет хмеля, и крепость твоя не та. Нам оставалась всего неделя, и она..уже прожита. Ла-ла-ла-ла...',\n",
       " 'https://text-you.ru/rus_text_pesni/rus_text_pesni/25286-grigorijj-leps-moskovskaja-pesnja.html': 'Весна в Москву приходит незаметноИз облаков спускается тепло На парашюте белом, легче ветраНа планере, прозрачном, как стекло В апреле очень хочется влюбитьсяИ в мае невозможно не любитьПусть кто-то осторожно удивитсяТому, что, безусловно, может быть Припев: Старая жизнь по-новомуТуда-сюда по СадовомуСто двадцать много, сто тридцать малоНачну сначала завтра новый день и яСтарая жизнь по-новомуТуда-сюда по СадовомуСто двадцать много, сто тридцать малоНачну сначала завтра новый день и я С тобой, Москва, мне очень трудно споритьТы женщина,а с дамой что за спорСлова мои всего лишь каплей в мореВольются в этот вечный разговор О том, о сем, полмира за полночиЗажечь по полной правильный починЛети, душа моя, но, если хочешьМы помолчим, мы просто помолчим Припев: Старая жизнь по-новомуТуда-сюда по СадовомуСто двадцать много, сто тридцать малоНачну сначала завтра новый день и яСтарая жизнь по-новомуТуда-сюда по СадовомуСто двадцать много, сто тридцать малоНачну сначала завтра новый день и я Старая жизнь по-новомуТуда-сюда по СадовомуСто двадцать много, сто тридцать малоНачну сначала завтра новый день и яСтарая жизнь по-новомуТуда-сюда по СадовомуСто двадцать много, сто тридцать малоНачну сначала завтра новый день и я Старая жизнь по-новомуТуда-сюда по СадовомуСто двадцать много, сто тридцать малоНачну сначала завтра новый день и яСтарая жизнь по-новомуТуда-сюда по СадовомуСто двадцать много, сто тридцать малоНачну сначала завтра новый день и я',\n",
       " 'https://text-you.ru/rus_text_pesni/rus_text_pesni/4569-grigorijj-leps-rjumka-vodki-na-stole.html': 'Ночь по улицам пошла звездной поступью цариц. Слов и чисел простота у небесного моста. Раскидала перья птиц. Не забудутся никем праздник губ, обиды глаз. Забери меня в свой плен. Эту линию колен целовать последний раз.  Припев: Только рюмка водки на столе, ветер плачет за окном. Тихо болью отзываются во мне этой молодой луны крики.  Не легко тебя отдать парусам ветров и птиц. Может, даже, не понять, может, даже, не узнать среди тысяч женских лиц. Пусть глаза мои молчат. Молча смотрят на луну. Если кто поймает взгляд, поторопится назад, сам не знаю почему.  Припев: Только рюмка водки на столе, ветер плачет за окном. Тихо болью отзываются во мне этой молодой луны крики.  Припев: Только рюмка водки на столе, ветер плачет за окном. Тихо болью отзываются во мне этой молодой луны крики.',\n",
       " 'https://text-you.ru/rus_text_pesni/rus_text_pesni/4563-grigorijj-leps-berega.html': 'Сталь ярким крылом рвёт облака пополам Ты где-то внизу и светит звезда не нам А нам нужно успеть что-то сказать, знать бы что Но мой горизонт сольётся с твоим и ты узнаешь. Припев: Согревая наши души, выкупая наши клятвы Жизнь входит в берега Незаметно и неслышно после бури как в затишье Жизнь входит в берега. Разрывая наши цепи, наполняя наши мели Жизнь входит в берега Заставляя думать прежде, чем оставить все надежды Жизнь входит в берега. Тень выльет в окно счастье двоих, тайну их Спрячь шторами звук, желание рук о них Но ждать чувствуя свет чьих-то побед и наград Тень - это пятно, это рассвет но бьётся в капле. Припев.',\n",
       " 'https://text-you.ru/rus_text_pesni/rus_text_pesni/14487-grigorijj-leps-spasibo-rebjata.html': 'Вспоминая тихо о былом, сидя у могилы, Говорят мужчины...их морщины, Помнят поминутно всё о том, Как в одно мгновенье, без предупреждения, утром грянул гром... И вспорхнули птицы к огненной границе, думая что сон... Но безумный гром в черной колеснице, Он им будет сниться...всю их жизнь потом... ..вся их жизнь о том... Припев: Спасибо, ребята! За то, что вы с отчизной были рядом... Спасибо, герои! За то, что, заслонив собой, стояли крепкою стеной!.. Спасибо, ребята! Всем тем, кто был России старшим братом... За то, что не могло бы быть без вас, Но вы сумели победить... завещав нам жить, завещав нам жить... В теплом свете вечного огня, Страшные мгновенья неповиновения, Поколения... Мы должны их помнить имена Чтоб однажды утром, если будет нужно, Мы могли б всегда полететь, как птицы, В дальние станицы или города... Видела звезда, как отцы и деды делали победы, Мы запомним это, это навсегда.. С нами навсегда!.. Припев.',\n",
       " 'https://text-you.ru/rus_text_pesni/rus_text_pesni/11733-grigorijj-leps-zima.html': 'Стою я на перроне, фонарик как лампада Февральский ветер ловит твой взгляд за снегопадом Иду к тебе навстречу, а вдруг ещё не поздно, А вдруг ещё не вечер, ты мне нужна как воздух  До станции «Зима» пешком почти полгода До станции «Зима» другой дороги нет На станции «Зима» до пояса сугробы До станции «Зима» в один конец билет До станции «Зима» в один конец билет  Оставлю ссоры в прошлом, кому нужны потери!? Ты думаешь, что плачу (мне жгут глаза метели) Сжимается подковой моя душа на стуже Скажи всего два слова и я пойму, что нужен  До станции «Зима» пешком почти полгода До станции «Зима» другой дороги нет На станции «Зима» до пояса сугробы До станции «Зима» в один конец билет До станции «Зима» в один конец билет  Проигрыш ….(модуляция)  До станции «Зима» пешком почти полгода До станции «Зима» другой дороги нет На станции «Зима» до пояса сугробы До станции «Зима» в один конец билет До станции «Зима» в один конец билет',\n",
       " 'https://text-you.ru/rus_text_pesni/rus_text_pesni/4555-grigorijj-leps-ne-zhdi-menja-i-slava.html': 'Душа и мысль - единый вздох Не жди меня, нет больше слов Не будет больше снов Простужен день, он льёт дожди И в каждой капле меня не жди Холодно и безразлично так Нас осень обняла Серыми буднями - не разбудить огня Не заставить сердце биться чаще, если нет Если нет причин для счастья мне Не хочется смотреть, как мы с тобой Убиваем свою любовь Закрыть глаза и сделать шаг Покажется, что жизнь - пустяк Пусть в парке листья жгут А мы сожжём мосты Серыми буднями - не разбудить огня Не заставить сердце биться чаще, если нет Если нет причин для счастья мне Не хочется смотреть, как мы с тобой Убиваем свою любовь Серыми буднями - не разбудить огня Не заставить сердце биться чаще, счастья нет Простужен день, он льёт дожди И в каждой капле, меня не жди Холодно и безразлично так Нас осень обняла',\n",
       " 'https://text-you.ru/rus_text_pesni/rus_text_pesni/4562-grigorijj-leps-ukhodi-krasivo.html': 'Ты мне говоришь что совсем разбил я жизнь твою Всё этот так сложно, начинать снова, но я тебе подпою Как было трудно тебе, сколько лет нервы трепать мне Дам совет, лишь совет, в нём негатива поверь нет-нет. Припев: Уходи красиво и живи счастливо У кого есть сила запретить тебе Если надоело, если надоело Уходи красиво, мой тебе совет. Не такой? Иди! найди где такой! Всё-равно людей сменить легко но не изменить их Так чего ты ждёшь? Ты ждёшь чтоб я изменился Прямо здесь чтобы я, чтобы я вдруг стал прекрасным принцем. Припев.  Но ты же ищешь виноватых А я пока что под рукой Но я же вижу что не я так Найдётся кто-нибудь другой. Припев.',\n",
       " 'https://text-you.ru/rus_text_pesni/rus_text_pesni/46768-grigorijj-leps-razbitaja-ljubov.html': 'Припев: Знай, время не остановить, В прошлое не возвратиться, Мне уже довольно, но Стучит в окно Черно-белая печаль И в небо улетает птицей, Как последнее прощай. Куплет: Григорий Лепс Разбитая любовь, тонкие нити, Мы хотели вновь соединить их, Тяжело дышать, но уже не больно, Все, моя душа парализована. Разбитая любовь, белые пятна, Разбитая любовь, а может, обратно, Тяжело дышать, но уже не больно, Все, моя душа парализована. Припев: Знай, ничего не изменить, Ни к чему искать причины, Мне уже довольно фраз. Как в первый раз, Нам уже не полюбить, Наши души излечимы, Но запомним, как сейчас. Переход: Разбитая любовь, тонкие нити, Мы хотели вновь соединить их, Тяжело дышать, но уже не больно, Все, моя душа парализована. Разбитая любовь, белые пятна, Разбитая любовь, а может, обратно, Тяжело дышать, но уже не больно, Все, моя душа парализована. Парализована! (Х6) Разбитая любовь, тонкие нити, Мы хотели вновь соединить их, Тяжело дышать, но уже не больно, Все, моя душа парализована. Разбитая любовь, белые пятна, Разбитая любовь, а может, обратно, Тяжело дышать, но уже не больно, Все, моя душа парализована. Разбитая любовь… Парализована! (Х4) Разбитая любовь, белые пятна, Разбитая любовь, а может, обратно, Тяжело дышать, но уже не больно, Все, моя душа парализована. Знай…',\n",
       " 'https://text-you.ru/rus_text_pesni/rus_text_pesni/63822-grigorijj-leps-mojj-pervyjj-srok.html': 'Первый срок, нечаянная ходка, пацана ментовка замела! Забывай-бывай меня, молодка, и живи, как раньше ты жила. Первый срок, он шел за мной по следу, мы же знали это все с тобой! Я еще прие-прие-приеду и еще почти что молодой. Припев: А воровской припев такой - семь лет - не вышка! Не суетись, когда на кичу заметут! Не верь, не бойся, не проси - такая фишка, не верь, не бойся, не проси - такая фишка, иначе схавают и рта не оботрут! Первый срок и я приду не скоро, у тебя появятся друзья! Все ж таки семе-семе-семера - столько лет без шалости нельзя. Первый срок, нечаянная ходка, пацана ментовка замела! Забывай-бывай меня, молодка, и живи, как раньше ты жила. Припев: А воровской припев такой - семь лет - не вышка! Не суетись, когда на кичу заметут! Не верь, не бойся, не проси - такая фишка, не верь, не бойся, не проси - такая фишка, иначе схавают и рта не оботрут! А воровской припев такой - семь лет - не вышка! Не суетись, когда на кичу заметут! Не верь, не бойся, не проси - такая фишка, не верь, не бойся, не проси - такая фишка, иначе схавают и рта не оботрут! Иначе схавают и рта не оботрут',\n",
       " 'https://text-you.ru/rus_text_pesni/rus_text_pesni/65632-grigorijj-leps-dom-khrustalnyjj.html': 'Первый Куплет: Григорий Лепс Если я богат, как царь морской, Крикни только мне: \"Лови блесну!\"- Мир подводный и надводный свой, Не задумываясь, выплесну! Припев: Дом хрустальный на горе для нее. Сам, как пес бы, так и рос в цепи. Родники мои серебрянные, Золотые мои россыпи! Родники мои серебрянные, Золотые мои россыпи! Проигрыш. Второй Куплет: Григорий Лепс Если беден я, как пес, один, И в дому моем шаром кати - Ведь поможешь ты мне, Господи! Не позволишь жизнь скомкати... Припев: Дом хрустальный на горе для нее. Сам, как пес бы, так и рос в цепи. Родники мои серебрянные, Золотые мои россыпи! Родники мои серебрянные, Золотые мои россыпи! Проигрыш. Третий Куплет: Григорий Лепс Не сравнил бы я любую с тобой, Хоть казни меня, расстреливай. Посмотри, как я любуюсь тобой,- Как Мадонной Рафаэлевой! Припев: Дом хрустальный на горе для нее. Сам, как пес бы, так и рос в цепи. Родники мои серебрянные, Золотые мои россыпи! Родники мои серебрянные, Золотые мои россыпи! Россыпи!',\n",
       " 'https://text-you.ru/rus_text_pesni/rus_text_pesni/10162-grigorijj-leps-ona.html': 'Она скинет пальто, выпьет вина, чтобы согреться. Она, просто никто, но отчего так бьется сердце? Душа моя на замки закрыта от всех людей и на миллионы дней. Душа моя к небесам пришита, ну что я нашел в ней? Припев Она умеет делать мне любовь, Может выпить без остатка мне всю кровь, Может быть со мной холодной, как зима, И опять сведет, сведет меня с ума. Она знает мужчин, я это все чувствую кожей. Она - мой кокаин, мой ЛСД и даже больше. Душа моя на замки закрыта от всех людей и на миллионы дней. Душа моя к небесам пришита, ну что я нашел в ней? Припев Она умеет делать мне любовь, Может выпить без остатка мне всю кровь, Может быть со мной холодной, как зима, И опять сведет, сведет меня с ума.(2раза) И опять сведет, сведет меня с ума. И опять сведет, сведет меня с ума. Сведет меня с ума. Сведет меня с ума.',\n",
       " 'https://text-you.ru/rus_text_pesni/rus_text_pesni/10160-grigorijj-leps-zamerzaet-solnce.html': 'По пустым проспектам неба Одиноко бродит солнце, То беспечно улыбнётся, То о чём то загрустит. Всех теплом своим согреет, Жить иначе просто не умеет. А-а-а...может быть такая доля, Одинокого светила Не смотря на всё что было, Всё равно любить весь мир. Только мир собою занят, Просто так, в ответ, любить не станет. А-а-а...там высоко-о-о-о, Там далеко-о-о-о, Там в небесах, без любви, Замерзает солнце. Там высоко-о-о-о, Там далеко-о-о-о, Там в небесах, без любви, Замерзает солнце.  Все свои печали солнце, За изнанкой ночи прячет. И беззвучно, тихо плачет, Чтобы не тревожить нас. Но никто не обернётся, Не увидит эти слёзы солнца. Там высоко-о-о-о, Там далеко-о-о-о, Там в небесах, без любви, Замерзает солнце. Там высоко-о-о-о, Там далеко-о-о-о, Пряча печали свои, Замерзает солнце.  Там высоко-о-о-о, Там далеко-о-о-о, Там в небесах, без любви, Замерзает солнце. Там высоко-о-о-о, Там далеко-о-о-о, Пряча печали свои, Замерзает солнце.',\n",
       " 'https://text-you.ru/rus_text_pesni/rus_text_pesni/46779-grigorijj-leps-ty-prosto-zhzhjosh-posvjashhenie.html': 'Первый Куплет: Григорий Лепс Лучше никогда не думать о плохом - это всё пройдёт. Но в твоей душе звучит так глубоко радостная музыка. И пока живёшь ты, слушая её - музыка не врёт. Как бы что-то не пугало, всё равно двигайся вперёд! Переход: Музыка в тебе сама меняет мир, она не подведёт - Только ни на миг не предавай музыку в тебе. Припев: Ты просто жжёшь, как волшебник из сказки - В мире твоём просыпается красота. Ты создаёшь этой музыки краски - Чтобы люди могли и любить, и мечтать! Второй Куплет: Григорий Лепс В мире никогда нам не было легко - это грустный факт. Но его спасала горстка чудаков и радостная музыка. Люди понимали, слушая её - страшное пройдёт. Музыка им помогала дальше жить и двигаться вперёд. Переход: Музыка в тебе сама меняет мир, она не подведёт - Только ни на миг не предавай музыку в тебе. Припев: Ты просто жжёшь, как волшебник из сказки - В мире твоём просыпается красота. Ты создаёшь этой музыки краски - Чтобы люди могли и любить, и мечтать! Ты просто жжёшь, разве это возможно? В сердце огонь - ты вокруг освещаешь всё! Жаль только, что в нашем мире всё сложно - Просто гори, пока в сердце огонь!',\n",
       " 'https://text-you.ru/rus_text_pesni/rus_text_pesni/70691-grigorijj-leps-ona-menja-baluet.html': 'Я горящие угли бросаю в лед Я уже такой как есть – другим не стать Прожигая на огне за годом год Мне в душе всего лишь лет 25… Она меня балует, она меня чувствует Зависну на паузе, над водами грустными Зависну на паузе, над черною Яузой Над водами талыми Она меня балует По секундам собираю каждый миг Все отношения людей – лишь игра Но я не лодка, что бы по теченью плыть Раньше плыл, ну а теперь не для меня Она меня балует, она меня чувствует Зависну на паузе, над водами грустными Зависну на паузе, над черною Яузой Над водами талыми Она меня балует',\n",
       " 'https://text-you.ru/rus_text_pesni/rus_text_pesni/4565-grigorijj-leps-kupola.html': 'Как засмотрится мне нынче, как задышится? Воздух крут перед грозой, крут да вязок. Что споется мне сегодня, что услышится? Птицы вещие поют - да все из сказок.  Птица Сирин мне радостно скалится - Веселит, зазывает из гнезд, А напротив - тоскует-печалится, Травит душу чудной Алконост.  Словно семь заветных струн Зазвенели в свой черед - Это птица Гамаюн Надежду подает!  В синем небе, колокольнями проколотом,- Медный колокол, медный колокол - То ль возрадовался, то ли осерчал... Купола в России кроют чистым золотом - Чтобы чаще Господь замечал.  Я стою, как перед вечною загадкою, Пред великою да сказочной страною - Перед солоно - да горько-кисло-сладкою, Голубою, родниковою, ржаною.  Грязью чавкая жирной да ржавою, Вязнут лошади по стремена, Но влекут меня сонной державою, Что раскисла, опухла от сна.  Словно семь богатых лун На пути моем встает - То птица Гамаюн Надежду подает!  Душу, сбитую утратами да тратами, Душу, стертую перекатами,- Если до крови лоскут истончал,- Залатаю золотыми я заплатами - Чтобы чаще Господь замечал!',\n",
       " 'https://text-you.ru/rus_text_pesni/rus_text_pesni/40960-grigorijj-leps-kriminal.html': 'Куплет 1: Вот и всё, оба за чертой. Не вернуть, не простить, недолюбить. Криминал - это лучший путь. Объяснить, отомстить и с этим жить. Дай мне хоть одну причину испугаться! Припев: Страха нет, ствол у виска. И не смотри с болью в глазах. Помолчи, а хочешь - кричи. Мне всё равно - нет ничего впереди! Впереди… Куплет 2: Вот сюжет - ты любила так. Повстречать, поиграть и разорвать. Но в кино не всегда везёт. В этот раз твой герой тебя не спасёт. Как же можно было так с моей любовью? Припев: Страха нет, ствол у виска. И не смотри с болью в глазах. Помолчи, а хочешь - кричи. Мне всё равно - нет ничего впереди! Впереди… Как же можно было так с моей любовью? Страха нет, ствол у виска. И не смотри с болью в глазах. Помолчи, а хочешь - кричи. Мне всё равно - нет ничего впереди! Впереди! Впереди!',\n",
       " 'https://text-you.ru/rus_text_pesni/rus_text_pesni/4571-grigorijj-leps-ty-opozdala.html': 'Нарисуй весну, потом сотри Ночи без любви не нужны они Нарисуй луну, оставь её Изменилось всё, я ушёл давно. Припев: Ты опоздала, здесь нет меня Ты не узнаешь как мог быть счастлив я Сметает ливнем мои следы Он мог бы повенчать нас, только опоздала ты. Нарисованы твои глаза В них одна слеза ждёт ещё тепла Мне за это можно всё отдать Но должна ты знать, поздно всё менять.',\n",
       " 'https://text-you.ru/rus_text_pesni/rus_text_pesni/38642-grigorijj-leps-ja-podnimaju-ruki.html': 'Я давно уже читаю по слогам. Я давно не доверяю лишь словам. Я давно все выбираю в этой жизни сам. Знаю сколько было у меня подруг. Знаю точно там где север,а где юг. Но тебя увидел - сразу все забылось вдруг. Припев.x2 Я поднимаю руки - хочу тебе сдаться. Ведь ты же так красива, в свои восемнадцать. Я поднимаю руки, но вдруг может статься. Ты просто шанс от скуки и незачем гнаться. Ты горишь - твой пожар не потушить Ты со мной готова каждый день делить Даже если и придется вдруг послушной быть. Может сразу стоит обо всем забыть? Кинув якорь где-то тихо-мирно плыть. А меня ты знаешь просто так не изменить! Припев.x2 Я поднимаю руки - хочу тебе сдаться. Ведь ты же так красива, в свои восемнадцать. Я поднимаю руки, но вдруг может статься. Ты просто шанс от скуки и незачем гнаться.',\n",
       " 'https://text-you.ru/rus_text_pesni/rus_text_pesni/4560-grigorijj-leps-labirint.html': 'Я так устал бродить Среди высоких стен, Где каждый шаг к тебе подобен пытке.... Я так хотел тебя Навеки взять в свой плен, Но сам пленён огнём твоей улыбки.... Огнём твоей улыбки..... В глухую полночь Манит этот свет Кто был со мною, Все меня покиньте..... Я заблудился,выхода мне нет... В тебе брожу я словно в лабиринте Я заблудился,выхода мне нет.... В тебе брожу я словно в лабиринте... Куда ведёт меня Очередной зигзаг твоей души, Неведомо мне ныне.... На полпути к тебе, Умолк последний шаг... И я один,я в каменной пустыне... Я в каменной пустыне...',\n",
       " 'https://text-you.ru/rus_text_pesni/rus_text_pesni/11557-grigorijj-leps-nastojashhaja-zhenshhina.html': 'То хочу, то не хочу Кажется, что это игрой Ты преднамеренно сводишь с ума Но в тебе паника чувств Тянут на грех, минус и плюс Не понимая, что хочешь сама Ты настоящая женщина Больше добавить мне нечего Нежная, глупая, грешная И с ангельским лицом Ты настоящая женщина И от судьбы обеспеченной Рвёшься и рвёшься доверчиво В сказку с плохим концом Что в тебе дразнит меня То, что в любви, как и в войне Ты отдаёшься до самого дна Но тебя надо бы знать Ты разобьёшь много сердец И вот тогда наступает конец Ты настоящая женщина Больше добавить мне нечего Нежная, глупая, грешная И с ангельским лицом Ты настоящая женщина И от судьбы обеспеченной Рвёшься и рвёшься доверчиво В сказку с плохим концом Ты настоящая женщина Больше добавить мне нечего Нежная, глупая, грешная И с ангельским лицом Ты настоящая женщина И от судьбы обеспеченной Рвёшься и рвёшься доверчиво В сказку с плохим концом В сказку с плохим концом В сказку с плохим концом',\n",
       " 'https://text-you.ru/rus_text_pesni/rus_text_pesni/67188-grigorijj-leps-ne-tronte-dushu-grjaznymi-rukami.html': '[Куплет 1]: Пред тем, как я предстану идиотом, Я попрошу пред образом: \"Подайте...\" При нём не надо думать об исходе, Он любит нас — добавит день к расплате. Из ничего в ничто бросая семя, Живу себе, себя воображая, Моя надежда сильно поседела И с каждым годом просто никакая. [Припев]: Не троньте душу грязными руками! Не надо врать, что нет пути другого. Я на задворках мёртвыми губами… Искал поддержки я у чужих пророков. [Куплет 2]: Сквозь время память обладает силой. Забыв про боль обид и гиблые трясины, Стучится в сердце птицей синекрылой, Твердит, что верность и любовь едины.  [Припев]: Не троньте душу грязными руками! Не надо врать, что нет пути другого. Я на задворках мёртвыми губами… Искал поддержки я у чужих пророков. [Припев]: Не троньте душу грязными руками! Не надо врать, что нет пути другого. Я на задворках мёртвыми губами… Искал поддержки я у чужих пророков. Я на задворках мёртвыми губами… Искал поддержки я у чужих пророков. У чужих пророков. У чужих пророков.',\n",
       " 'https://text-you.ru/rus_text_pesni/rus_text_pesni/65636-grigorijj-leps-koni-priveredlivye.html': 'Первый Куплет: Григорий Лепс Вдоль обрыва, по-над пропастью, по самому по краю Я коней своих нагайкою стегаю, погоняю... Что-то воздуху мне мало - ветер пью, туман глотаю... Чую с гибельным восторгом: пропадаю, пропадаю! Чуть помедленнее, кони, чуть помедленнее! Вы тугую не слушайте плеть! Но что-то кони мне попались привередливые - И дожить не успел, мне допеть не успеть. Припев: Я коней напою, Я куплет допою - Хоть немного ещё постою На краю... Второй Куплет: Григорий Лепс Сгину я - меня пушинкой ураган сметёт с ладони, И в санях меня галопом повлекут по снегу утром... Вы на шаг неторопливый перейдите, мои кони, Хоть немного, но продлите путь к последнему приюту! Чуть помедленнее, кони, чуть помедленнее! Не указчики вам кнут и плеть! Но что-за кони мне попались привередливые - И дожить не успел, мне допеть не успеть. Припев: Я коней напою, Я куплет допою - Хоть немного ещё постою На краю... Третий Куплет: Григорий Лепс Мы успели: в гости к Богу не бывает опозданий. Так что ж там ангелы поют такими злыми голосами?! Или это колокольчик весь зашёлся от рыданий, Или я кричу коням, чтоб не несли так быстро сани?! Чуть помедленнее, кони, чуть помедленнее! Умоляю вас вскачь не лететь! Но что-за кони мне попались привередливые... Коль дожить не успел, так хотя бы - допеть! Припев: Я коней напою, Я куплет допою - Хоть мгновенье ещё постою На краю...',\n",
       " 'https://text-you.ru/rus_text_pesni/rus_text_pesni/46767-grigorijj-leps-amin.html': 'Первый Куплет: Григорий Лепс Я пройдусь по комнатам пустым, Здесь еще вчера была империя. Мир казался светлым и таким большим, А потом затмение, а теперь - измены дым. Припев: Я объявлю войну своим мечтам, И память торопя, расставлю вещи в доме по местам, Как было до тебя. Завтра я смогу опять дышать, и трогать неба синь. А ты - история, теперь ты лишь история. Ну все, Аминь! Второй Куплет: Григорий Лепс Я не дам тебе бродить во снах, Чувства все остались за пределами. От любви до безразличия только шаг, И его мы сделали, и назад уже никак. Припев: Я объявлю войну своим мечтам, И память торопя, расставлю вещи в доме по местам, Как было до тебя. Завтра я смогу опять бежать, и трогать неба синь. А ты - история, теперь ты лишь история. Ну все, Аминь!',\n",
       " 'https://text-you.ru/rus_text_pesni/rus_text_pesni/45757-grigorijj-leps-chto-zh-ty-natvorila.html': '[Куплет 1, Григорий Лепс]: Как-будто сразу после боя, как раскалившись до красна Остались нам вдвоём с тобою любви просроченой слова. Потом банально хлопнув дверью, не оглянувшись, Ты пошла ходить другою параллелью одна! Припев: Что ж ты натворила! Ну как же ты могла? Закончилась весна и всё запорошило. Что ж ты натворила! Решай теперь сама, Как все забыть слова; и всё, что с нами было Разрушила сама! [Куплет 2, Григорий Лепс]: Навеет запах на постели, что где-то рядом бродишь ты. И без тебя осиротели мои наивные мечты. Сольются в месяцы недели; и если не вернешься ты, Пока не будем ставить точки над i. Припев: Что ж ты натворила! Ну как же ты могла? Закончилась весна и всё запорошило. Что ж ты натворила! Решай теперь сама, Как все забыть слова; и всё, что с нами было Разрушила! Припев: Что ж ты натворила! Ну как же ты могла? Закончилась весна и всё запорошило. Что ж ты натворила! Решай теперь сама, Как все забыть слова; и всё, что с нами было! Что ж ты натворила! Ну как же ты могла? Закончилась весна и всё запорошило. Что ж ты натворила! Решай теперь сама, Как все забыть слова; и всё, что с нами было Разрушила сама!',\n",
       " 'https://text-you.ru/rus_text_pesni/rus_text_pesni/76150-grigorijj-leps-tribunal.html': 'Она красива и умна Коварна и порой жестока Ты с ней хмелеешь без вина Она считает тебя Богом И поздно отступать назад Теперь одна у вас дорога Пусть будет к вам судьба мила немного И ты не скажешь, что устал Висеть на трубке телефона И прозвучит как трибунал Тот марш — творение Мендельсона И ты не скажешь, что устал Ей поздно затевать скандал Ты покоряешь Эверест Она читает ночью Блока Ты с детства слышал — вот наглец Она красива, но жестока И ты не скажешь, что устал Теперь одна у вас дорога Пусть будет к вам судьба мила немного И ты не скажешь, что устал Висеть на трубке телефона И прозвучит как трибунал Тот марш — творение Мендельсона И ты не скажешь, что устал Ей поздно затевать скандал И ты не скажешь, что устал Висеть на трубке телефона И прозвучит как трибунал Тот марш — творение Мендельсона И ты не скажешь, что устал Ей поздно затевать скандал И ты не скажешь, что устал Висеть на трубке телефона И прозвучит как трибунал Тот марш — творение Мендельсона И ты не скажешь, что устал Ей поздно затевать скандал И ты не скажешь, что устал Висеть на трубке телефона И прозвучит как трибунал Тот марш — творение Мендельсона И ты не скажешь, что устал Ей поздно затевать скандал И ты не скажешь, что устал Висеть на трубке телефона И прозвучит как трибунал Тот марш — творение Мендельсона И ты не скажешь, что устал Ей поздно затевать скандал',\n",
       " 'https://text-you.ru/rus_text_pesni/rus_text_pesni/21665-grigorijj-leps-ja-schastlivyjj.html': 'Кто поверит, я и сам не верю - Толь на счастье, то ли на беду, У меня семь пятниц на неделе И тринадцать месяцев в году.  Моё небо - синее, в алмазах. Что-то мне по-жизни принесет. Я крещен, а может быт помазан, В общем, я - счастливый, вот и все!  Припев: Я - счастливый, как никто! Я счастливый лет уж 100. Я - счастливый! Я - не вру! Так счастливым и уйду! Я - счастливый, как никто! Я счастливый лет на 100. Я - счастливый! Я - не лгу! Так счастливым и уйду!  Кто-то знает, я и сам не знаю, Где финал тот, где та полоса. За которой лишь ворота Рая, А за ними просто Небеса.  А пока все небо только в звездах. Не во сне причем, а на яву. Что скажу за жизнь свою я просто - Я счастливый тем, что я живу.  Припев: Я - счастливый, как никто! Я счастливый лет уж 100. Я - счастливый! Я - не вру! Так счастливым и уйду! Я - счастливый, как никто! Я счастливый лет на 100. Я - счастливый! Я - не лгу! Так счастливым и уйду!  [Solo]  Я - счастливый, как никто! Я счастливый лет уж 100. Я - счастливый! Я - не вру! Так счастливым и уйду! Я - счастливый, как никто! Я счастливый лет на 100. Я - счастливый! Я - не лгу! Так счастливым и уйду!  Cчастливый, как никто! Cчастливым и уйду! Cчастливый, как никто! Cчастливым и уйду!',\n",
       " 'https://text-you.ru/rus_text_pesni/rus_text_pesni/4556-grigorijj-leps-rasskazhi.html': 'Сколько лет и сколько дней,ты жил в мечте своей. Жил и вдруг почти что умер,да и по вине своей. Целый год тебя тащили,мы подняли всех. Чтобы ты остался с нами,не ушел на век. И теперь одна надежда,мир любя. Тридцать лет осталось где-то,делай вывод для себя. Бог и мать,работа,дети,дом,семья. Чтож,совсем не плохо,для тебя.  Расскажи мне,что ты знаешь. Расскажи,куда взлетаешь. Расскажи мне ,расскажи мне,не томи. С кем там виделся,о чем беседы шли.  Расскажи мне,что ты знаешь. Расскажи,куда взлетаешь. Расскажи,как жить то будешь. Как однажды умер,знаю не забудешь.  Расскажи мне,что ты знаешь. Расскажи,куда взлетаешь. Расскажи,как жить то будешь. Теперь... Теперь...  Расскажи мне,что ты знаешь. Расскажи,куда взлетаешь. Расскажи,как жить то будешь. Теперь...',\n",
       " 'https://text-you.ru/rus_text_pesni/rus_text_pesni/4570-grigorijj-leps-izmeny-i-viktorija-ilinskaja.html': 'Тихо капает вода, я боюсь услышать \"да\", Ты уходишь и уходишь навсегда. Трудно говорить, и что-то объяснить Может быть я научусь по-новой жить. Шаг за дверь сейчас, сердца стон, Всё-равно я только с тобой! Припев: Не прощали мы друг другу наших измен, И не знали что отдать друг-другу взамен. Но любовь из раны просочится, Крыльями о стёкла буду биться к тебе. Но любовь из раны просочится, Крыльями о стёкла буду биться к тебе. Белый дым от сигарет и глаза меняют цвет, Времени в разбитой чашке больше нет. Позже всё пройдёт, любовь моя плывёт, Где-то в небе, кто поймать её рискнёт. Правда в тишине, сердца стон, Я останусь, но я с тобой. Припев: Не прощали мы друг другу наших измен, И не знали что отдать друг-другу взамен. Но любовь из раны просочится, Крыльями о стёкла буду биться к тебе. Но любовь из раны просочится, Крыльями о стёкла буду биться к тебе.',\n",
       " 'https://text-you.ru/rus_text_pesni/rus_text_pesni/64878-grigorijj-leps-samyjj-luchshijj-den.html': 'Припев:\\r\\nСамый лучший день заходил вчера\\r\\nНочью ехать лень, пробыл до утра\\r\\nНо пришла пора и собрался в путь\\r\\n\"Ну и ладно, будь!\".\\r\\n\\r\\nТриста тысяч часов за спиною\\r\\nТриста тысяч планет надо мною\\r\\nНе устал ли Создатель их в небе кружить?\\r\\n\\r\\nКаждый раз просыпаясь с рассветом\\r\\nНеспроста вспоминаешь об этом:\\r\\n\"Очень здорово всё-таки жить!\".\\r\\n\\r\\nПроигрыш.\\r\\n\\r\\nПрипев:\\r\\nСамый лучший день заходил вчера\\r\\nНочью ехать лень, пробыл до утра\\r\\nНо пришла пора и собрался в путь\\r\\n\"Ну и ладно, будь!\".\\r\\n\\r\\nСамый лучший день заходил вчера\\r\\nНочью ехать лень, пробыл до утра\\r\\nНо пришла пора и собрался в путь\\r\\n\"Ну и ладно, будь!\".\\r\\n\\r\\nЧто-то главное вышло из моды\\r\\nА мы согласно законам природы\\r\\nВсё вгрызаемся в мир будто рыба-пила.\\r\\n\\r\\nОстаётся лишь тонкая нам нить\\r\\nКак по-русски уже не упомнить\\r\\nА по Английски стало быть: \"Love\".\\r\\n\\r\\nПроигрыш.\\r\\n\\r\\nПрипев:\\r\\nСамый лучший день заходил вчера\\r\\nНочью ехать лень, пробыл до утра\\r\\nНо пришла пора и собрался в путь\\r\\n\"Ну и ладно, будь!\".\\r\\n\\r\\nСамый лучший день заходил вчера\\r\\nНочью ехать лень, пробыл до утра\\r\\nНо пришла пора и собрался в путь\\r\\n\"Ну и ладно, будь!\".\\r\\n\\r\\nСоло.\\r\\n\\r\\nПрипев:\\r\\nСамый лучший день заходил вчера\\r\\nНочью ехать лень, пробыл до утра\\r\\nНо пришла пора и собрался в путь\\r\\n\"Ну и ладно, будь!\".\\r\\n\\r\\nСамый лучший день заходил вчера\\r\\nНочью ехать лень, пробыл до утра\\r\\nНо пришла пора и собрался в путь\\r\\n\"Ну и ладно, будь!\".\\r\\n\\r\\n\"Ну и ладно, будь!\".',\n",
       " 'https://text-you.ru/rus_text_pesni/rus_text_pesni/27924-grigorijj-leps-gospodi-dajj-mne-sil.html': 'Господи, дай мне сил -Сил, чтобы не просил.Господи, дай мне сил -Сил, чтобы не просил. Сил чтоб в своём бессилье снести.Сил, чтобы в горе и в радости.Сил, чтобы просто остаться собой.Сил, чтобы сильно не спорить с судьбой. Припев:Господи, дай мне сил -Сил, чтобы не просил.Господи, дай мне сил, -Сил, чтобы не просил. Сил, чтобы бросить и чтобы начать.Сил, чтобы крикнуть и чтобы молчать.Сил: для любви и для ненависти.Сил, чтобы оставить и чтобы нести. Припев:Господи, дай мне сил -Сил, чтобы не просил.Господи, дай мне сил, -Сил, чтобы не просил. Господи, дай мне сил!Господи, дай мне сил! Сил: чтобы выть и чтобы не выть.Сил: чтобы помнить и чтобы забыть.Сил: когда с ней и сил когда без.Сил: когда сел и сил когда слез. Припев:Господи, дай мне сил -Сил, чтобы не просил.Господи, дай мне сил, -Сил, чтобы не просил. Сил, чтобы веру свою не убить.Сил, чтобы гангстером №1 не быть.Сил, чтобы все неудачи забыл.чтоб человек остался, как был. Припев:Господи, дай мне сил -Сил, чтобы не просил.Господи, дай мне сил, -Сил, чтобы не просил. Господи, дай мне сил!Господи, дай мне сил!',\n",
       " 'https://text-you.ru/rus_text_pesni/rus_text_pesni/4558-grigorijj-leps-ja-tebja-ne-ljublju.html': 'Я интересуюсь тобой, но не глубоко Иногда проводим вдвоём с тобой денёк-другой А потом ты пропадаешь, только донесёт молва Что встречали тебя в Париже, на Гоа. Сто забот ты приводишь за собой Постоянно думая что С тобой я б уже с ума сошёл Но мне всё-равно. Припев: Я тебя не люблю, это главный мой плюс Я на это кино не куплюсь Даже лучше, что я тебя не люблю. Мне не надо звонить и не надо лгать Но когда весь мир надоест, то есть куда бежать То на парочку дней, а то - на полчаса А кто я в жизни твоей, зачем мне это знать. Сто забот ты приводишь за собой Постоянно думая что С тобой я б уже с ума сошёл Но мне всё-равно. Припев: Я тебя не люблю, это главный мой плюс Я на это кино не куплюсь Переделать тебя я не стремлюсь. Я тебя не люблю, это я так решил А не то бы никто не жил Даже лучше, что я тебя не люблю.',\n",
       " 'https://text-you.ru/rus_text_pesni/rus_text_pesni/25163-grigorijj-leps-mne-snitsja-vodopad.html': 'Я пришёл издалека, стала вдруг крылом рука Я взлетел под облака словно птица И смотрю я с высоты, мир небесной красоты Понимая что увы, всё мне снится. Припев: Мне снится, мне снится водопад Мне снится, мне снится водопад. Вдаль свободную маня, разбивая брызги дня Свет холодного огня серебрится Звёзды льются с высоты, мир небесной красоты Я взлетаю, но увы, всё мне снится.',\n",
       " 'https://text-you.ru/rus_text_pesni/rus_text_pesni/65638-grigorijj-leps-moja-cyganskaja.html': 'Первый Куплет: Григорий Лепс В сон мне - желтые огни, И хриплю во сне я: - Повремени, повремени,- Утро мудренее! Но и утром всё не так, Нет того веселья: Либо куришь да натощак, Или пьешь с похмелья. Припев: Да эгэЭх раз! Да еще раз! Да еще много-много-много-много-много раз! Да что ты?! Да еще раз! Или пьешь с похмелья? Второй Куплет: Григорий Лепс В кабаках - зеленый штоф, Белые салфетки. Рай для нищих и шутов, Мне ж - как птице в клетке! В церкви смрад и полумрак, Дьяки, дьяки курят ладан. Нет! И в церкви все не так, Все не так, все не так,как надо. Припев: Да эгэЭх раз! Да еще раз! Да еще много-много-много-много-много раз! Да что ты?! Да еще раз! Или пьешь с похмелья? Третий Куплет: Григорий Лепс Я та на гору впопыхах, Чтоб чего не вышло. А на горе стоит ольха, А под горою вишня. Хоть бы склон увить плющом, Да мне б и то отрада, Хоть бы что-нибудь еще... Все не так, как надо! Припев: Да эгэЭх раз! Да еще раз! Да еще много-много-много-много-много раз! Да что ты?! Да еще раз! Или пьешь с похмелья? Четвертый Куплет: Григорий Лепс Я тогда по полю, вдоль реки. Света - тьма, нет бога! А в чистом поле да васильки, Дальняя дорога. Вдоль дороги - лес густой С Бабами-Ягами, А в конце дороги той - Плаха с топорами. Где-то кони пляшут в такт, Нехотя и плавно. Вдоль дороги все не так, А в конце - подавно. И ни церковь, да ни кабак - Да ничего не свято! Нет, ребята, все не так, Все не так, ребята! Припев: Эх раз! Да еще раз! Да еще много-много-много-много-много раз! Да что ты?! Да еще раз! Все не так, ребята!',\n",
       " 'https://text-you.ru/rus_text_pesni/rus_text_pesni/55326-grigorijj-leps-life-is-good.html': 'Припев: Life Is Good Life Is Good Life Is Good Life Is Good Life Is Good Life Is Good Life Is Good Life Is Good Первый Куплет: Григорий Лепс Время - ветер и песок. Дни сливаются в года. Но ты всю жизнь искал момент. В плену надежд, ошибок страсть. Я беру от жизни всё. Нету завтра, есть сейчас. Эта жизнь - водоворот. И падение и взлет. До мечты один лишь шаг. Припев: [x4] Life Is Good Life - скажем вместе! Life Is Good Life - этой песней! Life Is Good Life - жизнь прекрасна! Life Is Good Life… Второй Куплет: Григорий Лепс Объединяться, что бы жить. В надеждах встречи и мечты. Но я хочу здесь и сейчас. Жизнь, она для нас. Ведь мы для счастья рождены! Припев: [x2] Life Is Good Life - скажем вместе! Life Is Good Life - этой песней! Life Is Good Life - жизнь прекрасна! Life Is Good Life…',\n",
       " 'https://text-you.ru/rus_text_pesni/rus_text_pesni/23848-grigorijj-leps-staryjj-chjort.html': 'Расскажи мне старый чертГде мечта моя летала Жизнь кружила, срок истекЧасто суть на путь меняла Честь погибла от затратЛожью жить – моя привычкаЛесть дешевле во стократМежду строк всегда кавычка Припев: Я был неправ и с каждым шагомСтрадания и боль ношуОшибок было слишком многоНо я пока, еще дышу Подскажи мне старый чертГде мечта моя леталаДни мои наперечетИ душа куда пропала Страсть заснула, задохнуласьВсе надежды захлебнулисьВ старых грезах задушилаСлезы мудрость обнажила Припев: Я был неправ и с каждым шагомСтрадания и боль ношуОшибок было слишком многоНо я пока, еще дышу Верю, бог простит меняСтану каждый день менятьсяИ пути день ото дняЯ такЯ так устал бояться Припев: Я был неправ и с каждым шагомСтрадания и боль ношуОшибок было слишком многоНо я пока, еще дышуЕще дышу Расскажи мне старый чертРасскажи мне старый чертРасскажи мне старый чертСтарый черт',\n",
       " 'https://text-you.ru/rus_text_pesni/rus_text_pesni/76369-grigorijj-leps-rodina-mat.html': 'Разорвано небо, натянуты нервы Пусть смелое сердце поднимется первым Страх больше неведом, и все это знают Мы — сильные люди, своих не бросаем Родина-мать зовёт Не подведи её За тебя встану, Россия-мама Родина-мать зовёт Не подведи её За тебя встану, Россия-мама Понятие чести — святыня святая Девиз наш известен: «Своих не бросаем» С любовью, с надеждой и с верою встанем Сегодня, как прежде, своих не бросаем Родина-мать зовёт Не подведи её За тебя встану, Россия-мама Родина-мать зовёт Не подведи её За тебя встану, Россия-мама Родина-мать зовёт Не подведи её За тебя встану, Россия-мама Родина-мать зовёт Не подведи её За тебя встану, Россия-мама За тебя встану, Россия-мама',\n",
       " 'https://text-you.ru/rus_text_pesni/rus_text_pesni/65634-grigorijj-leps-rajjskie-jabloki.html': 'Куплеты: Григорий Лепс Я когда-то умру - мы когда-то всегда умираем,- Как бы так угадать, чтоб не сам - чтобы в спину ножом: Убиенных щадят, отпевают и балуют раем,- Не скажу про живых, а покойников мы бережем. В грязь ударю лицом, завалюсь покрасивее набок, И ударит душа на ворованных клячах в галоп. В дивных райских садах наберу бледно-розовых яблок. Жаль, сады сторожат и стреляют без промаха в лоб. Прискакали - гляжу - пред очами не райское что-то: Неродящий пустырь и сплошное ничто - беспредел. И среди ничего возвышались литые ворота, И огромный этап - тысяч пять - на коленях сидел. Как ржанет коренной! Я смирил его ласковым словом, Да репьи из мочал еле выдрал и гриву заплел. Седовласый старик слишком долго возился с засовом - И кряхтел и ворчал, и не смог отворить - и ушел. И измученный люд не издал ни единого стона, Лишь на корточки вдруг с онемевших колен пересел. Здесь малина, братва,- нас встречают малиновым звоном! Все вернулось на круг, и распятый над кругом висел. Всем нам блага подай, да и много ли требовал я благ? Мне - чтоб были друзья, да жена - чтобы пала на гроб,- Ну а я уж для них наберу бледно-розовых яблок. Жаль, сады сторожат и стреляют без промаха в лоб. Я узнал старика по слезам на щеках его дряблых: Это Петр Святой - он апостол, а я - остолоп. Вот и кущи-сады, в коих прорва мороженных яблок. Но сады сторожат - и убит я без промаха в лоб. И погнал я коней прочь от мест этих гнилых и зяблых,- Кони просят овсу, но и я закусил удила. Вдоль обрыва с кнутом по-над пропастью пазуху яблок Для тебя привезу: ты меня и из рая ждала!',\n",
       " 'https://text-you.ru/rus_text_pesni/rus_text_pesni/46766-grigorijj-leps-odin-fig.html': 'Первый Куплет: Григорий Лепс Казалось мне, бежали улицы вдаль и уводили тебя за собой. Казалось мне, небо - холодная сталь, сверкала и вызывала на бой. Казалось мне, каждый хотел дать совет, но я просил не лезть их. На самом деле уходил я, а ты стояла на месте. Припев: Время бить стёкла, время пить виски, Рука уже в небе и стакан близко. В глубине сердца затаился крик: \"Хоть плачь, хоть пой - один фиг!\" Второй Куплет: Григорий Лепс Казалось мне, так просто взять и уйти, и не терять себя в этой дыре. Но касание твоих обманчивых рук - и понимаю, что снова в игре. Ты сказала мне: \"Если тянуть до конца, любые струны рвутся.\" На самом деле уходил я, чтобы не вернуться. Припев: Время бить стёкла, время пить виски, Рука уже в небе и стакан близко. В глубине сердца затаился крик: \"Хоть плачь, хоть пой - один фиг!\"',\n",
       " 'https://text-you.ru/rus_text_pesni/rus_text_pesni/4561-grigorijj-leps-parus.html': 'А у дельфина взрезано брюхо винтом. Выстрела в спину не ожидает никто. На батарее нету снарядов уже. Надо быстрее на вираже. Парус! Порвали парус! Каюсь, каюсь, каюсь... Даже в дозоре можешь не встретить врага. Это не горе, если болит нога. Петли дверные многим скрипят, многим поют: - Кто вы такие? Вас здесь не ждут! Но парус! Порвали парус! Каюсь, каюсь, каюсь... Многие лета - тем, кто поет во сне. Все части света могут лежать на дне, Все континенты могут гореть в огне, Только все это не по мне. Но парус! Порвали парус! Каюсь, каюсь, каюсь...',\n",
       " 'https://text-you.ru/rus_text_pesni/rus_text_pesni/10161-grigorijj-leps-chernyjj-dozhd.html': 'Настроение на \"нет\", И везде погашен свет, Все равно здесь не на что смотреть. В клетке заперт я, как зверь И, хотя, я вижу дверь, Но, кто знает, может это смерть? То ли сердце дало сбой, То ли я пленен тобой? Где то рядом поселилась ложь. Есть предание одно: \"Если в мире все вверх дном, Из небес польется черный дождь\" Припев Черный дождь стучит по крыше, Льет коварно и не слышно. И за шторы проникает медленно. Черный дождь стучит по стеклам Так упорно и жестоко Шепчет, а душа не верит, бедная! Из твоих невнятных слов Про любовь и нелюбовь, Я, прости, не понял ничего. Но сомнений не унять, Стал смотреть я на тебя, Словно, я нашел в тебе жучок! Без доверья жить нельзя, Мир накренился скользя - Ты была в нем очень важный гвоздь. Есть поверие одно: \"В день, когда умрет любовь, Из небес польется черный дождь\" Припев Черный дождь стучит по крыше, Льет коварно и не слышно. И за шторы проникает медленно. Черный дождь стучит по стеклам Так упорно и жестоко Шепчет, а душа не верит, бедная!(3раза)',\n",
       " 'https://text-you.ru/rus_text_pesni/rus_text_pesni/4566-grigorijj-leps-ne-spitsja.html': 'Ох, не спится мне, не спится. У тебя снег на ресницах, Глаз озера голубые. У меня виски седые.  Ночи напролет не сплю я. Девочку мою такую Встретил - вот Амур-кудесник! - Младший сын мой ей ровесник.  Ты, наверное, от скуки Гладишь старческие руки, А при встрече у аллеи Поправляешь шарф на шее.  Ты не плачь, когда ревную: Поругаю - поцелую. Хорошо, что ты такая Ласковая и родная.  Мне теперь совсем не страшно Встретить смерть свою однажды. А она уже заочно Помахала мне платочком.  Ой, не спится мне, не спится, не спится. Глаз озера голубые. У меня виски седые. Ох, не спится мне, не спится, не спится.',\n",
       " 'https://text-you.ru/rus_text_pesni/rus_text_pesni/22663-grigorijj-leps-ja-vernu-tebja.html': 'Нет числа, этим нелепым днямКто же я без тебя, видно уже не я Мой рассвет, ты забрала с собойЯ подавляя стон, бросил любовь в огоньНо не знал что не горит любовь в огнеИ сквозь пепел возвращается ко мне Припев: Я верну тебя себеРазорвав на части бесконечность болиЯ верну себя тебеИ разрушив одиночества неволюЯ буду жить тобоюЯ верну тебя себе любой ценоюИ буду жить тобою Как я мог, столько держать в себеНе догадалась ты, с кем все мечты моиСто дорог что бы тебя найтиНо по какой бежать, ты же не будешь ждатьЯ узнал что не горит любовь в огнеЯрким светом путь к тебе укажет мне Припев: Я верну тебя себеРазорвав на части бесконечность боли (спасая жизнь любовью)Я верну себя тебеИ разрушив одиночества неволюЯ буду жить тобою Я верну тебя себеРазорвав на части бесконечность боли (спасая жизнь любовью)Я верну себя тебеИ разрушив одиночества неволюЯ буду жить тобою Я верну тебя себе любой ценоюЯ буду жить тобою',\n",
       " 'https://text-you.ru/rus_text_pesni/rus_text_pesni/4559-grigorijj-leps-vjuga.html': 'Где-то там За окном Ходит зима Сеет снег Белый снег Ночью и днем И меня тишиной Сводит с ума И опять не уснуть В доме пустом  Тихо Саваном белым Вьюга Дом мой укрой Где-то ты засыпаешь Где-то, но не со мной  Где-то там В тишине Ходит февраль И ему Как и мне Сон не найти Где-то там Вдалеке Никогда ты не поймешь Где-то там Не со мной Так и не узнаешь ты  Кружит Белая вьюга Тихо Ходит зима Слышишь Как замерзаю Снова Я без тебя  Эяяяяау  Тихо Саваном белым Вьюга Дом мой укрой Где-то ты засыпаешь Где-то, но не со мной  Кружит Белая вьюга Тихо Ходит зима Слышишь Как замерзаю Снова Я без тебя',\n",
       " 'https://text-you.ru/rus_text_pesni/rus_text_pesni/4567-grigorijj-leps-nostalgija.html': 'Золотится в бокале вино В сигаретном дыму ностальгии. Мы с тобою, мой друг, так давно Не бывали в далекой России. Где-то там, за этапами дней Наша юность с тобой отсмеялась. В бесприютном раю лагерей, Как заложница, память осталась.  Сколько дней и воды утекло, И дождями мечты отшумели. Но живем, несмотря ни на что, Только волосы вот побелели. За туманами дальних морей, Где и люди, и песни другие, Бросив якорь, мы пьем за друзей В сигаретном дыму ностальгии.  Не забыть Богом проклятых мест, Без веселого солнца и лета, Где несли мы нелегкий свой крест За чертой тишины и рассвета. Боль под сердцем сжималась в кулак От прикладов, побоев и мата. Снится нам вой конвойных собак И свинцовая трель автомата.  Сколько дней и воды утекло, И дождями мечты отшумели. Но живем, несмотря ни на что, Только волосы вот побелели. За туманами дальних морей, Где и люди, и песни другие, Бросив якорь, мы пьем за друзей В сигаретном дыму ностальгии.  Но однажды билеты возьмем И вернемся в далекие годы, Где простуженный гул поездов Замерзает на рельсах свободы. Там осталось немало друзей, С кем мы горечь и радость делили. И где-то там, за этапами дней Мы такими счастливыми были.  Сколько дней и воды утекло, И дождями мечты отшумели. Но живем, несмотря ни на что, Только волосы вот побелели. За туманами дальних морей, Где и люди, и песни другие, Бросив якорь, мы пьем за друзей В сигаретном дыму ностальгии.',\n",
       " 'https://text-you.ru/rus_text_pesni/rus_text_pesni/46765-grigorijj-leps-bez-tebja.html': 'Смотри, что в моём сердце: Меняем местами чувства, лечим раны. Ещё немного в гору, и будет легче Бежать от веры и от правды. Смотри, что будет после... Ещё немного дальше, и будет поздно. А так хотелось любви и ласки. Улицы города словно артерии, Чаще дыхание, выше давление. Лечу в самое сердце, Где ночи ярче, чем дни, Где диджей крутит винил, Где не остаться в тени, И где нам было хорошо, Где небо падает вниз, Где не подарок, а приз, Где ошибусь этажом, И будет, и будет хорошо Без тебя! Смотри, что в твоём сердце: Лужи превратились в океаны. Ещё немного позже мне будет легче, Я утоплю наши идеалы. Помнишь, как было раньше: Над головою звезды, внутри торнадо. Коварно и так просто, без злат и фальши, Золото – координата страха.',\n",
       " 'https://text-you.ru/rus_text_pesni/rus_text_pesni/4564-grigorijj-leps-krysa-revnost.html': 'Чем меньше знаешь, лучше спишь - Теперь я на себе проверил. Кто это выдумал, конечно, Был мудрый черт, Он знал потери. Куда луна с небес ушла? Ушла сиять в чужой постели. И крови требует душа, А разум возразить не смеет. И эта боль дает мне власть, И я парю на черных крыльях, Как будто сердце из стекла Дракона кровью вдруг налилось. Я так хочу спасти тебя, Но защищаю неумело. В мозгу пульсируют слова: Как ты могла? Как ты посмела??  Поселилась и пригрелась В моем сердце крыса-ревность. Гложет сердце крыса-ревность. Я могу убить ее, Но вместе с ней убью и сердце я.  Запущен дом, в пыли мозги. Я, как лимон на рыбу, выжат. Я пью водяру от тоски, И наяву чертей я вижу. Себе не в силах отказать В слюнявой, слабенькой надежде, Что ты придешь в мою кровать Так нежно, нежно - Все, как прежде. И эта боль дает мне власть, Рука сильна и поступь смела, Но сердце не дает понять: \"Как ты могла? Как ты посмела?\". Не может все, как прежде, быть - Измена: нет живучей слова. Не сможем мы ее забыть. И все по кругу: Снова, снова, снова.  Поселилась и пригрелась В моем сердце крыса-ревность. Гложет сердце крыса-ревность. Я могу убить ее, Но вместе с ней убью и сердце я.',\n",
       " 'https://text-you.ru/rus_text_pesni/rus_text_pesni/46827-grigorijj-leps-vremja.html': 'Первый Куплет: Григорий Лепс Ты думала ничего не случится Бери река, душа — птица. Что заблудившись в поисках рая. Края где уже не летаю. Ты думала ничего не случится Время летя, душа — птица. Но по законам людской природы, И у терпения есть горизонты. Хватит, кто заварил, тот платит. Припев: Закрой двери, закрась окна. Там под сердцем душа мокнет. Там под небом белые полосы Ангелы делят. Замри солнце, усни в прошлом. Любовь — жребий, кто кем брошен. Да, ты можешь остановить часы, Но не остановишь время. Но не остановишь время. Второй Куплет: Григорий Лепс Ты думала ничего не проверить, И постоянно меняла берег, Но оставалось пустынно небо. Пока доверие было слепо Ты выбирала другую свободу, Но она падала камнем в воду. Пока на дно опускались чувства, Река свое изменяла русло. Хватит, кто заварил, тот платит. Припев: Закрой двери, закрась окна. Там под сердцем душа мокнет. Там под небом белые полосы Ангелы делят. Замри солнце, усни в прошлом. Любовь — жребий, кто кем брошен. Да, ты можешь остановить часы, Но не остановишь время. Но не остановишь время. Хватит, кто заварил, тот платит. Закрой двери, закрась окна. Там под сердцем душа мокнет. Там под небом белые полосы Ангелы делят. Замри солнце, усни в прошлом. Любовь — жребий, кто кем брошен. Да, ты можешь остановить часы, Но не остановишь время. Но не остановишь время.',\n",
       " 'https://text-you.ru/rus_text_pesni/rus_text_pesni/4568-grigorijj-leps-ona-byla-chista-kak-sneg-zimojj.html': 'Она была чиста как снег зимой. В грязь - соболя,- иди по ним - по праву... Но вот мне руки жжет ея письмо - Я узнаю мучительную правду...  Не ведал я: страданье - только маска, И маскарад закончится сейчас,- Да, в этот раз я потерпел фиаско - Надеюсь, это был последний раз.  Подумал я: дни сочтены мои, Дурная кровь в мои проникла вены,- Я сжал письмо как голову змеи - Сквозь пальцы просочился яд измены.  Не ведать мне страданий и агоний, Мне встречный ветер слезы оботрет, Моих коней обида не нагонит, Моих следов метель не заметет.  Итак, я оставляю позади, Под этим серым неприглядным небом, Дурман фиалок, наготу гвоздик И слезы вперемешку с талым снегом.  Москва слезам не верит и слезинкам - И взять мне нечего, но нечего и дать,- Спешу навстречу новым поединкам - И, как всегда, намерен побеждать!',\n",
       " 'https://text-you.ru/rus_text_pesni/rus_text_pesni/10159-grigorijj-leps-bozhe-kak-dolgo.html': 'Месяц назад любовался тобой, словно, я сам тебя создал. Месяц назад, как русалку из волн, ласково, ласково звал. Я разбудил проливные дожди, плакал растроганный воздух, Но ничего я не мог изменить в этих наивных глазах. Припев: Боже, как долго, долго, Как долго думала ты! Боже, как долго, долго, Как долго думала ты! Цветы все увяли, в моем сердце, Просто увяли! Кажеться, я - в твоих детских руках - сложная слишком игрушка, Вертишь ее, и не можешь понять, что тебе делать теперь. Я же просил: Просто реши: нужен я или не нужен!!! Этот вопрос удивительно прост, на не по силам тебе!!! Припев: Боже, как долго, долго, Как долго думала ты! Боже, как долго, долго, Как долго думала ты! Цветы все увяли, в моем сердце, Просто увяли! Боже, как долго, долго, Как долго думала ты! (4 раза) Цветы все увяли, в моем сердце, Просто увяли!'}"
      ]
     },
     "execution_count": 30,
     "metadata": {},
     "output_type": "execute_result"
    }
   ],
   "source": [
    "parsed_songs"
   ]
  },
  {
   "cell_type": "code",
   "execution_count": 31,
   "id": "4fc1b68c",
   "metadata": {},
   "outputs": [
    {
     "data": {
      "text/plain": [
       "'Месяц назад любовался тобой, словно, я сам тебя создал. Месяц назад, как русалку из волн, ласково, ласково звал. Я разбудил проливные дожди, плакал растроганный воздух, Но ничего я не мог изменить в этих наивных глазах. Припев: Боже, как долго, долго, Как долго думала ты! Боже, как долго, долго, Как долго думала ты! Цветы все увяли, в моем сердце, Просто увяли! Кажеться, я - в твоих детских руках - сложная слишком игрушка, Вертишь ее, и не можешь понять, что тебе делать теперь. Я же просил: Просто реши: нужен я или не нужен!!! Этот вопрос удивительно прост, на не по силам тебе!!! Припев: Боже, как долго, долго, Как долго думала ты! Боже, как долго, долго, Как долго думала ты! Цветы все увяли, в моем сердце, Просто увяли! Боже, как долго, долго, Как долго думала ты! (4 раза) Цветы все увяли, в моем сердце, Просто увяли!'"
      ]
     },
     "execution_count": 31,
     "metadata": {},
     "output_type": "execute_result"
    }
   ],
   "source": [
    "parsed_songs[song_name]"
   ]
  },
  {
   "cell_type": "code",
   "execution_count": 36,
   "id": "3c1187a7",
   "metadata": {},
   "outputs": [
    {
     "data": {
      "text/html": [
       "<div>\n",
       "<style scoped>\n",
       "    .dataframe tbody tr th:only-of-type {\n",
       "        vertical-align: middle;\n",
       "    }\n",
       "\n",
       "    .dataframe tbody tr th {\n",
       "        vertical-align: top;\n",
       "    }\n",
       "\n",
       "    .dataframe thead th {\n",
       "        text-align: right;\n",
       "    }\n",
       "</style>\n",
       "<table border=\"1\" class=\"dataframe\">\n",
       "  <thead>\n",
       "    <tr style=\"text-align: right;\">\n",
       "      <th></th>\n",
       "      <th>url</th>\n",
       "      <th>text</th>\n",
       "    </tr>\n",
       "  </thead>\n",
       "  <tbody>\n",
       "    <tr>\n",
       "      <th>0</th>\n",
       "      <td>https://text-you.ru/rus_text_pesni/rus_text_pe...</td>\n",
       "      <td>Кажется мне, что мы с тобою одно. Но мир опять...</td>\n",
       "    </tr>\n",
       "    <tr>\n",
       "      <th>1</th>\n",
       "      <td>https://text-you.ru/rus_text_pesni/rus_text_pe...</td>\n",
       "      <td>Нет проигранных битв, нет нарушенных клятв Он ...</td>\n",
       "    </tr>\n",
       "    <tr>\n",
       "      <th>2</th>\n",
       "      <td>https://text-you.ru/rus_text_pesni/rus_text_pe...</td>\n",
       "      <td>F В голове сколько мыслей, кому их рассказать?...</td>\n",
       "    </tr>\n",
       "    <tr>\n",
       "      <th>3</th>\n",
       "      <td>https://text-you.ru/rus_text_pesni/rus_text_pe...</td>\n",
       "      <td>Куплет 1: Дело сделано - ты поверила мне. Бело...</td>\n",
       "    </tr>\n",
       "    <tr>\n",
       "      <th>4</th>\n",
       "      <td>https://text-you.ru/rus_text_pesni/rus_text_pe...</td>\n",
       "      <td>Жизнь я рисовал с линейкою прямой, Я разрубал ...</td>\n",
       "    </tr>\n",
       "  </tbody>\n",
       "</table>\n",
       "</div>"
      ],
      "text/plain": [
       "                                                 url  \\\n",
       "0  https://text-you.ru/rus_text_pesni/rus_text_pe...   \n",
       "1  https://text-you.ru/rus_text_pesni/rus_text_pe...   \n",
       "2  https://text-you.ru/rus_text_pesni/rus_text_pe...   \n",
       "3  https://text-you.ru/rus_text_pesni/rus_text_pe...   \n",
       "4  https://text-you.ru/rus_text_pesni/rus_text_pe...   \n",
       "\n",
       "                                                text  \n",
       "0  Кажется мне, что мы с тобою одно. Но мир опять...  \n",
       "1  Нет проигранных битв, нет нарушенных клятв Он ...  \n",
       "2  F В голове сколько мыслей, кому их рассказать?...  \n",
       "3  Куплет 1: Дело сделано - ты поверила мне. Бело...  \n",
       "4  Жизнь я рисовал с линейкою прямой, Я разрубал ...  "
      ]
     },
     "execution_count": 36,
     "metadata": {},
     "output_type": "execute_result"
    }
   ],
   "source": [
    "parsed_df = pd.DataFrame.from_dict(parsed_songs, orient='index').reset_index()\n",
    "parsed_df = parsed_df.rename(columns={'index': 'url', 0: 'text'})\n",
    "parsed_df.head()"
   ]
  },
  {
   "cell_type": "code",
   "execution_count": 40,
   "id": "557afc33",
   "metadata": {},
   "outputs": [],
   "source": [
    "parsed_df.to_csv('leps.csv') # original"
   ]
  },
  {
   "cell_type": "code",
   "execution_count": 39,
   "id": "4fd784a8",
   "metadata": {},
   "outputs": [],
   "source": [
    "parsed_df.to_csv('leps_1.csv', index=False)"
   ]
  },
  {
   "cell_type": "code",
   "execution_count": null,
   "id": "65baf51a",
   "metadata": {},
   "outputs": [],
   "source": []
  }
 ],
 "metadata": {
  "kernelspec": {
   "display_name": "Python 3 (ipykernel)",
   "language": "python",
   "name": "python3"
  },
  "language_info": {
   "codemirror_mode": {
    "name": "ipython",
    "version": 3
   },
   "file_extension": ".py",
   "mimetype": "text/x-python",
   "name": "python",
   "nbconvert_exporter": "python",
   "pygments_lexer": "ipython3",
   "version": "3.9.13"
  }
 },
 "nbformat": 4,
 "nbformat_minor": 5
}
